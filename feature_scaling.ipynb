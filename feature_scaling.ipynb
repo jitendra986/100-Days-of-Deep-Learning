{
  "nbformat": 4,
  "nbformat_minor": 0,
  "metadata": {
    "colab": {
      "provenance": [],
      "authorship_tag": "ABX9TyNYJH9SuDLYj+hw4wv9VOuA",
      "include_colab_link": true
    },
    "kernelspec": {
      "name": "python3",
      "display_name": "Python 3"
    },
    "language_info": {
      "name": "python"
    }
  },
  "cells": [
    {
      "cell_type": "markdown",
      "metadata": {
        "id": "view-in-github",
        "colab_type": "text"
      },
      "source": [
        "<a href=\"https://colab.research.google.com/github/jitendra986/100-Days-of-Deep-Learning/blob/main/feature_scaling.ipynb\" target=\"_parent\"><img src=\"https://colab.research.google.com/assets/colab-badge.svg\" alt=\"Open In Colab\"/></a>"
      ]
    },
    {
      "cell_type": "code",
      "execution_count": 1,
      "metadata": {
        "colab": {
          "base_uri": "https://localhost:8080/"
        },
        "id": "8mcfPRvYvYL7",
        "outputId": "8d6d67c6-3e7d-4394-b012-d7ca24b8f364"
      },
      "outputs": [
        {
          "output_type": "stream",
          "name": "stdout",
          "text": [
            "Mounted at /content/drive\n"
          ]
        }
      ],
      "source": [
        "# This Python 3 environment comes with many helpful analytics libraries installed\n",
        "# It is defined by the kaggle/python Docker image: https://github.com/kaggle/docker-python\n",
        "# For example, here's several helpful packages to load\n",
        "\n",
        "import numpy as np # linear algebra\n",
        "import pandas as pd # data processing, CSV file I/O (e.g. pd.read_csv)\n",
        "from google.colab import drive\n",
        "\n",
        "drive.mount('/content/drive')\n"
      ]
    },
    {
      "cell_type": "code",
      "source": [
        "df = pd.read_csv('/content/drive/My Drive/Colab_Notebooks/Social_Network_Ads.csv')"
      ],
      "metadata": {
        "id": "3Dh34xYXvgwD"
      },
      "execution_count": 2,
      "outputs": []
    },
    {
      "cell_type": "code",
      "source": [
        "df"
      ],
      "metadata": {
        "colab": {
          "base_uri": "https://localhost:8080/",
          "height": 423
        },
        "id": "8_g9YrdoyUI1",
        "outputId": "0ccfe218-570b-4025-e2c7-756ef9d8667f"
      },
      "execution_count": 3,
      "outputs": [
        {
          "output_type": "execute_result",
          "data": {
            "text/plain": [
              "      User ID  Gender  Age  EstimatedSalary  Purchased\n",
              "0    15624510    Male   19            19000          0\n",
              "1    15810944    Male   35            20000          0\n",
              "2    15668575  Female   26            43000          0\n",
              "3    15603246  Female   27            57000          0\n",
              "4    15804002    Male   19            76000          0\n",
              "..        ...     ...  ...              ...        ...\n",
              "395  15691863  Female   46            41000          1\n",
              "396  15706071    Male   51            23000          1\n",
              "397  15654296  Female   50            20000          1\n",
              "398  15755018    Male   36            33000          0\n",
              "399  15594041  Female   49            36000          1\n",
              "\n",
              "[400 rows x 5 columns]"
            ],
            "text/html": [
              "\n",
              "\n",
              "  <div id=\"df-17820056-7143-4e63-be85-2295f6458fc9\">\n",
              "    <div class=\"colab-df-container\">\n",
              "      <div>\n",
              "<style scoped>\n",
              "    .dataframe tbody tr th:only-of-type {\n",
              "        vertical-align: middle;\n",
              "    }\n",
              "\n",
              "    .dataframe tbody tr th {\n",
              "        vertical-align: top;\n",
              "    }\n",
              "\n",
              "    .dataframe thead th {\n",
              "        text-align: right;\n",
              "    }\n",
              "</style>\n",
              "<table border=\"1\" class=\"dataframe\">\n",
              "  <thead>\n",
              "    <tr style=\"text-align: right;\">\n",
              "      <th></th>\n",
              "      <th>User ID</th>\n",
              "      <th>Gender</th>\n",
              "      <th>Age</th>\n",
              "      <th>EstimatedSalary</th>\n",
              "      <th>Purchased</th>\n",
              "    </tr>\n",
              "  </thead>\n",
              "  <tbody>\n",
              "    <tr>\n",
              "      <th>0</th>\n",
              "      <td>15624510</td>\n",
              "      <td>Male</td>\n",
              "      <td>19</td>\n",
              "      <td>19000</td>\n",
              "      <td>0</td>\n",
              "    </tr>\n",
              "    <tr>\n",
              "      <th>1</th>\n",
              "      <td>15810944</td>\n",
              "      <td>Male</td>\n",
              "      <td>35</td>\n",
              "      <td>20000</td>\n",
              "      <td>0</td>\n",
              "    </tr>\n",
              "    <tr>\n",
              "      <th>2</th>\n",
              "      <td>15668575</td>\n",
              "      <td>Female</td>\n",
              "      <td>26</td>\n",
              "      <td>43000</td>\n",
              "      <td>0</td>\n",
              "    </tr>\n",
              "    <tr>\n",
              "      <th>3</th>\n",
              "      <td>15603246</td>\n",
              "      <td>Female</td>\n",
              "      <td>27</td>\n",
              "      <td>57000</td>\n",
              "      <td>0</td>\n",
              "    </tr>\n",
              "    <tr>\n",
              "      <th>4</th>\n",
              "      <td>15804002</td>\n",
              "      <td>Male</td>\n",
              "      <td>19</td>\n",
              "      <td>76000</td>\n",
              "      <td>0</td>\n",
              "    </tr>\n",
              "    <tr>\n",
              "      <th>...</th>\n",
              "      <td>...</td>\n",
              "      <td>...</td>\n",
              "      <td>...</td>\n",
              "      <td>...</td>\n",
              "      <td>...</td>\n",
              "    </tr>\n",
              "    <tr>\n",
              "      <th>395</th>\n",
              "      <td>15691863</td>\n",
              "      <td>Female</td>\n",
              "      <td>46</td>\n",
              "      <td>41000</td>\n",
              "      <td>1</td>\n",
              "    </tr>\n",
              "    <tr>\n",
              "      <th>396</th>\n",
              "      <td>15706071</td>\n",
              "      <td>Male</td>\n",
              "      <td>51</td>\n",
              "      <td>23000</td>\n",
              "      <td>1</td>\n",
              "    </tr>\n",
              "    <tr>\n",
              "      <th>397</th>\n",
              "      <td>15654296</td>\n",
              "      <td>Female</td>\n",
              "      <td>50</td>\n",
              "      <td>20000</td>\n",
              "      <td>1</td>\n",
              "    </tr>\n",
              "    <tr>\n",
              "      <th>398</th>\n",
              "      <td>15755018</td>\n",
              "      <td>Male</td>\n",
              "      <td>36</td>\n",
              "      <td>33000</td>\n",
              "      <td>0</td>\n",
              "    </tr>\n",
              "    <tr>\n",
              "      <th>399</th>\n",
              "      <td>15594041</td>\n",
              "      <td>Female</td>\n",
              "      <td>49</td>\n",
              "      <td>36000</td>\n",
              "      <td>1</td>\n",
              "    </tr>\n",
              "  </tbody>\n",
              "</table>\n",
              "<p>400 rows × 5 columns</p>\n",
              "</div>\n",
              "      <button class=\"colab-df-convert\" onclick=\"convertToInteractive('df-17820056-7143-4e63-be85-2295f6458fc9')\"\n",
              "              title=\"Convert this dataframe to an interactive table.\"\n",
              "              style=\"display:none;\">\n",
              "\n",
              "  <svg xmlns=\"http://www.w3.org/2000/svg\" height=\"24px\"viewBox=\"0 0 24 24\"\n",
              "       width=\"24px\">\n",
              "    <path d=\"M0 0h24v24H0V0z\" fill=\"none\"/>\n",
              "    <path d=\"M18.56 5.44l.94 2.06.94-2.06 2.06-.94-2.06-.94-.94-2.06-.94 2.06-2.06.94zm-11 1L8.5 8.5l.94-2.06 2.06-.94-2.06-.94L8.5 2.5l-.94 2.06-2.06.94zm10 10l.94 2.06.94-2.06 2.06-.94-2.06-.94-.94-2.06-.94 2.06-2.06.94z\"/><path d=\"M17.41 7.96l-1.37-1.37c-.4-.4-.92-.59-1.43-.59-.52 0-1.04.2-1.43.59L10.3 9.45l-7.72 7.72c-.78.78-.78 2.05 0 2.83L4 21.41c.39.39.9.59 1.41.59.51 0 1.02-.2 1.41-.59l7.78-7.78 2.81-2.81c.8-.78.8-2.07 0-2.86zM5.41 20L4 18.59l7.72-7.72 1.47 1.35L5.41 20z\"/>\n",
              "  </svg>\n",
              "      </button>\n",
              "\n",
              "\n",
              "\n",
              "    <div id=\"df-91bd8663-c398-4c91-a773-cea63f26a91e\">\n",
              "      <button class=\"colab-df-quickchart\" onclick=\"quickchart('df-91bd8663-c398-4c91-a773-cea63f26a91e')\"\n",
              "              title=\"Suggest charts.\"\n",
              "              style=\"display:none;\">\n",
              "\n",
              "<svg xmlns=\"http://www.w3.org/2000/svg\" height=\"24px\"viewBox=\"0 0 24 24\"\n",
              "     width=\"24px\">\n",
              "    <g>\n",
              "        <path d=\"M19 3H5c-1.1 0-2 .9-2 2v14c0 1.1.9 2 2 2h14c1.1 0 2-.9 2-2V5c0-1.1-.9-2-2-2zM9 17H7v-7h2v7zm4 0h-2V7h2v10zm4 0h-2v-4h2v4z\"/>\n",
              "    </g>\n",
              "</svg>\n",
              "      </button>\n",
              "    </div>\n",
              "\n",
              "<style>\n",
              "  .colab-df-quickchart {\n",
              "    background-color: #E8F0FE;\n",
              "    border: none;\n",
              "    border-radius: 50%;\n",
              "    cursor: pointer;\n",
              "    display: none;\n",
              "    fill: #1967D2;\n",
              "    height: 32px;\n",
              "    padding: 0 0 0 0;\n",
              "    width: 32px;\n",
              "  }\n",
              "\n",
              "  .colab-df-quickchart:hover {\n",
              "    background-color: #E2EBFA;\n",
              "    box-shadow: 0px 1px 2px rgba(60, 64, 67, 0.3), 0px 1px 3px 1px rgba(60, 64, 67, 0.15);\n",
              "    fill: #174EA6;\n",
              "  }\n",
              "\n",
              "  [theme=dark] .colab-df-quickchart {\n",
              "    background-color: #3B4455;\n",
              "    fill: #D2E3FC;\n",
              "  }\n",
              "\n",
              "  [theme=dark] .colab-df-quickchart:hover {\n",
              "    background-color: #434B5C;\n",
              "    box-shadow: 0px 1px 3px 1px rgba(0, 0, 0, 0.15);\n",
              "    filter: drop-shadow(0px 1px 2px rgba(0, 0, 0, 0.3));\n",
              "    fill: #FFFFFF;\n",
              "  }\n",
              "</style>\n",
              "\n",
              "    <script>\n",
              "      async function quickchart(key) {\n",
              "        const containerElement = document.querySelector('#' + key);\n",
              "        const charts = await google.colab.kernel.invokeFunction(\n",
              "            'suggestCharts', [key], {});\n",
              "      }\n",
              "    </script>\n",
              "\n",
              "      <script>\n",
              "\n",
              "function displayQuickchartButton(domScope) {\n",
              "  let quickchartButtonEl =\n",
              "    domScope.querySelector('#df-91bd8663-c398-4c91-a773-cea63f26a91e button.colab-df-quickchart');\n",
              "  quickchartButtonEl.style.display =\n",
              "    google.colab.kernel.accessAllowed ? 'block' : 'none';\n",
              "}\n",
              "\n",
              "        displayQuickchartButton(document);\n",
              "      </script>\n",
              "      <style>\n",
              "    .colab-df-container {\n",
              "      display:flex;\n",
              "      flex-wrap:wrap;\n",
              "      gap: 12px;\n",
              "    }\n",
              "\n",
              "    .colab-df-convert {\n",
              "      background-color: #E8F0FE;\n",
              "      border: none;\n",
              "      border-radius: 50%;\n",
              "      cursor: pointer;\n",
              "      display: none;\n",
              "      fill: #1967D2;\n",
              "      height: 32px;\n",
              "      padding: 0 0 0 0;\n",
              "      width: 32px;\n",
              "    }\n",
              "\n",
              "    .colab-df-convert:hover {\n",
              "      background-color: #E2EBFA;\n",
              "      box-shadow: 0px 1px 2px rgba(60, 64, 67, 0.3), 0px 1px 3px 1px rgba(60, 64, 67, 0.15);\n",
              "      fill: #174EA6;\n",
              "    }\n",
              "\n",
              "    [theme=dark] .colab-df-convert {\n",
              "      background-color: #3B4455;\n",
              "      fill: #D2E3FC;\n",
              "    }\n",
              "\n",
              "    [theme=dark] .colab-df-convert:hover {\n",
              "      background-color: #434B5C;\n",
              "      box-shadow: 0px 1px 3px 1px rgba(0, 0, 0, 0.15);\n",
              "      filter: drop-shadow(0px 1px 2px rgba(0, 0, 0, 0.3));\n",
              "      fill: #FFFFFF;\n",
              "    }\n",
              "  </style>\n",
              "\n",
              "      <script>\n",
              "        const buttonEl =\n",
              "          document.querySelector('#df-17820056-7143-4e63-be85-2295f6458fc9 button.colab-df-convert');\n",
              "        buttonEl.style.display =\n",
              "          google.colab.kernel.accessAllowed ? 'block' : 'none';\n",
              "\n",
              "        async function convertToInteractive(key) {\n",
              "          const element = document.querySelector('#df-17820056-7143-4e63-be85-2295f6458fc9');\n",
              "          const dataTable =\n",
              "            await google.colab.kernel.invokeFunction('convertToInteractive',\n",
              "                                                     [key], {});\n",
              "          if (!dataTable) return;\n",
              "\n",
              "          const docLinkHtml = 'Like what you see? Visit the ' +\n",
              "            '<a target=\"_blank\" href=https://colab.research.google.com/notebooks/data_table.ipynb>data table notebook</a>'\n",
              "            + ' to learn more about interactive tables.';\n",
              "          element.innerHTML = '';\n",
              "          dataTable['output_type'] = 'display_data';\n",
              "          await google.colab.output.renderOutput(dataTable, element);\n",
              "          const docLink = document.createElement('div');\n",
              "          docLink.innerHTML = docLinkHtml;\n",
              "          element.appendChild(docLink);\n",
              "        }\n",
              "      </script>\n",
              "    </div>\n",
              "  </div>\n"
            ]
          },
          "metadata": {},
          "execution_count": 3
        }
      ]
    },
    {
      "cell_type": "code",
      "source": [
        "df = df.iloc[:,2:]\n",
        "df.head()"
      ],
      "metadata": {
        "colab": {
          "base_uri": "https://localhost:8080/",
          "height": 206
        },
        "id": "_E4OAxVvwtOX",
        "outputId": "5616fe7e-0b04-4203-c7fe-de27b7800b66"
      },
      "execution_count": 25,
      "outputs": [
        {
          "output_type": "execute_result",
          "data": {
            "text/plain": [
              "   Purchased\n",
              "0          0\n",
              "1          0\n",
              "2          0\n",
              "3          0\n",
              "4          0"
            ],
            "text/html": [
              "\n",
              "\n",
              "  <div id=\"df-88f94f7d-c0e9-4f2f-ba1a-674f21ea7280\">\n",
              "    <div class=\"colab-df-container\">\n",
              "      <div>\n",
              "<style scoped>\n",
              "    .dataframe tbody tr th:only-of-type {\n",
              "        vertical-align: middle;\n",
              "    }\n",
              "\n",
              "    .dataframe tbody tr th {\n",
              "        vertical-align: top;\n",
              "    }\n",
              "\n",
              "    .dataframe thead th {\n",
              "        text-align: right;\n",
              "    }\n",
              "</style>\n",
              "<table border=\"1\" class=\"dataframe\">\n",
              "  <thead>\n",
              "    <tr style=\"text-align: right;\">\n",
              "      <th></th>\n",
              "      <th>Purchased</th>\n",
              "    </tr>\n",
              "  </thead>\n",
              "  <tbody>\n",
              "    <tr>\n",
              "      <th>0</th>\n",
              "      <td>0</td>\n",
              "    </tr>\n",
              "    <tr>\n",
              "      <th>1</th>\n",
              "      <td>0</td>\n",
              "    </tr>\n",
              "    <tr>\n",
              "      <th>2</th>\n",
              "      <td>0</td>\n",
              "    </tr>\n",
              "    <tr>\n",
              "      <th>3</th>\n",
              "      <td>0</td>\n",
              "    </tr>\n",
              "    <tr>\n",
              "      <th>4</th>\n",
              "      <td>0</td>\n",
              "    </tr>\n",
              "  </tbody>\n",
              "</table>\n",
              "</div>\n",
              "      <button class=\"colab-df-convert\" onclick=\"convertToInteractive('df-88f94f7d-c0e9-4f2f-ba1a-674f21ea7280')\"\n",
              "              title=\"Convert this dataframe to an interactive table.\"\n",
              "              style=\"display:none;\">\n",
              "\n",
              "  <svg xmlns=\"http://www.w3.org/2000/svg\" height=\"24px\"viewBox=\"0 0 24 24\"\n",
              "       width=\"24px\">\n",
              "    <path d=\"M0 0h24v24H0V0z\" fill=\"none\"/>\n",
              "    <path d=\"M18.56 5.44l.94 2.06.94-2.06 2.06-.94-2.06-.94-.94-2.06-.94 2.06-2.06.94zm-11 1L8.5 8.5l.94-2.06 2.06-.94-2.06-.94L8.5 2.5l-.94 2.06-2.06.94zm10 10l.94 2.06.94-2.06 2.06-.94-2.06-.94-.94-2.06-.94 2.06-2.06.94z\"/><path d=\"M17.41 7.96l-1.37-1.37c-.4-.4-.92-.59-1.43-.59-.52 0-1.04.2-1.43.59L10.3 9.45l-7.72 7.72c-.78.78-.78 2.05 0 2.83L4 21.41c.39.39.9.59 1.41.59.51 0 1.02-.2 1.41-.59l7.78-7.78 2.81-2.81c.8-.78.8-2.07 0-2.86zM5.41 20L4 18.59l7.72-7.72 1.47 1.35L5.41 20z\"/>\n",
              "  </svg>\n",
              "      </button>\n",
              "\n",
              "\n",
              "\n",
              "    <div id=\"df-80490691-b891-45d4-b0cc-8caad184139d\">\n",
              "      <button class=\"colab-df-quickchart\" onclick=\"quickchart('df-80490691-b891-45d4-b0cc-8caad184139d')\"\n",
              "              title=\"Suggest charts.\"\n",
              "              style=\"display:none;\">\n",
              "\n",
              "<svg xmlns=\"http://www.w3.org/2000/svg\" height=\"24px\"viewBox=\"0 0 24 24\"\n",
              "     width=\"24px\">\n",
              "    <g>\n",
              "        <path d=\"M19 3H5c-1.1 0-2 .9-2 2v14c0 1.1.9 2 2 2h14c1.1 0 2-.9 2-2V5c0-1.1-.9-2-2-2zM9 17H7v-7h2v7zm4 0h-2V7h2v10zm4 0h-2v-4h2v4z\"/>\n",
              "    </g>\n",
              "</svg>\n",
              "      </button>\n",
              "    </div>\n",
              "\n",
              "<style>\n",
              "  .colab-df-quickchart {\n",
              "    background-color: #E8F0FE;\n",
              "    border: none;\n",
              "    border-radius: 50%;\n",
              "    cursor: pointer;\n",
              "    display: none;\n",
              "    fill: #1967D2;\n",
              "    height: 32px;\n",
              "    padding: 0 0 0 0;\n",
              "    width: 32px;\n",
              "  }\n",
              "\n",
              "  .colab-df-quickchart:hover {\n",
              "    background-color: #E2EBFA;\n",
              "    box-shadow: 0px 1px 2px rgba(60, 64, 67, 0.3), 0px 1px 3px 1px rgba(60, 64, 67, 0.15);\n",
              "    fill: #174EA6;\n",
              "  }\n",
              "\n",
              "  [theme=dark] .colab-df-quickchart {\n",
              "    background-color: #3B4455;\n",
              "    fill: #D2E3FC;\n",
              "  }\n",
              "\n",
              "  [theme=dark] .colab-df-quickchart:hover {\n",
              "    background-color: #434B5C;\n",
              "    box-shadow: 0px 1px 3px 1px rgba(0, 0, 0, 0.15);\n",
              "    filter: drop-shadow(0px 1px 2px rgba(0, 0, 0, 0.3));\n",
              "    fill: #FFFFFF;\n",
              "  }\n",
              "</style>\n",
              "\n",
              "    <script>\n",
              "      async function quickchart(key) {\n",
              "        const containerElement = document.querySelector('#' + key);\n",
              "        const charts = await google.colab.kernel.invokeFunction(\n",
              "            'suggestCharts', [key], {});\n",
              "      }\n",
              "    </script>\n",
              "\n",
              "      <script>\n",
              "\n",
              "function displayQuickchartButton(domScope) {\n",
              "  let quickchartButtonEl =\n",
              "    domScope.querySelector('#df-80490691-b891-45d4-b0cc-8caad184139d button.colab-df-quickchart');\n",
              "  quickchartButtonEl.style.display =\n",
              "    google.colab.kernel.accessAllowed ? 'block' : 'none';\n",
              "}\n",
              "\n",
              "        displayQuickchartButton(document);\n",
              "      </script>\n",
              "      <style>\n",
              "    .colab-df-container {\n",
              "      display:flex;\n",
              "      flex-wrap:wrap;\n",
              "      gap: 12px;\n",
              "    }\n",
              "\n",
              "    .colab-df-convert {\n",
              "      background-color: #E8F0FE;\n",
              "      border: none;\n",
              "      border-radius: 50%;\n",
              "      cursor: pointer;\n",
              "      display: none;\n",
              "      fill: #1967D2;\n",
              "      height: 32px;\n",
              "      padding: 0 0 0 0;\n",
              "      width: 32px;\n",
              "    }\n",
              "\n",
              "    .colab-df-convert:hover {\n",
              "      background-color: #E2EBFA;\n",
              "      box-shadow: 0px 1px 2px rgba(60, 64, 67, 0.3), 0px 1px 3px 1px rgba(60, 64, 67, 0.15);\n",
              "      fill: #174EA6;\n",
              "    }\n",
              "\n",
              "    [theme=dark] .colab-df-convert {\n",
              "      background-color: #3B4455;\n",
              "      fill: #D2E3FC;\n",
              "    }\n",
              "\n",
              "    [theme=dark] .colab-df-convert:hover {\n",
              "      background-color: #434B5C;\n",
              "      box-shadow: 0px 1px 3px 1px rgba(0, 0, 0, 0.15);\n",
              "      filter: drop-shadow(0px 1px 2px rgba(0, 0, 0, 0.3));\n",
              "      fill: #FFFFFF;\n",
              "    }\n",
              "  </style>\n",
              "\n",
              "      <script>\n",
              "        const buttonEl =\n",
              "          document.querySelector('#df-88f94f7d-c0e9-4f2f-ba1a-674f21ea7280 button.colab-df-convert');\n",
              "        buttonEl.style.display =\n",
              "          google.colab.kernel.accessAllowed ? 'block' : 'none';\n",
              "\n",
              "        async function convertToInteractive(key) {\n",
              "          const element = document.querySelector('#df-88f94f7d-c0e9-4f2f-ba1a-674f21ea7280');\n",
              "          const dataTable =\n",
              "            await google.colab.kernel.invokeFunction('convertToInteractive',\n",
              "                                                     [key], {});\n",
              "          if (!dataTable) return;\n",
              "\n",
              "          const docLinkHtml = 'Like what you see? Visit the ' +\n",
              "            '<a target=\"_blank\" href=https://colab.research.google.com/notebooks/data_table.ipynb>data table notebook</a>'\n",
              "            + ' to learn more about interactive tables.';\n",
              "          element.innerHTML = '';\n",
              "          dataTable['output_type'] = 'display_data';\n",
              "          await google.colab.output.renderOutput(dataTable, element);\n",
              "          const docLink = document.createElement('div');\n",
              "          docLink.innerHTML = docLinkHtml;\n",
              "          element.appendChild(docLink);\n",
              "        }\n",
              "      </script>\n",
              "    </div>\n",
              "  </div>\n"
            ]
          },
          "metadata": {},
          "execution_count": 25
        }
      ]
    },
    {
      "cell_type": "code",
      "source": [
        "type(df)"
      ],
      "metadata": {
        "colab": {
          "base_uri": "https://localhost:8080/"
        },
        "id": "9cII_pkgFhh7",
        "outputId": "cff5c970-1da1-41e0-c206-b8f7f1dc937a"
      },
      "execution_count": 26,
      "outputs": [
        {
          "output_type": "execute_result",
          "data": {
            "text/plain": [
              "pandas.core.frame.DataFrame"
            ]
          },
          "metadata": {},
          "execution_count": 26
        }
      ]
    },
    {
      "cell_type": "code",
      "source": [
        "import seaborn as sns"
      ],
      "metadata": {
        "id": "1Rlwtg27yR72"
      },
      "execution_count": 5,
      "outputs": []
    },
    {
      "cell_type": "code",
      "source": [
        "ax1 = df.plot.scatter(x='Age',\n",
        "                      y='EstimatedSalary',\n",
        "                      c='DarkBlue')"
      ],
      "metadata": {
        "colab": {
          "base_uri": "https://localhost:8080/",
          "height": 449
        },
        "id": "WirCLC_Gyi_O",
        "outputId": "4444c6c7-b0ca-4e05-beaf-a82d658d8267"
      },
      "execution_count": 6,
      "outputs": [
        {
          "output_type": "display_data",
          "data": {
            "text/plain": [
              "<Figure size 640x480 with 1 Axes>"
            ],
            "image/png": "[encoded data removed]"
          },
          "metadata": {}
        }
      ]
    },
    {
      "cell_type": "code",
      "source": [
        "X = df.iloc[:, 0:2]\n",
        "y = df.iloc[:, -1]"
      ],
      "metadata": {
        "id": "NnKPPDinyvn_"
      },
      "execution_count": 7,
      "outputs": []
    },
    {
      "cell_type": "code",
      "source": [
        "y"
      ],
      "metadata": {
        "colab": {
          "base_uri": "https://localhost:8080/"
        },
        "id": "KxjuRCJU0q0L",
        "outputId": "f3c178f7-834e-49e6-c4a9-4bdf6ac25538"
      },
      "execution_count": 8,
      "outputs": [
        {
          "output_type": "execute_result",
          "data": {
            "text/plain": [
              "0      0\n",
              "1      0\n",
              "2      0\n",
              "3      0\n",
              "4      0\n",
              "      ..\n",
              "395    1\n",
              "396    1\n",
              "397    1\n",
              "398    0\n",
              "399    1\n",
              "Name: Purchased, Length: 400, dtype: int64"
            ]
          },
          "metadata": {},
          "execution_count": 8
        }
      ]
    },
    {
      "cell_type": "code",
      "source": [
        "from sklearn.model_selection import train_test_split\n",
        "\n",
        "X_train,X_test,y_train,y_test = train_test_split(X,y,test_size=0.2, random_state=2)"
      ],
      "metadata": {
        "id": "f3I5Txxz0r1_"
      },
      "execution_count": 9,
      "outputs": []
    },
    {
      "cell_type": "code",
      "source": [
        "import tensorflow as tf\n",
        "from tensorflow import keras\n",
        "from keras import Sequential\n",
        "from keras.layers import Dense"
      ],
      "metadata": {
        "id": "cLIJb5f-1fpa"
      },
      "execution_count": 10,
      "outputs": []
    },
    {
      "cell_type": "code",
      "source": [
        "model = Sequential()\n",
        "\n",
        "model.add(Dense(128,activation='relu', input_dim=2))\n",
        "model.add(Dense(1,activation='sigmoid'))"
      ],
      "metadata": {
        "id": "MpJJGemi41sG"
      },
      "execution_count": 11,
      "outputs": []
    },
    {
      "cell_type": "code",
      "source": [
        "model.summary()"
      ],
      "metadata": {
        "colab": {
          "base_uri": "https://localhost:8080/"
        },
        "id": "bIwujYBV5Yxw",
        "outputId": "01b9a859-5688-42af-a248-0e64beee468c"
      },
      "execution_count": 12,
      "outputs": [
        {
          "output_type": "stream",
          "name": "stdout",
          "text": [
            "Model: \"sequential\"\n",
            "_________________________________________________________________\n",
            " Layer (type)                Output Shape              Param #   \n",
            "=================================================================\n",
            " dense (Dense)               (None, 128)               384       \n",
            "                                                                 \n",
            " dense_1 (Dense)             (None, 1)                 129       \n",
            "                                                                 \n",
            "=================================================================\n",
            "Total params: 513\n",
            "Trainable params: 513\n",
            "Non-trainable params: 0\n",
            "_________________________________________________________________\n"
          ]
        }
      ]
    },
    {
      "cell_type": "code",
      "source": [
        "model.compile(optimizer='adam',loss='binary_crossentropy',metrics=['accuracy'])"
      ],
      "metadata": {
        "id": "9ZqDLJu_5asT"
      },
      "execution_count": 13,
      "outputs": []
    },
    {
      "cell_type": "code",
      "source": [
        "history = model.fit(X_train,y_train,validation_data=(X_test,y_test), epochs=100)"
      ],
      "metadata": {
        "colab": {
          "base_uri": "https://localhost:8080/"
        },
        "id": "TVYIcMrf79Ye",
        "outputId": "fe3f8a6f-2131-43b8-b30b-5f484916945a"
      },
      "execution_count": 14,
      "outputs": [
        {
          "output_type": "stream",
          "name": "stdout",
          "text": [
            "Epoch 1/100\n",
            "10/10 [==============================] - 1s 32ms/step - loss: 748.8868 - accuracy: 0.5781 - val_loss: 390.0366 - val_accuracy: 0.4000\n",
            "Epoch 2/100\n",
            "10/10 [==============================] - 0s 9ms/step - loss: 186.3023 - accuracy: 0.5656 - val_loss: 251.7708 - val_accuracy: 0.4000\n",
            "Epoch 3/100\n",
            "10/10 [==============================] - 0s 9ms/step - loss: 141.7052 - accuracy: 0.5344 - val_loss: 79.1936 - val_accuracy: 0.4000\n",
            "Epoch 4/100\n",
            "10/10 [==============================] - 0s 7ms/step - loss: 93.5334 - accuracy: 0.4781 - val_loss: 43.2057 - val_accuracy: 0.4000\n",
            "Epoch 5/100\n",
            "10/10 [==============================] - 0s 8ms/step - loss: 61.1428 - accuracy: 0.4781 - val_loss: 48.7211 - val_accuracy: 0.6000\n",
            "Epoch 6/100\n",
            "10/10 [==============================] - 0s 8ms/step - loss: 29.8294 - accuracy: 0.5281 - val_loss: 50.2217 - val_accuracy: 0.6000\n",
            "Epoch 7/100\n",
            "10/10 [==============================] - 0s 9ms/step - loss: 53.5332 - accuracy: 0.5219 - val_loss: 53.4915 - val_accuracy: 0.4000\n",
            "Epoch 8/100\n",
            "10/10 [==============================] - 0s 9ms/step - loss: 62.5322 - accuracy: 0.5156 - val_loss: 27.1713 - val_accuracy: 0.4000\n",
            "Epoch 9/100\n",
            "10/10 [==============================] - 0s 9ms/step - loss: 40.5043 - accuracy: 0.5344 - val_loss: 10.9173 - val_accuracy: 0.4000\n",
            "Epoch 10/100\n",
            "10/10 [==============================] - 0s 9ms/step - loss: 55.0019 - accuracy: 0.5031 - val_loss: 67.7621 - val_accuracy: 0.6000\n",
            "Epoch 11/100\n",
            "10/10 [==============================] - 0s 9ms/step - loss: 88.3614 - accuracy: 0.5094 - val_loss: 68.1969 - val_accuracy: 0.6000\n",
            "Epoch 12/100\n",
            "10/10 [==============================] - 0s 7ms/step - loss: 38.9862 - accuracy: 0.4531 - val_loss: 51.7262 - val_accuracy: 0.6000\n",
            "Epoch 13/100\n",
            "10/10 [==============================] - 0s 8ms/step - loss: 37.5084 - accuracy: 0.5719 - val_loss: 32.1102 - val_accuracy: 0.4000\n",
            "Epoch 14/100\n",
            "10/10 [==============================] - 0s 6ms/step - loss: 32.3584 - accuracy: 0.5125 - val_loss: 80.8114 - val_accuracy: 0.6000\n",
            "Epoch 15/100\n",
            "10/10 [==============================] - 0s 7ms/step - loss: 58.3389 - accuracy: 0.5219 - val_loss: 65.2534 - val_accuracy: 0.4000\n",
            "Epoch 16/100\n",
            "10/10 [==============================] - 0s 7ms/step - loss: 97.2672 - accuracy: 0.5219 - val_loss: 53.6003 - val_accuracy: 0.4000\n",
            "Epoch 17/100\n",
            "10/10 [==============================] - 0s 7ms/step - loss: 79.9108 - accuracy: 0.5031 - val_loss: 79.1973 - val_accuracy: 0.4000\n",
            "Epoch 18/100\n",
            "10/10 [==============================] - 0s 5ms/step - loss: 63.5755 - accuracy: 0.4250 - val_loss: 90.2378 - val_accuracy: 0.6000\n",
            "Epoch 19/100\n",
            "10/10 [==============================] - 0s 7ms/step - loss: 101.9080 - accuracy: 0.5031 - val_loss: 71.2320 - val_accuracy: 0.6000\n",
            "Epoch 20/100\n",
            "10/10 [==============================] - 0s 6ms/step - loss: 47.0346 - accuracy: 0.5531 - val_loss: 34.2959 - val_accuracy: 0.4000\n",
            "Epoch 21/100\n",
            "10/10 [==============================] - 0s 9ms/step - loss: 25.7203 - accuracy: 0.5594 - val_loss: 52.1147 - val_accuracy: 0.4000\n",
            "Epoch 22/100\n",
            "10/10 [==============================] - 0s 8ms/step - loss: 42.9532 - accuracy: 0.5031 - val_loss: 47.6684 - val_accuracy: 0.6000\n",
            "Epoch 23/100\n",
            "10/10 [==============================] - 0s 5ms/step - loss: 53.2488 - accuracy: 0.5844 - val_loss: 50.1316 - val_accuracy: 0.6000\n",
            "Epoch 24/100\n",
            "10/10 [==============================] - 0s 6ms/step - loss: 49.9495 - accuracy: 0.4656 - val_loss: 8.1499 - val_accuracy: 0.6000\n",
            "Epoch 25/100\n",
            "10/10 [==============================] - 0s 5ms/step - loss: 18.7681 - accuracy: 0.5188 - val_loss: 2.2346 - val_accuracy: 0.6500\n",
            "Epoch 26/100\n",
            "10/10 [==============================] - 0s 8ms/step - loss: 30.2404 - accuracy: 0.5562 - val_loss: 119.8339 - val_accuracy: 0.6000\n",
            "Epoch 27/100\n",
            "10/10 [==============================] - 0s 7ms/step - loss: 78.5749 - accuracy: 0.5594 - val_loss: 139.3028 - val_accuracy: 0.6000\n",
            "Epoch 28/100\n",
            "10/10 [==============================] - 0s 8ms/step - loss: 51.2002 - accuracy: 0.5344 - val_loss: 49.1351 - val_accuracy: 0.4000\n",
            "Epoch 29/100\n",
            "10/10 [==============================] - 0s 7ms/step - loss: 53.1290 - accuracy: 0.4719 - val_loss: 65.1216 - val_accuracy: 0.6000\n",
            "Epoch 30/100\n",
            "10/10 [==============================] - 0s 7ms/step - loss: 55.5825 - accuracy: 0.5094 - val_loss: 21.2318 - val_accuracy: 0.4000\n",
            "Epoch 31/100\n",
            "10/10 [==============================] - 0s 8ms/step - loss: 19.3460 - accuracy: 0.5469 - val_loss: 48.4441 - val_accuracy: 0.6000\n",
            "Epoch 32/100\n",
            "10/10 [==============================] - 0s 7ms/step - loss: 49.3901 - accuracy: 0.5594 - val_loss: 3.4622 - val_accuracy: 0.4000\n",
            "Epoch 33/100\n",
            "10/10 [==============================] - 0s 7ms/step - loss: 26.8423 - accuracy: 0.4719 - val_loss: 1.0583 - val_accuracy: 0.4000\n",
            "Epoch 34/100\n",
            "10/10 [==============================] - 0s 8ms/step - loss: 41.5252 - accuracy: 0.5531 - val_loss: 32.7514 - val_accuracy: 0.6000\n",
            "Epoch 35/100\n",
            "10/10 [==============================] - 0s 8ms/step - loss: 45.6187 - accuracy: 0.4594 - val_loss: 55.9362 - val_accuracy: 0.6000\n",
            "Epoch 36/100\n",
            "10/10 [==============================] - 0s 8ms/step - loss: 51.0070 - accuracy: 0.5969 - val_loss: 45.7921 - val_accuracy: 0.6000\n",
            "Epoch 37/100\n",
            "10/10 [==============================] - 0s 7ms/step - loss: 30.8862 - accuracy: 0.5094 - val_loss: 16.9923 - val_accuracy: 0.4000\n",
            "Epoch 38/100\n",
            "10/10 [==============================] - 0s 8ms/step - loss: 11.6263 - accuracy: 0.5531 - val_loss: 6.3783 - val_accuracy: 0.6000\n",
            "Epoch 39/100\n",
            "10/10 [==============================] - 0s 8ms/step - loss: 34.9017 - accuracy: 0.5344 - val_loss: 51.6285 - val_accuracy: 0.6000\n",
            "Epoch 40/100\n",
            "10/10 [==============================] - 0s 7ms/step - loss: 29.7147 - accuracy: 0.5219 - val_loss: 110.3614 - val_accuracy: 0.6000\n",
            "Epoch 41/100\n",
            "10/10 [==============================] - 0s 5ms/step - loss: 89.3508 - accuracy: 0.5094 - val_loss: 150.7583 - val_accuracy: 0.6000\n",
            "Epoch 42/100\n",
            "10/10 [==============================] - 0s 5ms/step - loss: 82.1857 - accuracy: 0.5406 - val_loss: 1.6919 - val_accuracy: 0.4000\n",
            "Epoch 43/100\n",
            "10/10 [==============================] - 0s 5ms/step - loss: 19.5056 - accuracy: 0.5188 - val_loss: 8.9208 - val_accuracy: 0.6000\n",
            "Epoch 44/100\n",
            "10/10 [==============================] - 0s 5ms/step - loss: 24.8267 - accuracy: 0.5281 - val_loss: 7.2450 - val_accuracy: 0.6000\n",
            "Epoch 45/100\n",
            "10/10 [==============================] - 0s 7ms/step - loss: 56.3559 - accuracy: 0.4781 - val_loss: 82.5284 - val_accuracy: 0.4000\n",
            "Epoch 46/100\n",
            "10/10 [==============================] - 0s 6ms/step - loss: 90.9130 - accuracy: 0.5969 - val_loss: 189.4807 - val_accuracy: 0.4000\n",
            "Epoch 47/100\n",
            "10/10 [==============================] - 0s 8ms/step - loss: 100.1133 - accuracy: 0.5094 - val_loss: 95.7439 - val_accuracy: 0.4000\n",
            "Epoch 48/100\n",
            "10/10 [==============================] - 0s 7ms/step - loss: 34.3123 - accuracy: 0.5531 - val_loss: 49.2745 - val_accuracy: 0.4000\n",
            "Epoch 49/100\n",
            "10/10 [==============================] - 0s 7ms/step - loss: 43.7477 - accuracy: 0.5094 - val_loss: 55.0785 - val_accuracy: 0.6000\n",
            "Epoch 50/100\n",
            "10/10 [==============================] - 0s 6ms/step - loss: 29.5414 - accuracy: 0.5656 - val_loss: 14.2669 - val_accuracy: 0.4000\n",
            "Epoch 51/100\n",
            "10/10 [==============================] - 0s 6ms/step - loss: 18.3742 - accuracy: 0.5156 - val_loss: 4.9095 - val_accuracy: 0.4000\n",
            "Epoch 52/100\n",
            "10/10 [==============================] - 0s 7ms/step - loss: 68.5118 - accuracy: 0.4781 - val_loss: 165.6616 - val_accuracy: 0.6000\n",
            "Epoch 53/100\n",
            "10/10 [==============================] - 0s 7ms/step - loss: 131.4625 - accuracy: 0.4719 - val_loss: 102.7530 - val_accuracy: 0.6000\n",
            "Epoch 54/100\n",
            "10/10 [==============================] - 0s 9ms/step - loss: 112.8002 - accuracy: 0.5344 - val_loss: 83.6180 - val_accuracy: 0.6000\n",
            "Epoch 55/100\n",
            "10/10 [==============================] - 0s 7ms/step - loss: 98.1394 - accuracy: 0.5531 - val_loss: 6.9453 - val_accuracy: 0.4000\n",
            "Epoch 56/100\n",
            "10/10 [==============================] - 0s 9ms/step - loss: 149.4432 - accuracy: 0.5281 - val_loss: 148.5823 - val_accuracy: 0.4000\n",
            "Epoch 57/100\n",
            "10/10 [==============================] - 0s 7ms/step - loss: 108.5259 - accuracy: 0.5156 - val_loss: 113.7519 - val_accuracy: 0.4000\n",
            "Epoch 58/100\n",
            "10/10 [==============================] - 0s 7ms/step - loss: 77.5582 - accuracy: 0.4906 - val_loss: 46.4877 - val_accuracy: 0.4000\n",
            "Epoch 59/100\n",
            "10/10 [==============================] - 0s 9ms/step - loss: 35.0935 - accuracy: 0.5531 - val_loss: 25.2737 - val_accuracy: 0.6000\n",
            "Epoch 60/100\n",
            "10/10 [==============================] - 0s 9ms/step - loss: 53.0465 - accuracy: 0.4219 - val_loss: 21.1429 - val_accuracy: 0.6000\n",
            "Epoch 61/100\n",
            "10/10 [==============================] - 0s 7ms/step - loss: 33.7920 - accuracy: 0.5219 - val_loss: 57.5985 - val_accuracy: 0.6000\n",
            "Epoch 62/100\n",
            "10/10 [==============================] - 0s 9ms/step - loss: 43.5752 - accuracy: 0.4844 - val_loss: 34.7014 - val_accuracy: 0.6000\n",
            "Epoch 63/100\n",
            "10/10 [==============================] - 0s 9ms/step - loss: 57.8367 - accuracy: 0.5344 - val_loss: 3.4422 - val_accuracy: 0.4000\n",
            "Epoch 64/100\n",
            "10/10 [==============================] - 0s 7ms/step - loss: 29.5097 - accuracy: 0.5094 - val_loss: 69.2277 - val_accuracy: 0.4000\n",
            "Epoch 65/100\n",
            "10/10 [==============================] - 0s 9ms/step - loss: 40.1026 - accuracy: 0.5281 - val_loss: 33.1316 - val_accuracy: 0.4000\n",
            "Epoch 66/100\n",
            "10/10 [==============================] - 0s 6ms/step - loss: 43.5575 - accuracy: 0.4969 - val_loss: 58.9245 - val_accuracy: 0.6000\n",
            "Epoch 67/100\n",
            "10/10 [==============================] - 0s 5ms/step - loss: 70.5996 - accuracy: 0.5281 - val_loss: 74.2998 - val_accuracy: 0.6000\n",
            "Epoch 68/100\n",
            "10/10 [==============================] - 0s 7ms/step - loss: 89.1511 - accuracy: 0.5406 - val_loss: 93.6943 - val_accuracy: 0.6000\n",
            "Epoch 69/100\n",
            "10/10 [==============================] - 0s 7ms/step - loss: 53.6418 - accuracy: 0.5031 - val_loss: 11.3069 - val_accuracy: 0.4000\n",
            "Epoch 70/100\n",
            "10/10 [==============================] - 0s 6ms/step - loss: 23.9544 - accuracy: 0.5469 - val_loss: 22.0394 - val_accuracy: 0.4000\n",
            "Epoch 71/100\n",
            "10/10 [==============================] - 0s 7ms/step - loss: 16.6753 - accuracy: 0.5344 - val_loss: 51.5672 - val_accuracy: 0.6000\n",
            "Epoch 72/100\n",
            "10/10 [==============================] - 0s 6ms/step - loss: 56.3046 - accuracy: 0.4969 - val_loss: 76.1412 - val_accuracy: 0.4000\n",
            "Epoch 73/100\n",
            "10/10 [==============================] - 0s 6ms/step - loss: 73.1565 - accuracy: 0.5781 - val_loss: 38.3915 - val_accuracy: 0.4000\n",
            "Epoch 74/100\n",
            "10/10 [==============================] - 0s 7ms/step - loss: 52.7321 - accuracy: 0.4594 - val_loss: 95.7227 - val_accuracy: 0.6000\n",
            "Epoch 75/100\n",
            "10/10 [==============================] - 0s 6ms/step - loss: 92.0680 - accuracy: 0.5344 - val_loss: 142.7717 - val_accuracy: 0.6000\n",
            "Epoch 76/100\n",
            "10/10 [==============================] - 0s 5ms/step - loss: 111.6809 - accuracy: 0.5531 - val_loss: 45.4766 - val_accuracy: 0.4000\n",
            "Epoch 77/100\n",
            "10/10 [==============================] - 0s 7ms/step - loss: 95.4576 - accuracy: 0.5656 - val_loss: 66.6403 - val_accuracy: 0.4000\n",
            "Epoch 78/100\n",
            "10/10 [==============================] - 0s 7ms/step - loss: 82.5437 - accuracy: 0.4656 - val_loss: 32.5869 - val_accuracy: 0.6000\n",
            "Epoch 79/100\n",
            "10/10 [==============================] - 0s 8ms/step - loss: 35.8150 - accuracy: 0.4844 - val_loss: 44.9019 - val_accuracy: 0.6000\n",
            "Epoch 80/100\n",
            "10/10 [==============================] - 0s 5ms/step - loss: 41.7016 - accuracy: 0.5406 - val_loss: 48.7597 - val_accuracy: 0.6000\n",
            "Epoch 81/100\n",
            "10/10 [==============================] - 0s 7ms/step - loss: 32.2577 - accuracy: 0.5031 - val_loss: 64.3407 - val_accuracy: 0.6000\n",
            "Epoch 82/100\n",
            "10/10 [==============================] - 0s 7ms/step - loss: 30.2413 - accuracy: 0.5469 - val_loss: 57.0297 - val_accuracy: 0.6000\n",
            "Epoch 83/100\n",
            "10/10 [==============================] - 0s 9ms/step - loss: 43.2926 - accuracy: 0.5531 - val_loss: 116.4006 - val_accuracy: 0.4000\n",
            "Epoch 84/100\n",
            "10/10 [==============================] - 0s 9ms/step - loss: 74.4096 - accuracy: 0.5156 - val_loss: 0.7853 - val_accuracy: 0.4125\n",
            "Epoch 85/100\n",
            "10/10 [==============================] - 0s 8ms/step - loss: 50.3691 - accuracy: 0.4844 - val_loss: 34.5413 - val_accuracy: 0.6000\n",
            "Epoch 86/100\n",
            "10/10 [==============================] - 0s 9ms/step - loss: 97.3099 - accuracy: 0.5281 - val_loss: 67.8552 - val_accuracy: 0.6000\n",
            "Epoch 87/100\n",
            "10/10 [==============================] - 0s 10ms/step - loss: 49.2635 - accuracy: 0.4563 - val_loss: 30.9491 - val_accuracy: 0.6000\n",
            "Epoch 88/100\n",
            "10/10 [==============================] - 0s 7ms/step - loss: 36.4043 - accuracy: 0.5281 - val_loss: 30.3050 - val_accuracy: 0.4000\n",
            "Epoch 89/100\n",
            "10/10 [==============================] - 0s 9ms/step - loss: 21.2118 - accuracy: 0.5156 - val_loss: 37.0691 - val_accuracy: 0.4000\n",
            "Epoch 90/100\n",
            "10/10 [==============================] - 0s 11ms/step - loss: 32.2747 - accuracy: 0.5594 - val_loss: 14.4615 - val_accuracy: 0.6000\n",
            "Epoch 91/100\n",
            "10/10 [==============================] - 0s 6ms/step - loss: 27.5888 - accuracy: 0.5281 - val_loss: 94.7004 - val_accuracy: 0.4000\n",
            "Epoch 92/100\n",
            "10/10 [==============================] - 0s 7ms/step - loss: 53.8852 - accuracy: 0.4656 - val_loss: 50.9608 - val_accuracy: 0.6000\n",
            "Epoch 93/100\n",
            "10/10 [==============================] - 0s 5ms/step - loss: 34.7758 - accuracy: 0.5969 - val_loss: 85.0298 - val_accuracy: 0.4000\n",
            "Epoch 94/100\n",
            "10/10 [==============================] - 0s 5ms/step - loss: 81.7643 - accuracy: 0.5031 - val_loss: 65.4876 - val_accuracy: 0.4000\n",
            "Epoch 95/100\n",
            "10/10 [==============================] - 0s 6ms/step - loss: 28.0468 - accuracy: 0.5469 - val_loss: 51.9088 - val_accuracy: 0.4000\n",
            "Epoch 96/100\n",
            "10/10 [==============================] - 0s 6ms/step - loss: 39.6876 - accuracy: 0.5000 - val_loss: 7.2260 - val_accuracy: 0.4000\n",
            "Epoch 97/100\n",
            "10/10 [==============================] - 0s 5ms/step - loss: 14.7841 - accuracy: 0.5344 - val_loss: 15.7530 - val_accuracy: 0.4000\n",
            "Epoch 98/100\n",
            "10/10 [==============================] - 0s 7ms/step - loss: 22.7711 - accuracy: 0.5031 - val_loss: 10.8180 - val_accuracy: 0.6000\n",
            "Epoch 99/100\n",
            "10/10 [==============================] - 0s 7ms/step - loss: 14.1144 - accuracy: 0.5281 - val_loss: 7.4964 - val_accuracy: 0.6000\n",
            "Epoch 100/100\n",
            "10/10 [==============================] - 0s 6ms/step - loss: 59.0119 - accuracy: 0.4656 - val_loss: 13.8883 - val_accuracy: 0.4000\n"
          ]
        }
      ]
    },
    {
      "cell_type": "code",
      "source": [
        "import matplotlib.pyplot as plt\n",
        "plt.plot(history.history['val_accuracy'])"
      ],
      "metadata": {
        "id": "na3-Jbe38Um9",
        "colab": {
          "base_uri": "https://localhost:8080/",
          "height": 447
        },
        "outputId": "d66b646f-e348-4871-ae95-5195cb68c38d"
      },
      "execution_count": 15,
      "outputs": [
        {
          "output_type": "execute_result",
          "data": {
            "text/plain": [
              "[<matplotlib.lines.Line2D at 0x7f2b5ac1c3a0>]"
            ]
          },
          "metadata": {},
          "execution_count": 15
        },
        {
          "output_type": "display_data",
          "data": {
            "text/plain": [
              "<Figure size 640x480 with 1 Axes>"
            ],
            "image/png": "[encoded data removed]"
          },
          "metadata": {}
        }
      ]
    },
    {
      "cell_type": "code",
      "source": [
        "# Apply scaling"
      ],
      "metadata": {
        "id": "60ecvZjq-_wt"
      },
      "execution_count": 16,
      "outputs": []
    },
    {
      "cell_type": "code",
      "source": [
        "from sklearn.preprocessing import StandardScaler\n",
        "scaler = StandardScaler()\n",
        "\n",
        "X_train_scaled = scaler.fit_transform(X_train)\n",
        "X_test_scaled = scaler.transform(X_test)\n"
      ],
      "metadata": {
        "id": "-zSXSRjQDZWE"
      },
      "execution_count": 27,
      "outputs": []
    },
    {
      "cell_type": "code",
      "source": [
        "type(X_train_scaled)"
      ],
      "metadata": {
        "colab": {
          "base_uri": "https://localhost:8080/"
        },
        "id": "yfQeHSJEFml7",
        "outputId": "ddd6be08-737e-4f2b-ad42-e16aa2d6346b"
      },
      "execution_count": 28,
      "outputs": [
        {
          "output_type": "execute_result",
          "data": {
            "text/plain": [
              "numpy.ndarray"
            ]
          },
          "metadata": {},
          "execution_count": 28
        }
      ]
    },
    {
      "cell_type": "code",
      "source": [
        "\n",
        "# Scatter plot\n",
        "#plt.scatter(X_train_scaled[:,0],X_train_scaled[:,1], c=X_train_scaled[:,0], cmap='hot')\n",
        "plt.scatter(X_train_scaled[:,0],X_train_scaled[:,1], cmap='hot')\n",
        "# Display the plot\n",
        "plt.show()"
      ],
      "metadata": {
        "colab": {
          "base_uri": "https://localhost:8080/",
          "height": 465
        },
        "id": "OtbIRqJjEJQF",
        "outputId": "0d08cf0c-2d16-42a0-ebc0-f39453f0f787"
      },
      "execution_count": 32,
      "outputs": [
        {
          "output_type": "stream",
          "name": "stderr",
          "text": [
            "<ipython-input-32-34c27f1060e7>:3: UserWarning: No data for colormapping provided via 'c'. Parameters 'cmap' will be ignored\n",
            "  plt.scatter(X_train_scaled[:,0],X_train_scaled[:,1], cmap='hot')\n"
          ]
        },
        {
          "output_type": "display_data",
          "data": {
            "text/plain": [
              "<Figure size 640x480 with 1 Axes>"
            ],
            "image/png": "[encoded data removed]"
          },
          "metadata": {}
        }
      ]
    },
    {
      "cell_type": "code",
      "source": [
        "model = Sequential()\n",
        "\n",
        "model.add(Dense(128,activation='relu', input_dim=2))\n",
        "model.add(Dense(1,activation='sigmoid'))\n",
        "model.compile(optimizer='adam',loss='binary_crossentropy',metrics=['accuracy'])\n",
        "history = model.fit(X_train_scaled,y_train,validation_data=(X_test_scaled,y_test), epochs=100)"
      ],
      "metadata": {
        "colab": {
          "base_uri": "https://localhost:8080/"
        },
        "id": "gWDeLk3eD4WO",
        "outputId": "98668cdf-f4e1-4f3a-b86a-84e08d57bcbd"
      },
      "execution_count": 33,
      "outputs": [
        {
          "output_type": "stream",
          "name": "stdout",
          "text": [
            "Epoch 1/100\n",
            "10/10 [==============================] - 2s 47ms/step - loss: 0.7311 - accuracy: 0.3156 - val_loss: 0.6927 - val_accuracy: 0.5500\n",
            "Epoch 2/100\n",
            "10/10 [==============================] - 0s 10ms/step - loss: 0.6683 - accuracy: 0.7063 - val_loss: 0.6286 - val_accuracy: 0.8375\n",
            "Epoch 3/100\n",
            "10/10 [==============================] - 0s 11ms/step - loss: 0.6153 - accuracy: 0.8281 - val_loss: 0.5762 - val_accuracy: 0.8625\n",
            "Epoch 4/100\n",
            "10/10 [==============================] - 0s 7ms/step - loss: 0.5709 - accuracy: 0.8469 - val_loss: 0.5317 - val_accuracy: 0.8750\n",
            "Epoch 5/100\n",
            "10/10 [==============================] - 0s 5ms/step - loss: 0.5330 - accuracy: 0.8594 - val_loss: 0.4937 - val_accuracy: 0.8500\n",
            "Epoch 6/100\n",
            "10/10 [==============================] - 0s 8ms/step - loss: 0.4991 - accuracy: 0.8656 - val_loss: 0.4620 - val_accuracy: 0.8250\n",
            "Epoch 7/100\n",
            "10/10 [==============================] - 0s 7ms/step - loss: 0.4700 - accuracy: 0.8687 - val_loss: 0.4347 - val_accuracy: 0.8375\n",
            "Epoch 8/100\n",
            "10/10 [==============================] - 0s 5ms/step - loss: 0.4430 - accuracy: 0.8719 - val_loss: 0.4108 - val_accuracy: 0.8250\n",
            "Epoch 9/100\n",
            "10/10 [==============================] - 0s 7ms/step - loss: 0.4201 - accuracy: 0.8813 - val_loss: 0.3908 - val_accuracy: 0.8500\n",
            "Epoch 10/100\n",
            "10/10 [==============================] - 0s 5ms/step - loss: 0.3993 - accuracy: 0.8875 - val_loss: 0.3725 - val_accuracy: 0.8500\n",
            "Epoch 11/100\n",
            "10/10 [==============================] - 0s 6ms/step - loss: 0.3814 - accuracy: 0.8875 - val_loss: 0.3571 - val_accuracy: 0.8500\n",
            "Epoch 12/100\n",
            "10/10 [==============================] - 0s 6ms/step - loss: 0.3648 - accuracy: 0.8875 - val_loss: 0.3449 - val_accuracy: 0.8500\n",
            "Epoch 13/100\n",
            "10/10 [==============================] - 0s 7ms/step - loss: 0.3510 - accuracy: 0.8844 - val_loss: 0.3348 - val_accuracy: 0.8375\n",
            "Epoch 14/100\n",
            "10/10 [==============================] - 0s 7ms/step - loss: 0.3388 - accuracy: 0.8938 - val_loss: 0.3252 - val_accuracy: 0.8375\n",
            "Epoch 15/100\n",
            "10/10 [==============================] - 0s 8ms/step - loss: 0.3277 - accuracy: 0.8938 - val_loss: 0.3175 - val_accuracy: 0.8500\n",
            "Epoch 16/100\n",
            "10/10 [==============================] - 0s 6ms/step - loss: 0.3186 - accuracy: 0.8938 - val_loss: 0.3114 - val_accuracy: 0.8500\n",
            "Epoch 17/100\n",
            "10/10 [==============================] - 0s 7ms/step - loss: 0.3102 - accuracy: 0.8938 - val_loss: 0.3060 - val_accuracy: 0.8500\n",
            "Epoch 18/100\n",
            "10/10 [==============================] - 0s 8ms/step - loss: 0.3030 - accuracy: 0.8969 - val_loss: 0.3016 - val_accuracy: 0.8625\n",
            "Epoch 19/100\n",
            "10/10 [==============================] - 0s 7ms/step - loss: 0.2966 - accuracy: 0.8969 - val_loss: 0.2971 - val_accuracy: 0.8625\n",
            "Epoch 20/100\n",
            "10/10 [==============================] - 0s 8ms/step - loss: 0.2911 - accuracy: 0.8969 - val_loss: 0.2939 - val_accuracy: 0.8625\n",
            "Epoch 21/100\n",
            "10/10 [==============================] - 0s 7ms/step - loss: 0.2864 - accuracy: 0.8969 - val_loss: 0.2899 - val_accuracy: 0.8625\n",
            "Epoch 22/100\n",
            "10/10 [==============================] - 0s 8ms/step - loss: 0.2817 - accuracy: 0.9031 - val_loss: 0.2869 - val_accuracy: 0.8625\n",
            "Epoch 23/100\n",
            "10/10 [==============================] - 0s 6ms/step - loss: 0.2776 - accuracy: 0.9031 - val_loss: 0.2857 - val_accuracy: 0.8625\n",
            "Epoch 24/100\n",
            "10/10 [==============================] - 0s 7ms/step - loss: 0.2744 - accuracy: 0.8938 - val_loss: 0.2833 - val_accuracy: 0.8750\n",
            "Epoch 25/100\n",
            "10/10 [==============================] - 0s 8ms/step - loss: 0.2711 - accuracy: 0.8969 - val_loss: 0.2802 - val_accuracy: 0.8750\n",
            "Epoch 26/100\n",
            "10/10 [==============================] - 0s 8ms/step - loss: 0.2686 - accuracy: 0.9000 - val_loss: 0.2789 - val_accuracy: 0.8750\n",
            "Epoch 27/100\n",
            "10/10 [==============================] - 0s 7ms/step - loss: 0.2659 - accuracy: 0.8969 - val_loss: 0.2772 - val_accuracy: 0.8750\n",
            "Epoch 28/100\n",
            "10/10 [==============================] - 0s 9ms/step - loss: 0.2638 - accuracy: 0.8969 - val_loss: 0.2758 - val_accuracy: 0.8750\n",
            "Epoch 29/100\n",
            "10/10 [==============================] - 0s 7ms/step - loss: 0.2615 - accuracy: 0.8969 - val_loss: 0.2750 - val_accuracy: 0.8750\n",
            "Epoch 30/100\n",
            "10/10 [==============================] - 0s 7ms/step - loss: 0.2595 - accuracy: 0.8969 - val_loss: 0.2742 - val_accuracy: 0.8750\n",
            "Epoch 31/100\n",
            "10/10 [==============================] - 0s 7ms/step - loss: 0.2581 - accuracy: 0.8969 - val_loss: 0.2733 - val_accuracy: 0.8750\n",
            "Epoch 32/100\n",
            "10/10 [==============================] - 0s 7ms/step - loss: 0.2566 - accuracy: 0.8969 - val_loss: 0.2739 - val_accuracy: 0.8750\n",
            "Epoch 33/100\n",
            "10/10 [==============================] - 0s 6ms/step - loss: 0.2549 - accuracy: 0.8969 - val_loss: 0.2721 - val_accuracy: 0.8750\n",
            "Epoch 34/100\n",
            "10/10 [==============================] - 0s 7ms/step - loss: 0.2534 - accuracy: 0.8969 - val_loss: 0.2708 - val_accuracy: 0.8750\n",
            "Epoch 35/100\n",
            "10/10 [==============================] - 0s 6ms/step - loss: 0.2523 - accuracy: 0.8969 - val_loss: 0.2688 - val_accuracy: 0.8750\n",
            "Epoch 36/100\n",
            "10/10 [==============================] - 0s 8ms/step - loss: 0.2512 - accuracy: 0.8969 - val_loss: 0.2679 - val_accuracy: 0.8750\n",
            "Epoch 37/100\n",
            "10/10 [==============================] - 0s 6ms/step - loss: 0.2504 - accuracy: 0.8969 - val_loss: 0.2682 - val_accuracy: 0.8750\n",
            "Epoch 38/100\n",
            "10/10 [==============================] - 0s 6ms/step - loss: 0.2494 - accuracy: 0.8969 - val_loss: 0.2699 - val_accuracy: 0.8750\n",
            "Epoch 39/100\n",
            "10/10 [==============================] - 0s 8ms/step - loss: 0.2480 - accuracy: 0.8969 - val_loss: 0.2699 - val_accuracy: 0.8750\n",
            "Epoch 40/100\n",
            "10/10 [==============================] - 0s 6ms/step - loss: 0.2475 - accuracy: 0.9000 - val_loss: 0.2662 - val_accuracy: 0.8750\n",
            "Epoch 41/100\n",
            "10/10 [==============================] - 0s 7ms/step - loss: 0.2467 - accuracy: 0.9000 - val_loss: 0.2670 - val_accuracy: 0.8750\n",
            "Epoch 42/100\n",
            "10/10 [==============================] - 0s 8ms/step - loss: 0.2458 - accuracy: 0.9000 - val_loss: 0.2660 - val_accuracy: 0.8750\n",
            "Epoch 43/100\n",
            "10/10 [==============================] - 0s 8ms/step - loss: 0.2449 - accuracy: 0.9000 - val_loss: 0.2657 - val_accuracy: 0.8750\n",
            "Epoch 44/100\n",
            "10/10 [==============================] - 0s 7ms/step - loss: 0.2446 - accuracy: 0.9000 - val_loss: 0.2642 - val_accuracy: 0.8875\n",
            "Epoch 45/100\n",
            "10/10 [==============================] - 0s 7ms/step - loss: 0.2436 - accuracy: 0.9000 - val_loss: 0.2651 - val_accuracy: 0.8750\n",
            "Epoch 46/100\n",
            "10/10 [==============================] - 0s 6ms/step - loss: 0.2433 - accuracy: 0.9000 - val_loss: 0.2658 - val_accuracy: 0.8750\n",
            "Epoch 47/100\n",
            "10/10 [==============================] - 0s 6ms/step - loss: 0.2427 - accuracy: 0.9000 - val_loss: 0.2657 - val_accuracy: 0.8750\n",
            "Epoch 48/100\n",
            "10/10 [==============================] - 0s 5ms/step - loss: 0.2420 - accuracy: 0.9000 - val_loss: 0.2646 - val_accuracy: 0.8750\n",
            "Epoch 49/100\n",
            "10/10 [==============================] - 0s 7ms/step - loss: 0.2418 - accuracy: 0.9031 - val_loss: 0.2628 - val_accuracy: 0.9125\n",
            "Epoch 50/100\n",
            "10/10 [==============================] - 0s 5ms/step - loss: 0.2412 - accuracy: 0.9000 - val_loss: 0.2639 - val_accuracy: 0.8750\n",
            "Epoch 51/100\n",
            "10/10 [==============================] - 0s 8ms/step - loss: 0.2404 - accuracy: 0.8969 - val_loss: 0.2635 - val_accuracy: 0.8750\n",
            "Epoch 52/100\n",
            "10/10 [==============================] - 0s 6ms/step - loss: 0.2400 - accuracy: 0.9000 - val_loss: 0.2650 - val_accuracy: 0.8750\n",
            "Epoch 53/100\n",
            "10/10 [==============================] - 0s 6ms/step - loss: 0.2395 - accuracy: 0.9031 - val_loss: 0.2629 - val_accuracy: 0.9125\n",
            "Epoch 54/100\n",
            "10/10 [==============================] - 0s 6ms/step - loss: 0.2392 - accuracy: 0.9031 - val_loss: 0.2621 - val_accuracy: 0.9125\n",
            "Epoch 55/100\n",
            "10/10 [==============================] - 0s 6ms/step - loss: 0.2388 - accuracy: 0.9031 - val_loss: 0.2630 - val_accuracy: 0.9125\n",
            "Epoch 56/100\n",
            "10/10 [==============================] - 0s 8ms/step - loss: 0.2386 - accuracy: 0.9031 - val_loss: 0.2650 - val_accuracy: 0.9125\n",
            "Epoch 57/100\n",
            "10/10 [==============================] - 0s 5ms/step - loss: 0.2378 - accuracy: 0.9062 - val_loss: 0.2638 - val_accuracy: 0.9125\n",
            "Epoch 58/100\n",
            "10/10 [==============================] - 0s 7ms/step - loss: 0.2379 - accuracy: 0.9031 - val_loss: 0.2620 - val_accuracy: 0.9250\n",
            "Epoch 59/100\n",
            "10/10 [==============================] - 0s 7ms/step - loss: 0.2373 - accuracy: 0.9062 - val_loss: 0.2639 - val_accuracy: 0.9250\n",
            "Epoch 60/100\n",
            "10/10 [==============================] - 0s 7ms/step - loss: 0.2371 - accuracy: 0.9062 - val_loss: 0.2628 - val_accuracy: 0.9250\n",
            "Epoch 61/100\n",
            "10/10 [==============================] - 0s 8ms/step - loss: 0.2364 - accuracy: 0.9062 - val_loss: 0.2619 - val_accuracy: 0.9250\n",
            "Epoch 62/100\n",
            "10/10 [==============================] - 0s 7ms/step - loss: 0.2363 - accuracy: 0.9031 - val_loss: 0.2622 - val_accuracy: 0.9250\n",
            "Epoch 63/100\n",
            "10/10 [==============================] - 0s 7ms/step - loss: 0.2360 - accuracy: 0.9062 - val_loss: 0.2630 - val_accuracy: 0.9125\n",
            "Epoch 64/100\n",
            "10/10 [==============================] - 0s 8ms/step - loss: 0.2361 - accuracy: 0.9062 - val_loss: 0.2632 - val_accuracy: 0.9125\n",
            "Epoch 65/100\n",
            "10/10 [==============================] - 0s 5ms/step - loss: 0.2359 - accuracy: 0.9062 - val_loss: 0.2635 - val_accuracy: 0.9000\n",
            "Epoch 66/100\n",
            "10/10 [==============================] - 0s 6ms/step - loss: 0.2353 - accuracy: 0.9031 - val_loss: 0.2642 - val_accuracy: 0.9250\n",
            "Epoch 67/100\n",
            "10/10 [==============================] - 0s 6ms/step - loss: 0.2348 - accuracy: 0.9031 - val_loss: 0.2622 - val_accuracy: 0.9250\n",
            "Epoch 68/100\n",
            "10/10 [==============================] - 0s 6ms/step - loss: 0.2351 - accuracy: 0.9062 - val_loss: 0.2635 - val_accuracy: 0.9250\n",
            "Epoch 69/100\n",
            "10/10 [==============================] - 0s 6ms/step - loss: 0.2343 - accuracy: 0.9062 - val_loss: 0.2617 - val_accuracy: 0.9250\n",
            "Epoch 70/100\n",
            "10/10 [==============================] - 0s 7ms/step - loss: 0.2339 - accuracy: 0.9062 - val_loss: 0.2602 - val_accuracy: 0.9375\n",
            "Epoch 71/100\n",
            "10/10 [==============================] - 0s 6ms/step - loss: 0.2339 - accuracy: 0.9062 - val_loss: 0.2589 - val_accuracy: 0.9375\n",
            "Epoch 72/100\n",
            "10/10 [==============================] - 0s 7ms/step - loss: 0.2352 - accuracy: 0.9062 - val_loss: 0.2649 - val_accuracy: 0.9250\n",
            "Epoch 73/100\n",
            "10/10 [==============================] - 0s 6ms/step - loss: 0.2337 - accuracy: 0.9031 - val_loss: 0.2608 - val_accuracy: 0.9250\n",
            "Epoch 74/100\n",
            "10/10 [==============================] - 0s 7ms/step - loss: 0.2328 - accuracy: 0.9062 - val_loss: 0.2622 - val_accuracy: 0.9250\n",
            "Epoch 75/100\n",
            "10/10 [==============================] - 0s 7ms/step - loss: 0.2326 - accuracy: 0.9062 - val_loss: 0.2617 - val_accuracy: 0.9250\n",
            "Epoch 76/100\n",
            "10/10 [==============================] - 0s 5ms/step - loss: 0.2331 - accuracy: 0.9062 - val_loss: 0.2607 - val_accuracy: 0.9250\n",
            "Epoch 77/100\n",
            "10/10 [==============================] - 0s 6ms/step - loss: 0.2324 - accuracy: 0.9062 - val_loss: 0.2631 - val_accuracy: 0.9250\n",
            "Epoch 78/100\n",
            "10/10 [==============================] - 0s 7ms/step - loss: 0.2324 - accuracy: 0.9094 - val_loss: 0.2625 - val_accuracy: 0.9250\n",
            "Epoch 79/100\n",
            "10/10 [==============================] - 0s 7ms/step - loss: 0.2319 - accuracy: 0.9094 - val_loss: 0.2628 - val_accuracy: 0.9250\n",
            "Epoch 80/100\n",
            "10/10 [==============================] - 0s 7ms/step - loss: 0.2317 - accuracy: 0.9094 - val_loss: 0.2616 - val_accuracy: 0.9250\n",
            "Epoch 81/100\n",
            "10/10 [==============================] - 0s 7ms/step - loss: 0.2318 - accuracy: 0.9062 - val_loss: 0.2605 - val_accuracy: 0.9250\n",
            "Epoch 82/100\n",
            "10/10 [==============================] - 0s 6ms/step - loss: 0.2318 - accuracy: 0.9062 - val_loss: 0.2588 - val_accuracy: 0.9375\n",
            "Epoch 83/100\n",
            "10/10 [==============================] - 0s 7ms/step - loss: 0.2312 - accuracy: 0.9062 - val_loss: 0.2638 - val_accuracy: 0.9250\n",
            "Epoch 84/100\n",
            "10/10 [==============================] - 0s 6ms/step - loss: 0.2316 - accuracy: 0.9062 - val_loss: 0.2665 - val_accuracy: 0.9125\n",
            "Epoch 85/100\n",
            "10/10 [==============================] - 0s 7ms/step - loss: 0.2306 - accuracy: 0.9094 - val_loss: 0.2632 - val_accuracy: 0.9250\n",
            "Epoch 86/100\n",
            "10/10 [==============================] - 0s 8ms/step - loss: 0.2309 - accuracy: 0.9062 - val_loss: 0.2610 - val_accuracy: 0.9250\n",
            "Epoch 87/100\n",
            "10/10 [==============================] - 0s 8ms/step - loss: 0.2310 - accuracy: 0.9062 - val_loss: 0.2619 - val_accuracy: 0.9250\n",
            "Epoch 88/100\n",
            "10/10 [==============================] - 0s 6ms/step - loss: 0.2301 - accuracy: 0.9094 - val_loss: 0.2627 - val_accuracy: 0.9250\n",
            "Epoch 89/100\n",
            "10/10 [==============================] - 0s 7ms/step - loss: 0.2299 - accuracy: 0.9062 - val_loss: 0.2602 - val_accuracy: 0.9250\n",
            "Epoch 90/100\n",
            "10/10 [==============================] - 0s 5ms/step - loss: 0.2302 - accuracy: 0.9094 - val_loss: 0.2584 - val_accuracy: 0.9250\n",
            "Epoch 91/100\n",
            "10/10 [==============================] - 0s 7ms/step - loss: 0.2294 - accuracy: 0.9094 - val_loss: 0.2601 - val_accuracy: 0.9250\n",
            "Epoch 92/100\n",
            "10/10 [==============================] - 0s 6ms/step - loss: 0.2301 - accuracy: 0.9094 - val_loss: 0.2651 - val_accuracy: 0.9250\n",
            "Epoch 93/100\n",
            "10/10 [==============================] - 0s 8ms/step - loss: 0.2293 - accuracy: 0.9125 - val_loss: 0.2659 - val_accuracy: 0.9250\n",
            "Epoch 94/100\n",
            "10/10 [==============================] - 0s 7ms/step - loss: 0.2295 - accuracy: 0.9125 - val_loss: 0.2616 - val_accuracy: 0.9250\n",
            "Epoch 95/100\n",
            "10/10 [==============================] - 0s 7ms/step - loss: 0.2290 - accuracy: 0.9156 - val_loss: 0.2609 - val_accuracy: 0.9250\n",
            "Epoch 96/100\n",
            "10/10 [==============================] - 0s 6ms/step - loss: 0.2289 - accuracy: 0.9125 - val_loss: 0.2621 - val_accuracy: 0.9250\n",
            "Epoch 97/100\n",
            "10/10 [==============================] - 0s 8ms/step - loss: 0.2287 - accuracy: 0.9094 - val_loss: 0.2628 - val_accuracy: 0.9250\n",
            "Epoch 98/100\n",
            "10/10 [==============================] - 0s 6ms/step - loss: 0.2284 - accuracy: 0.9094 - val_loss: 0.2614 - val_accuracy: 0.9250\n",
            "Epoch 99/100\n",
            "10/10 [==============================] - 0s 7ms/step - loss: 0.2283 - accuracy: 0.9125 - val_loss: 0.2614 - val_accuracy: 0.9250\n",
            "Epoch 100/100\n",
            "10/10 [==============================] - 0s 5ms/step - loss: 0.2285 - accuracy: 0.9094 - val_loss: 0.2638 - val_accuracy: 0.9250\n"
          ]
        }
      ]
    },
    {
      "cell_type": "code",
      "source": [
        "import matplotlib.pyplot as plt\n",
        "plt.plot(history.history['val_accuracy'])"
      ],
      "metadata": {
        "colab": {
          "base_uri": "https://localhost:8080/",
          "height": 447
        },
        "id": "xkFKfGHPHAFG",
        "outputId": "4e9ceddb-2ef9-4fa7-84e6-79ce8939c71b"
      },
      "execution_count": 34,
      "outputs": [
        {
          "output_type": "execute_result",
          "data": {
            "text/plain": [
              "[<matplotlib.lines.Line2D at 0x7f2b5a0afeb0>]"
            ]
          },
          "metadata": {},
          "execution_count": 34
        },
        {
          "output_type": "display_data",
          "data": {
            "text/plain": [
              "<Figure size 640x480 with 1 Axes>"
            ],
            "image/png": "[encoded data removed]"
          },
          "metadata": {}
        }
      ]
    },
    {
      "cell_type": "code",
      "source": [],
      "metadata": {
        "id": "U8odkS8-HJLn"
      },
      "execution_count": null,
      "outputs": []
    }
  ]
}