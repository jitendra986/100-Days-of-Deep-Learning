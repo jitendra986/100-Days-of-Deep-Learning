{
  "metadata": {
    "kernelspec": {
      "language": "python",
      "display_name": "Python 3",
      "name": "python3"
    },
    "language_info": {
      "name": "python",
      "version": "3.10.10",
      "mimetype": "text/x-python",
      "codemirror_mode": {
        "name": "ipython",
        "version": 3
      },
      "pygments_lexer": "ipython3",
      "nbconvert_exporter": "python",
      "file_extension": ".py"
    },
    "colab": {
      "provenance": [],
      "include_colab_link": true
    }
  },
  "nbformat_minor": 0,
  "nbformat": 4,
  "cells": [
    {
      "cell_type": "markdown",
      "metadata": {
        "id": "view-in-github",
        "colab_type": "text"
      },
      "source": [
        "<a href=\"https://colab.research.google.com/github/jitendra986/100-Days-of-Deep-Learning/blob/main/customer_churn_prediction.ipynb\" target=\"_parent\"><img src=\"https://colab.research.google.com/assets/colab-badge.svg\" alt=\"Open In Colab\"/></a>"
      ]
    },
    {
      "cell_type": "code",
      "source": [
        "# This Python 3 environment comes with many helpful analytics libraries installed\n",
        "# It is defined by the kaggle/python Docker image: https://github.com/kaggle/docker-python\n",
        "# For example, here's several helpful packages to load\n",
        "\n",
        "import numpy as np # linear algebra\n",
        "import pandas as pd # data processing, CSV file I/O (e.g. pd.read_csv)\n",
        "\n",
        "# Input data files are available in the read-only \"../input/\" directory\n",
        "# For example, running this (by clicking run or pressing Shift+Enter) will list all files under the input directory\n",
        "\n",
        "from google.colab import drive\n",
        "\n",
        "drive.mount('/content/drive')\n",
        "\n",
        "# You can write up to 20GB to the current directory (/kaggle/working/) that gets preserved as output when you create a version using \"Save & Run All\"\n",
        "# You can also write temporary files to /kaggle/temp/, but they won't be saved outside of the current session"
      ],
      "metadata": {
        "_uuid": "8f2839f25d086af736a60e9eeb907d3b93b6e0e5",
        "_cell_guid": "b1076dfc-b9ad-4769-8c92-a6c4dae69d19",
        "execution": {
          "iopub.status.busy": "2023-06-25T13:43:29.744451Z",
          "iopub.execute_input": "2023-06-25T13:43:29.744853Z",
          "iopub.status.idle": "2023-06-25T13:43:29.752632Z",
          "shell.execute_reply.started": "2023-06-25T13:43:29.744824Z",
          "shell.execute_reply": "2023-06-25T13:43:29.751725Z"
        },
        "trusted": true,
        "colab": {
          "base_uri": "https://localhost:8080/"
        },
        "id": "3Fz146wpLHnY",
        "outputId": "8e1c27db-fb36-4146-9143-b527511b5931"
      },
      "execution_count": 1,
      "outputs": [
        {
          "output_type": "stream",
          "name": "stdout",
          "text": [
            "Mounted at /content/drive\n"
          ]
        }
      ]
    },
    {
      "cell_type": "raw",
      "source": [],
      "metadata": {
        "id": "5eF2FHi4LHnq"
      }
    },
    {
      "cell_type": "code",
      "source": [
        "df = pd.read_csv('/content/drive/My Drive/Colab_Notebooks/Social_Network_Ads.csv')"
      ],
      "metadata": {
        "execution": {
          "iopub.status.busy": "2023-06-25T13:44:03.934482Z",
          "iopub.execute_input": "2023-06-25T13:44:03.934966Z",
          "iopub.status.idle": "2023-06-25T13:44:03.989567Z",
          "shell.execute_reply.started": "2023-06-25T13:44:03.934933Z",
          "shell.execute_reply": "2023-06-25T13:44:03.988498Z"
        },
        "trusted": true,
        "id": "AvjdkSIFLHnr"
      },
      "execution_count": 2,
      "outputs": []
    },
    {
      "cell_type": "code",
      "source": [
        "df.applyhead()"
      ],
      "metadata": {
        "execution": {
          "iopub.status.busy": "2023-06-25T13:44:12.490441Z",
          "iopub.execute_input": "2023-06-25T13:44:12.491296Z",
          "iopub.status.idle": "2023-06-25T13:44:12.524930Z",
          "shell.execute_reply.started": "2023-06-25T13:44:12.491241Z",
          "shell.execute_reply": "2023-06-25T13:44:12.523864Z"
        },
        "trusted": true,
        "id": "olx25MSLLHnt",
        "outputId": "c56a0e5a-ad5c-4031-8cbe-a44f0ee846f8"
      },
      "execution_count": null,
      "outputs": [
        {
          "execution_count": 5,
          "output_type": "execute_result",
          "data": {
            "text/plain": "   RowNumber  CustomerId   Surname  CreditScore Geography  Gender  Age  \\\n0          1    15634602  Hargrave          619    France  Female   42   \n1          2    15647311      Hill          608     Spain  Female   41   \n2          3    15619304      Onio          502    France  Female   42   \n3          4    15701354      Boni          699    France  Female   39   \n4          5    15737888  Mitchell          850     Spain  Female   43   \n\n   Tenure    Balance  NumOfProducts  HasCrCard  IsActiveMember  \\\n0       2       0.00              1          1               1   \n1       1   83807.86              1          0               1   \n2       8  159660.80              3          1               0   \n3       1       0.00              2          0               0   \n4       2  125510.82              1          1               1   \n\n   EstimatedSalary  Exited  \n0        101348.88       1  \n1        112542.58       0  \n2        113931.57       1  \n3         93826.63       0  \n4         79084.10       0  ",
            "text/html": "<div>\n<style scoped>\n    .dataframe tbody tr th:only-of-type {\n        vertical-align: middle;\n    }\n\n    .dataframe tbody tr th {\n        vertical-align: top;\n    }\n\n    .dataframe thead th {\n        text-align: right;\n    }\n</style>\n<table border=\"1\" class=\"dataframe\">\n  <thead>\n    <tr style=\"text-align: right;\">\n      <th></th>\n      <th>RowNumber</th>\n      <th>CustomerId</th>\n      <th>Surname</th>\n      <th>CreditScore</th>\n      <th>Geography</th>\n      <th>Gender</th>\n      <th>Age</th>\n      <th>Tenure</th>\n      <th>Balance</th>\n      <th>NumOfProducts</th>\n      <th>HasCrCard</th>\n      <th>IsActiveMember</th>\n      <th>EstimatedSalary</th>\n      <th>Exited</th>\n    </tr>\n  </thead>\n  <tbody>\n    <tr>\n      <th>0</th>\n      <td>1</td>\n      <td>15634602</td>\n      <td>Hargrave</td>\n      <td>619</td>\n      <td>France</td>\n      <td>Female</td>\n      <td>42</td>\n      <td>2</td>\n      <td>0.00</td>\n      <td>1</td>\n      <td>1</td>\n      <td>1</td>\n      <td>101348.88</td>\n      <td>1</td>\n    </tr>\n    <tr>\n      <th>1</th>\n      <td>2</td>\n      <td>15647311</td>\n      <td>Hill</td>\n      <td>608</td>\n      <td>Spain</td>\n      <td>Female</td>\n      <td>41</td>\n      <td>1</td>\n      <td>83807.86</td>\n      <td>1</td>\n      <td>0</td>\n      <td>1</td>\n      <td>112542.58</td>\n      <td>0</td>\n    </tr>\n    <tr>\n      <th>2</th>\n      <td>3</td>\n      <td>15619304</td>\n      <td>Onio</td>\n      <td>502</td>\n      <td>France</td>\n      <td>Female</td>\n      <td>42</td>\n      <td>8</td>\n      <td>159660.80</td>\n      <td>3</td>\n      <td>1</td>\n      <td>0</td>\n      <td>113931.57</td>\n      <td>1</td>\n    </tr>\n    <tr>\n      <th>3</th>\n      <td>4</td>\n      <td>15701354</td>\n      <td>Boni</td>\n      <td>699</td>\n      <td>France</td>\n      <td>Female</td>\n      <td>39</td>\n      <td>1</td>\n      <td>0.00</td>\n      <td>2</td>\n      <td>0</td>\n      <td>0</td>\n      <td>93826.63</td>\n      <td>0</td>\n    </tr>\n    <tr>\n      <th>4</th>\n      <td>5</td>\n      <td>15737888</td>\n      <td>Mitchell</td>\n      <td>850</td>\n      <td>Spain</td>\n      <td>Female</td>\n      <td>43</td>\n      <td>2</td>\n      <td>125510.82</td>\n      <td>1</td>\n      <td>1</td>\n      <td>1</td>\n      <td>79084.10</td>\n      <td>0</td>\n    </tr>\n  </tbody>\n</table>\n</div>"
          },
          "metadata": {}
        }
      ]
    },
    {
      "cell_type": "code",
      "source": [
        "print(df.shape)"
      ],
      "metadata": {
        "execution": {
          "iopub.status.busy": "2023-06-25T13:44:52.819088Z",
          "iopub.execute_input": "2023-06-25T13:44:52.819483Z",
          "iopub.status.idle": "2023-06-25T13:44:52.825026Z",
          "shell.execute_reply.started": "2023-06-25T13:44:52.819457Z",
          "shell.execute_reply": "2023-06-25T13:44:52.823964Z"
        },
        "trusted": true,
        "id": "7b1lDVW9LHnu",
        "outputId": "59ebf179-84d8-4c31-ac5d-6888d3dc2c8c"
      },
      "execution_count": null,
      "outputs": [
        {
          "name": "stdout",
          "text": "(10000, 14)\n",
          "output_type": "stream"
        }
      ]
    },
    {
      "cell_type": "code",
      "source": [
        "df.info()"
      ],
      "metadata": {
        "execution": {
          "iopub.status.busy": "2023-06-25T13:46:10.597816Z",
          "iopub.execute_input": "2023-06-25T13:46:10.598225Z",
          "iopub.status.idle": "2023-06-25T13:46:10.629779Z",
          "shell.execute_reply.started": "2023-06-25T13:46:10.598195Z",
          "shell.execute_reply": "2023-06-25T13:46:10.628968Z"
        },
        "trusted": true,
        "id": "8g_Gvvp6LHnw",
        "outputId": "03b2a7eb-73b9-429a-e862-f7d0c600bbc4"
      },
      "execution_count": null,
      "outputs": [
        {
          "name": "stdout",
          "text": "<class 'pandas.core.frame.DataFrame'>\nRangeIndex: 10000 entries, 0 to 9999\nData columns (total 14 columns):\n #   Column           Non-Null Count  Dtype  \n---  ------           --------------  -----  \n 0   RowNumber        10000 non-null  int64  \n 1   CustomerId       10000 non-null  int64  \n 2   Surname          10000 non-null  object \n 3   CreditScore      10000 non-null  int64  \n 4   Geography        10000 non-null  object \n 5   Gender           10000 non-null  object \n 6   Age              10000 non-null  int64  \n 7   Tenure           10000 non-null  int64  \n 8   Balance          10000 non-null  float64\n 9   NumOfProducts    10000 non-null  int64  \n 10  HasCrCard        10000 non-null  int64  \n 11  IsActiveMember   10000 non-null  int64  \n 12  EstimatedSalary  10000 non-null  float64\n 13  Exited           10000 non-null  int64  \ndtypes: float64(2), int64(9), object(3)\nmemory usage: 1.1+ MB\n",
          "output_type": "stream"
        }
      ]
    },
    {
      "cell_type": "code",
      "source": [
        "df.duplicated().sum()"
      ],
      "metadata": {
        "execution": {
          "iopub.status.busy": "2023-06-25T13:46:48.306346Z",
          "iopub.execute_input": "2023-06-25T13:46:48.306756Z",
          "iopub.status.idle": "2023-06-25T13:46:48.327174Z",
          "shell.execute_reply.started": "2023-06-25T13:46:48.306719Z",
          "shell.execute_reply": "2023-06-25T13:46:48.326092Z"
        },
        "trusted": true,
        "id": "U0FQdwgXLHnx",
        "outputId": "842432ad-79d8-41d9-d9fb-7193887abeda"
      },
      "execution_count": null,
      "outputs": [
        {
          "execution_count": 8,
          "output_type": "execute_result",
          "data": {
            "text/plain": "0"
          },
          "metadata": {}
        }
      ]
    },
    {
      "cell_type": "code",
      "source": [
        "df['Exited'].value_counts()"
      ],
      "metadata": {
        "execution": {
          "iopub.status.busy": "2023-06-25T13:47:46.498377Z",
          "iopub.execute_input": "2023-06-25T13:47:46.499395Z",
          "iopub.status.idle": "2023-06-25T13:47:46.513606Z",
          "shell.execute_reply.started": "2023-06-25T13:47:46.499359Z",
          "shell.execute_reply": "2023-06-25T13:47:46.511743Z"
        },
        "trusted": true,
        "id": "sCaQvGujLHnz",
        "outputId": "a53fd8f7-da23-43f0-b810-e0b78c4fbe20"
      },
      "execution_count": null,
      "outputs": [
        {
          "execution_count": 9,
          "output_type": "execute_result",
          "data": {
            "text/plain": "0    7963\n1    2037\nName: Exited, dtype: int64"
          },
          "metadata": {}
        }
      ]
    },
    {
      "cell_type": "code",
      "source": [
        "df['Geography'].value_counts()"
      ],
      "metadata": {
        "execution": {
          "iopub.status.busy": "2023-06-25T13:48:37.814977Z",
          "iopub.execute_input": "2023-06-25T13:48:37.815861Z",
          "iopub.status.idle": "2023-06-25T13:48:37.825555Z",
          "shell.execute_reply.started": "2023-06-25T13:48:37.815825Z",
          "shell.execute_reply": "2023-06-25T13:48:37.824406Z"
        },
        "trusted": true,
        "id": "KOtTJKdcLHn1",
        "outputId": "234e228f-aec9-4bee-d710-b0905416a0b3"
      },
      "execution_count": null,
      "outputs": [
        {
          "execution_count": 10,
          "output_type": "execute_result",
          "data": {
            "text/plain": "France     5014\nGermany    2509\nSpain      2477\nName: Geography, dtype: int64"
          },
          "metadata": {}
        }
      ]
    },
    {
      "cell_type": "code",
      "source": [
        "df['Gender'].value_counts()"
      ],
      "metadata": {
        "execution": {
          "iopub.status.busy": "2023-06-25T13:49:09.271125Z",
          "iopub.execute_input": "2023-06-25T13:49:09.272026Z",
          "iopub.status.idle": "2023-06-25T13:49:09.280562Z",
          "shell.execute_reply.started": "2023-06-25T13:49:09.271993Z",
          "shell.execute_reply": "2023-06-25T13:49:09.279747Z"
        },
        "trusted": true,
        "id": "T_IuirK_LHn2",
        "outputId": "f4f75945-963d-43b7-f1b6-5cafc9d0ad91"
      },
      "execution_count": null,
      "outputs": [
        {
          "execution_count": 11,
          "output_type": "execute_result",
          "data": {
            "text/plain": "Male      5457\nFemale    4543\nName: Gender, dtype: int64"
          },
          "metadata": {}
        }
      ]
    },
    {
      "cell_type": "code",
      "source": [
        "df.drop(columns=['RowNumber','CustomerId','Surname'], inplace=True)"
      ],
      "metadata": {
        "execution": {
          "iopub.status.busy": "2023-06-25T13:50:54.636984Z",
          "iopub.execute_input": "2023-06-25T13:50:54.638009Z",
          "iopub.status.idle": "2023-06-25T13:50:54.643645Z",
          "shell.execute_reply.started": "2023-06-25T13:50:54.637973Z",
          "shell.execute_reply": "2023-06-25T13:50:54.642919Z"
        },
        "trusted": true,
        "id": "_XvmuFtbLHn4"
      },
      "execution_count": null,
      "outputs": []
    },
    {
      "cell_type": "code",
      "source": [
        "df.head()"
      ],
      "metadata": {
        "execution": {
          "iopub.status.busy": "2023-06-25T13:51:12.063150Z",
          "iopub.execute_input": "2023-06-25T13:51:12.063546Z",
          "iopub.status.idle": "2023-06-25T13:51:12.080641Z",
          "shell.execute_reply.started": "2023-06-25T13:51:12.063517Z",
          "shell.execute_reply": "2023-06-25T13:51:12.079478Z"
        },
        "trusted": true,
        "id": "XMRalniULHn5",
        "outputId": "e1ebd0df-8723-45a2-be0a-f38dd7ce2161"
      },
      "execution_count": null,
      "outputs": [
        {
          "execution_count": 14,
          "output_type": "execute_result",
          "data": {
            "text/plain": "   CreditScore Geography  Gender  Age  Tenure    Balance  NumOfProducts  \\\n0          619    France  Female   42       2       0.00              1   \n1          608     Spain  Female   41       1   83807.86              1   \n2          502    France  Female   42       8  159660.80              3   \n3          699    France  Female   39       1       0.00              2   \n4          850     Spain  Female   43       2  125510.82              1   \n\n   HasCrCard  IsActiveMember  EstimatedSalary  Exited  \n0          1               1        101348.88       1  \n1          0               1        112542.58       0  \n2          1               0        113931.57       1  \n3          0               0         93826.63       0  \n4          1               1         79084.10       0  ",
            "text/html": "<div>\n<style scoped>\n    .dataframe tbody tr th:only-of-type {\n        vertical-align: middle;\n    }\n\n    .dataframe tbody tr th {\n        vertical-align: top;\n    }\n\n    .dataframe thead th {\n        text-align: right;\n    }\n</style>\n<table border=\"1\" class=\"dataframe\">\n  <thead>\n    <tr style=\"text-align: right;\">\n      <th></th>\n      <th>CreditScore</th>\n      <th>Geography</th>\n      <th>Gender</th>\n      <th>Age</th>\n      <th>Tenure</th>\n      <th>Balance</th>\n      <th>NumOfProducts</th>\n      <th>HasCrCard</th>\n      <th>IsActiveMember</th>\n      <th>EstimatedSalary</th>\n      <th>Exited</th>\n    </tr>\n  </thead>\n  <tbody>\n    <tr>\n      <th>0</th>\n      <td>619</td>\n      <td>France</td>\n      <td>Female</td>\n      <td>42</td>\n      <td>2</td>\n      <td>0.00</td>\n      <td>1</td>\n      <td>1</td>\n      <td>1</td>\n      <td>101348.88</td>\n      <td>1</td>\n    </tr>\n    <tr>\n      <th>1</th>\n      <td>608</td>\n      <td>Spain</td>\n      <td>Female</td>\n      <td>41</td>\n      <td>1</td>\n      <td>83807.86</td>\n      <td>1</td>\n      <td>0</td>\n      <td>1</td>\n      <td>112542.58</td>\n      <td>0</td>\n    </tr>\n    <tr>\n      <th>2</th>\n      <td>502</td>\n      <td>France</td>\n      <td>Female</td>\n      <td>42</td>\n      <td>8</td>\n      <td>159660.80</td>\n      <td>3</td>\n      <td>1</td>\n      <td>0</td>\n      <td>113931.57</td>\n      <td>1</td>\n    </tr>\n    <tr>\n      <th>3</th>\n      <td>699</td>\n      <td>France</td>\n      <td>Female</td>\n      <td>39</td>\n      <td>1</td>\n      <td>0.00</td>\n      <td>2</td>\n      <td>0</td>\n      <td>0</td>\n      <td>93826.63</td>\n      <td>0</td>\n    </tr>\n    <tr>\n      <th>4</th>\n      <td>850</td>\n      <td>Spain</td>\n      <td>Female</td>\n      <td>43</td>\n      <td>2</td>\n      <td>125510.82</td>\n      <td>1</td>\n      <td>1</td>\n      <td>1</td>\n      <td>79084.10</td>\n      <td>0</td>\n    </tr>\n  </tbody>\n</table>\n</div>"
          },
          "metadata": {}
        }
      ]
    },
    {
      "cell_type": "code",
      "source": [
        "df=pd.get_dummies(df, columns=['Geography', 'Gender'], drop_first = True)"
      ],
      "metadata": {
        "execution": {
          "iopub.status.busy": "2023-06-25T14:03:49.474119Z",
          "iopub.execute_input": "2023-06-25T14:03:49.474552Z",
          "iopub.status.idle": "2023-06-25T14:03:49.488261Z",
          "shell.execute_reply.started": "2023-06-25T14:03:49.474522Z",
          "shell.execute_reply": "2023-06-25T14:03:49.487123Z"
        },
        "trusted": true,
        "id": "f62wSQLtLHn6"
      },
      "execution_count": null,
      "outputs": []
    },
    {
      "cell_type": "code",
      "source": [
        "df.head()"
      ],
      "metadata": {
        "execution": {
          "iopub.status.busy": "2023-06-25T14:03:53.096461Z",
          "iopub.execute_input": "2023-06-25T14:03:53.096859Z",
          "iopub.status.idle": "2023-06-25T14:03:53.113748Z",
          "shell.execute_reply.started": "2023-06-25T14:03:53.096830Z",
          "shell.execute_reply": "2023-06-25T14:03:53.112691Z"
        },
        "trusted": true,
        "id": "WPb-uClsLHn6",
        "outputId": "77fe754f-4f19-4bda-cbcb-ea82fbd23f0d"
      },
      "execution_count": null,
      "outputs": [
        {
          "execution_count": 24,
          "output_type": "execute_result",
          "data": {
            "text/plain": "   CreditScore  Age  Tenure    Balance  NumOfProducts  HasCrCard  \\\n0          619   42       2       0.00              1          1   \n1          608   41       1   83807.86              1          0   \n2          502   42       8  159660.80              3          1   \n3          699   39       1       0.00              2          0   \n4          850   43       2  125510.82              1          1   \n\n   IsActiveMember  EstimatedSalary  Exited  Geography_Germany  \\\n0               1        101348.88       1                  0   \n1               1        112542.58       0                  0   \n2               0        113931.57       1                  0   \n3               0         93826.63       0                  0   \n4               1         79084.10       0                  0   \n\n   Geography_Spain  Gender_Male  \n0                0            0  \n1                1            0  \n2                0            0  \n3                0            0  \n4                1            0  ",
            "text/html": "<div>\n<style scoped>\n    .dataframe tbody tr th:only-of-type {\n        vertical-align: middle;\n    }\n\n    .dataframe tbody tr th {\n        vertical-align: top;\n    }\n\n    .dataframe thead th {\n        text-align: right;\n    }\n</style>\n<table border=\"1\" class=\"dataframe\">\n  <thead>\n    <tr style=\"text-align: right;\">\n      <th></th>\n      <th>CreditScore</th>\n      <th>Age</th>\n      <th>Tenure</th>\n      <th>Balance</th>\n      <th>NumOfProducts</th>\n      <th>HasCrCard</th>\n      <th>IsActiveMember</th>\n      <th>EstimatedSalary</th>\n      <th>Exited</th>\n      <th>Geography_Germany</th>\n      <th>Geography_Spain</th>\n      <th>Gender_Male</th>\n    </tr>\n  </thead>\n  <tbody>\n    <tr>\n      <th>0</th>\n      <td>619</td>\n      <td>42</td>\n      <td>2</td>\n      <td>0.00</td>\n      <td>1</td>\n      <td>1</td>\n      <td>1</td>\n      <td>101348.88</td>\n      <td>1</td>\n      <td>0</td>\n      <td>0</td>\n      <td>0</td>\n    </tr>\n    <tr>\n      <th>1</th>\n      <td>608</td>\n      <td>41</td>\n      <td>1</td>\n      <td>83807.86</td>\n      <td>1</td>\n      <td>0</td>\n      <td>1</td>\n      <td>112542.58</td>\n      <td>0</td>\n      <td>0</td>\n      <td>1</td>\n      <td>0</td>\n    </tr>\n    <tr>\n      <th>2</th>\n      <td>502</td>\n      <td>42</td>\n      <td>8</td>\n      <td>159660.80</td>\n      <td>3</td>\n      <td>1</td>\n      <td>0</td>\n      <td>113931.57</td>\n      <td>1</td>\n      <td>0</td>\n      <td>0</td>\n      <td>0</td>\n    </tr>\n    <tr>\n      <th>3</th>\n      <td>699</td>\n      <td>39</td>\n      <td>1</td>\n      <td>0.00</td>\n      <td>2</td>\n      <td>0</td>\n      <td>0</td>\n      <td>93826.63</td>\n      <td>0</td>\n      <td>0</td>\n      <td>0</td>\n      <td>0</td>\n    </tr>\n    <tr>\n      <th>4</th>\n      <td>850</td>\n      <td>43</td>\n      <td>2</td>\n      <td>125510.82</td>\n      <td>1</td>\n      <td>1</td>\n      <td>1</td>\n      <td>79084.10</td>\n      <td>0</td>\n      <td>0</td>\n      <td>1</td>\n      <td>0</td>\n    </tr>\n  </tbody>\n</table>\n</div>"
          },
          "metadata": {}
        }
      ]
    },
    {
      "cell_type": "code",
      "source": [
        "X = df.drop(columns=['Exited'])\n",
        "Y = df['Exited']\n",
        "\n",
        "from sklearn.model_selection import train_test_split\n",
        "X_train,X_test,Y_train,Y_test = train_test_split(X,Y,test_size = 0.2, random_state =1)"
      ],
      "metadata": {
        "execution": {
          "iopub.status.busy": "2023-06-25T14:04:02.456904Z",
          "iopub.execute_input": "2023-06-25T14:04:02.458091Z",
          "iopub.status.idle": "2023-06-25T14:04:02.468420Z",
          "shell.execute_reply.started": "2023-06-25T14:04:02.458047Z",
          "shell.execute_reply": "2023-06-25T14:04:02.467471Z"
        },
        "trusted": true,
        "id": "mjFtn9UTLHn7"
      },
      "execution_count": null,
      "outputs": []
    },
    {
      "cell_type": "code",
      "source": [
        "X.head()"
      ],
      "metadata": {
        "execution": {
          "iopub.status.busy": "2023-06-25T14:04:06.331633Z",
          "iopub.execute_input": "2023-06-25T14:04:06.332026Z",
          "iopub.status.idle": "2023-06-25T14:04:06.345675Z",
          "shell.execute_reply.started": "2023-06-25T14:04:06.331997Z",
          "shell.execute_reply": "2023-06-25T14:04:06.344867Z"
        },
        "trusted": true,
        "id": "rGfblHhKLHn8",
        "outputId": "7b14f1c8-769f-41a4-ce8c-b2a043dffbe3"
      },
      "execution_count": null,
      "outputs": [
        {
          "execution_count": 27,
          "output_type": "execute_result",
          "data": {
            "text/plain": "   CreditScore  Age  Tenure    Balance  NumOfProducts  HasCrCard  \\\n0          619   42       2       0.00              1          1   \n1          608   41       1   83807.86              1          0   \n2          502   42       8  159660.80              3          1   \n3          699   39       1       0.00              2          0   \n4          850   43       2  125510.82              1          1   \n\n   IsActiveMember  EstimatedSalary  Geography_Germany  Geography_Spain  \\\n0               1        101348.88                  0                0   \n1               1        112542.58                  0                1   \n2               0        113931.57                  0                0   \n3               0         93826.63                  0                0   \n4               1         79084.10                  0                1   \n\n   Gender_Male  \n0            0  \n1            0  \n2            0  \n3            0  \n4            0  ",
            "text/html": "<div>\n<style scoped>\n    .dataframe tbody tr th:only-of-type {\n        vertical-align: middle;\n    }\n\n    .dataframe tbody tr th {\n        vertical-align: top;\n    }\n\n    .dataframe thead th {\n        text-align: right;\n    }\n</style>\n<table border=\"1\" class=\"dataframe\">\n  <thead>\n    <tr style=\"text-align: right;\">\n      <th></th>\n      <th>CreditScore</th>\n      <th>Age</th>\n      <th>Tenure</th>\n      <th>Balance</th>\n      <th>NumOfProducts</th>\n      <th>HasCrCard</th>\n      <th>IsActiveMember</th>\n      <th>EstimatedSalary</th>\n      <th>Geography_Germany</th>\n      <th>Geography_Spain</th>\n      <th>Gender_Male</th>\n    </tr>\n  </thead>\n  <tbody>\n    <tr>\n      <th>0</th>\n      <td>619</td>\n      <td>42</td>\n      <td>2</td>\n      <td>0.00</td>\n      <td>1</td>\n      <td>1</td>\n      <td>1</td>\n      <td>101348.88</td>\n      <td>0</td>\n      <td>0</td>\n      <td>0</td>\n    </tr>\n    <tr>\n      <th>1</th>\n      <td>608</td>\n      <td>41</td>\n      <td>1</td>\n      <td>83807.86</td>\n      <td>1</td>\n      <td>0</td>\n      <td>1</td>\n      <td>112542.58</td>\n      <td>0</td>\n      <td>1</td>\n      <td>0</td>\n    </tr>\n    <tr>\n      <th>2</th>\n      <td>502</td>\n      <td>42</td>\n      <td>8</td>\n      <td>159660.80</td>\n      <td>3</td>\n      <td>1</td>\n      <td>0</td>\n      <td>113931.57</td>\n      <td>0</td>\n      <td>0</td>\n      <td>0</td>\n    </tr>\n    <tr>\n      <th>3</th>\n      <td>699</td>\n      <td>39</td>\n      <td>1</td>\n      <td>0.00</td>\n      <td>2</td>\n      <td>0</td>\n      <td>0</td>\n      <td>93826.63</td>\n      <td>0</td>\n      <td>0</td>\n      <td>0</td>\n    </tr>\n    <tr>\n      <th>4</th>\n      <td>850</td>\n      <td>43</td>\n      <td>2</td>\n      <td>125510.82</td>\n      <td>1</td>\n      <td>1</td>\n      <td>1</td>\n      <td>79084.10</td>\n      <td>0</td>\n      <td>1</td>\n      <td>0</td>\n    </tr>\n  </tbody>\n</table>\n</div>"
          },
          "metadata": {}
        }
      ]
    },
    {
      "cell_type": "code",
      "source": [
        "Y.head()"
      ],
      "metadata": {
        "execution": {
          "iopub.status.busy": "2023-06-25T14:04:10.384547Z",
          "iopub.execute_input": "2023-06-25T14:04:10.385056Z",
          "iopub.status.idle": "2023-06-25T14:04:10.393675Z",
          "shell.execute_reply.started": "2023-06-25T14:04:10.385017Z",
          "shell.execute_reply": "2023-06-25T14:04:10.392607Z"
        },
        "trusted": true,
        "id": "KVANHBppLHn8",
        "outputId": "265ec17f-77c2-4b86-c755-948e513ca063"
      },
      "execution_count": null,
      "outputs": [
        {
          "execution_count": 28,
          "output_type": "execute_result",
          "data": {
            "text/plain": "0    1\n1    0\n2    1\n3    0\n4    0\nName: Exited, dtype: int64"
          },
          "metadata": {}
        }
      ]
    },
    {
      "cell_type": "code",
      "source": [
        "Y_train"
      ],
      "metadata": {
        "execution": {
          "iopub.status.busy": "2023-06-25T15:01:31.729162Z",
          "iopub.execute_input": "2023-06-25T15:01:31.729591Z",
          "iopub.status.idle": "2023-06-25T15:01:31.737845Z",
          "shell.execute_reply.started": "2023-06-25T15:01:31.729564Z",
          "shell.execute_reply": "2023-06-25T15:01:31.737030Z"
        },
        "trusted": true,
        "id": "NAkI6azJLHn9",
        "outputId": "04dfb645-98e8-4f99-87ce-ffcaf89e791a"
      },
      "execution_count": null,
      "outputs": [
        {
          "execution_count": 39,
          "output_type": "execute_result",
          "data": {
            "text/plain": "2694    0\n5140    0\n2568    1\n3671    0\n7427    0\n       ..\n2895    0\n7813    1\n905     1\n5192    0\n235     1\nName: Exited, Length: 8000, dtype: int64"
          },
          "metadata": {}
        }
      ]
    },
    {
      "cell_type": "code",
      "source": [
        "X_train.shape"
      ],
      "metadata": {
        "execution": {
          "iopub.status.busy": "2023-06-25T14:05:25.821601Z",
          "iopub.execute_input": "2023-06-25T14:05:25.822025Z",
          "iopub.status.idle": "2023-06-25T14:05:25.828226Z",
          "shell.execute_reply.started": "2023-06-25T14:05:25.821997Z",
          "shell.execute_reply": "2023-06-25T14:05:25.827300Z"
        },
        "trusted": true,
        "id": "XXjP0B0XLHn9",
        "outputId": "805eab85-28be-4219-b8fe-c2e0931d7435"
      },
      "execution_count": null,
      "outputs": [
        {
          "execution_count": 29,
          "output_type": "execute_result",
          "data": {
            "text/plain": "(8000, 11)"
          },
          "metadata": {}
        }
      ]
    },
    {
      "cell_type": "code",
      "source": [
        "from sklearn.preprocessing import StandardScaler\n",
        "scaler = StandardScaler()\n",
        "\n",
        "X_train_scaled = scaler.fit_transform(X_train)\n",
        "\n",
        "X_test_scaled = scaler.transform(X_test)"
      ],
      "metadata": {
        "execution": {
          "iopub.status.busy": "2023-06-25T14:08:31.090136Z",
          "iopub.execute_input": "2023-06-25T14:08:31.090562Z",
          "iopub.status.idle": "2023-06-25T14:08:31.104431Z",
          "shell.execute_reply.started": "2023-06-25T14:08:31.090533Z",
          "shell.execute_reply": "2023-06-25T14:08:31.103270Z"
        },
        "trusted": true,
        "id": "w3yOfDsELHn-"
      },
      "execution_count": null,
      "outputs": []
    },
    {
      "cell_type": "code",
      "source": [
        "X_train_scaled"
      ],
      "metadata": {
        "execution": {
          "iopub.status.busy": "2023-06-25T14:08:50.843686Z",
          "iopub.execute_input": "2023-06-25T14:08:50.845084Z",
          "iopub.status.idle": "2023-06-25T14:08:50.852565Z",
          "shell.execute_reply.started": "2023-06-25T14:08:50.845042Z",
          "shell.execute_reply": "2023-06-25T14:08:50.851845Z"
        },
        "trusted": true,
        "id": "iNy-Td8ZLHn-",
        "outputId": "8b224cd2-6237-41ae-f3c4-09b641d8b0d0"
      },
      "execution_count": null,
      "outputs": [
        {
          "execution_count": 31,
          "output_type": "execute_result",
          "data": {
            "text/plain": "array([[-0.23082038, -0.94449979, -0.70174202, ...,  1.71490137,\n        -0.57273139,  0.91509065],\n       [-0.25150912, -0.94449979, -0.35520275, ..., -0.58312392,\n        -0.57273139, -1.09278791],\n       [-0.3963303 ,  0.77498705,  0.33787579, ...,  1.71490137,\n        -0.57273139, -1.09278791],\n       ...,\n       [ 0.22433188,  0.58393295,  1.3774936 , ..., -0.58312392,\n        -0.57273139, -1.09278791],\n       [ 0.13123255,  0.01077067,  1.03095433, ..., -0.58312392,\n        -0.57273139, -1.09278791],\n       [ 1.1656695 ,  0.29735181,  0.33787579, ...,  1.71490137,\n        -0.57273139,  0.91509065]])"
          },
          "metadata": {}
        }
      ]
    },
    {
      "cell_type": "code",
      "source": [
        "import tensorflow\n",
        "from tensorflow import keras\n",
        "from tensorflow.keras import Sequential\n",
        "from tensorflow.keras.layers import Dense"
      ],
      "metadata": {
        "execution": {
          "iopub.status.busy": "2023-06-25T14:15:42.426143Z",
          "iopub.execute_input": "2023-06-25T14:15:42.426585Z",
          "iopub.status.idle": "2023-06-25T14:15:42.433265Z",
          "shell.execute_reply.started": "2023-06-25T14:15:42.426554Z",
          "shell.execute_reply": "2023-06-25T14:15:42.432140Z"
        },
        "trusted": true,
        "id": "T5GVm5XSLHn_"
      },
      "execution_count": null,
      "outputs": []
    },
    {
      "cell_type": "code",
      "source": [
        "model = Sequential()\n",
        "#in first layer we introduced 3 nodes\n",
        "model.add(Dense(11, activation='relu', input_dim =11))\n",
        "#input_dim =11 because we have 11 input columns\n",
        "model.add(Dense(11, activation='relu'))\n",
        "#in second layer we introduced 1 node\n",
        "model.add(Dense(1, activation='sigmoid'))"
      ],
      "metadata": {
        "execution": {
          "iopub.status.busy": "2023-06-25T15:15:43.599495Z",
          "iopub.execute_input": "2023-06-25T15:15:43.599925Z",
          "iopub.status.idle": "2023-06-25T15:15:43.653019Z",
          "shell.execute_reply.started": "2023-06-25T15:15:43.599898Z",
          "shell.execute_reply": "2023-06-25T15:15:43.651946Z"
        },
        "trusted": true,
        "id": "U_tbq_0gLHn_"
      },
      "execution_count": null,
      "outputs": []
    },
    {
      "cell_type": "code",
      "source": [
        "model.summary()"
      ],
      "metadata": {
        "execution": {
          "iopub.status.busy": "2023-06-25T15:33:48.912944Z",
          "iopub.execute_input": "2023-06-25T15:33:48.913362Z",
          "iopub.status.idle": "2023-06-25T15:33:48.929319Z",
          "shell.execute_reply.started": "2023-06-25T15:33:48.913332Z",
          "shell.execute_reply": "2023-06-25T15:33:48.928308Z"
        },
        "trusted": true,
        "id": "KpeDC7-ZLHoA",
        "outputId": "0f9b262b-9694-4086-9e30-297e964d1c1f"
      },
      "execution_count": null,
      "outputs": [
        {
          "name": "stdout",
          "text": "Model: \"sequential_2\"\n_________________________________________________________________\n Layer (type)                Output Shape              Param #   \n=================================================================\n dense_4 (Dense)             (None, 11)                132       \n                                                                 \n dense_5 (Dense)             (None, 11)                132       \n                                                                 \n dense_6 (Dense)             (None, 1)                 12        \n                                                                 \n=================================================================\nTotal params: 276\nTrainable params: 276\nNon-trainable params: 0\n_________________________________________________________________\n",
          "output_type": "stream"
        }
      ]
    },
    {
      "cell_type": "code",
      "source": [
        "model.compile(loss='binary_crossentropy', optimizer = 'Adam', metrics=['accuracy'])"
      ],
      "metadata": {
        "execution": {
          "iopub.status.busy": "2023-06-25T15:33:51.824846Z",
          "iopub.execute_input": "2023-06-25T15:33:51.825244Z",
          "iopub.status.idle": "2023-06-25T15:33:51.837723Z",
          "shell.execute_reply.started": "2023-06-25T15:33:51.825214Z",
          "shell.execute_reply": "2023-06-25T15:33:51.836693Z"
        },
        "trusted": true,
        "id": "MX2msXyILHoA"
      },
      "execution_count": null,
      "outputs": []
    },
    {
      "cell_type": "code",
      "source": [
        "history = model.fit(X_train_scaled, Y_train, epochs=100, validation_split=0.2)\n",
        "# now training data in going to run on 8000-2000=6000 and simultaneously test the accuracy of model on remaining 2000 validation data and let us know the accuracy of our model"
      ],
      "metadata": {
        "execution": {
          "iopub.status.busy": "2023-06-25T15:34:11.021916Z",
          "iopub.execute_input": "2023-06-25T15:34:11.022355Z",
          "iopub.status.idle": "2023-06-25T15:34:51.420878Z",
          "shell.execute_reply.started": "2023-06-25T15:34:11.022323Z",
          "shell.execute_reply": "2023-06-25T15:34:51.420053Z"
        },
        "trusted": true,
        "id": "qBHV-kOcLHoB",
        "outputId": "64ed307b-7162-4b28-9850-0616c50d85f1"
      },
      "execution_count": null,
      "outputs": [
        {
          "name": "stdout",
          "text": "Epoch 1/100\n200/200 [==============================] - 1s 3ms/step - loss: 0.3121 - accuracy: 0.8734 - val_loss: 0.3463 - val_accuracy: 0.8575\nEpoch 2/100\n200/200 [==============================] - 0s 2ms/step - loss: 0.3120 - accuracy: 0.8717 - val_loss: 0.3467 - val_accuracy: 0.8550\nEpoch 3/100\n200/200 [==============================] - 0s 2ms/step - loss: 0.3125 - accuracy: 0.8719 - val_loss: 0.3482 - val_accuracy: 0.8550\nEpoch 4/100\n200/200 [==============================] - 0s 2ms/step - loss: 0.3119 - accuracy: 0.8719 - val_loss: 0.3458 - val_accuracy: 0.8575\nEpoch 5/100\n200/200 [==============================] - 0s 2ms/step - loss: 0.3122 - accuracy: 0.8716 - val_loss: 0.3489 - val_accuracy: 0.8544\nEpoch 6/100\n200/200 [==============================] - 0s 2ms/step - loss: 0.3122 - accuracy: 0.8712 - val_loss: 0.3461 - val_accuracy: 0.8562\nEpoch 7/100\n200/200 [==============================] - 0s 2ms/step - loss: 0.3116 - accuracy: 0.8717 - val_loss: 0.3499 - val_accuracy: 0.8531\nEpoch 8/100\n200/200 [==============================] - 0s 2ms/step - loss: 0.3125 - accuracy: 0.8719 - val_loss: 0.3461 - val_accuracy: 0.8550\nEpoch 9/100\n200/200 [==============================] - 0s 2ms/step - loss: 0.3118 - accuracy: 0.8709 - val_loss: 0.3483 - val_accuracy: 0.8544\nEpoch 10/100\n200/200 [==============================] - 0s 2ms/step - loss: 0.3118 - accuracy: 0.8706 - val_loss: 0.3515 - val_accuracy: 0.8500\nEpoch 11/100\n200/200 [==============================] - 0s 2ms/step - loss: 0.3119 - accuracy: 0.8714 - val_loss: 0.3461 - val_accuracy: 0.8537\nEpoch 12/100\n200/200 [==============================] - 0s 2ms/step - loss: 0.3124 - accuracy: 0.8705 - val_loss: 0.3495 - val_accuracy: 0.8531\nEpoch 13/100\n200/200 [==============================] - 0s 2ms/step - loss: 0.3117 - accuracy: 0.8720 - val_loss: 0.3514 - val_accuracy: 0.8487\nEpoch 14/100\n200/200 [==============================] - 0s 2ms/step - loss: 0.3121 - accuracy: 0.8722 - val_loss: 0.3467 - val_accuracy: 0.8587\nEpoch 15/100\n200/200 [==============================] - 0s 2ms/step - loss: 0.3112 - accuracy: 0.8734 - val_loss: 0.3486 - val_accuracy: 0.8537\nEpoch 16/100\n200/200 [==============================] - 0s 2ms/step - loss: 0.3116 - accuracy: 0.8727 - val_loss: 0.3484 - val_accuracy: 0.8531\nEpoch 17/100\n200/200 [==============================] - 0s 2ms/step - loss: 0.3121 - accuracy: 0.8723 - val_loss: 0.3498 - val_accuracy: 0.8512\nEpoch 18/100\n200/200 [==============================] - 0s 2ms/step - loss: 0.3109 - accuracy: 0.8723 - val_loss: 0.3477 - val_accuracy: 0.8569\nEpoch 19/100\n200/200 [==============================] - 0s 2ms/step - loss: 0.3120 - accuracy: 0.8720 - val_loss: 0.3484 - val_accuracy: 0.8575\nEpoch 20/100\n200/200 [==============================] - 0s 2ms/step - loss: 0.3115 - accuracy: 0.8712 - val_loss: 0.3461 - val_accuracy: 0.8544\nEpoch 21/100\n200/200 [==============================] - 0s 2ms/step - loss: 0.3112 - accuracy: 0.8708 - val_loss: 0.3503 - val_accuracy: 0.8494\nEpoch 22/100\n200/200 [==============================] - 0s 2ms/step - loss: 0.3117 - accuracy: 0.8717 - val_loss: 0.3479 - val_accuracy: 0.8544\nEpoch 23/100\n200/200 [==============================] - 0s 2ms/step - loss: 0.3112 - accuracy: 0.8720 - val_loss: 0.3486 - val_accuracy: 0.8550\nEpoch 24/100\n200/200 [==============================] - 0s 2ms/step - loss: 0.3116 - accuracy: 0.8741 - val_loss: 0.3488 - val_accuracy: 0.8531\nEpoch 25/100\n200/200 [==============================] - 0s 2ms/step - loss: 0.3114 - accuracy: 0.8725 - val_loss: 0.3479 - val_accuracy: 0.8550\nEpoch 26/100\n200/200 [==============================] - 0s 2ms/step - loss: 0.3115 - accuracy: 0.8706 - val_loss: 0.3473 - val_accuracy: 0.8600\nEpoch 27/100\n200/200 [==============================] - 0s 2ms/step - loss: 0.3111 - accuracy: 0.8717 - val_loss: 0.3467 - val_accuracy: 0.8556\nEpoch 28/100\n200/200 [==============================] - 0s 2ms/step - loss: 0.3111 - accuracy: 0.8717 - val_loss: 0.3498 - val_accuracy: 0.8544\nEpoch 29/100\n200/200 [==============================] - 0s 2ms/step - loss: 0.3111 - accuracy: 0.8714 - val_loss: 0.3472 - val_accuracy: 0.8569\nEpoch 30/100\n200/200 [==============================] - 0s 2ms/step - loss: 0.3110 - accuracy: 0.8716 - val_loss: 0.3508 - val_accuracy: 0.8537\nEpoch 31/100\n200/200 [==============================] - 0s 2ms/step - loss: 0.3111 - accuracy: 0.8719 - val_loss: 0.3503 - val_accuracy: 0.8544\nEpoch 32/100\n200/200 [==============================] - 0s 2ms/step - loss: 0.3121 - accuracy: 0.8714 - val_loss: 0.3485 - val_accuracy: 0.8537\nEpoch 33/100\n200/200 [==============================] - 0s 2ms/step - loss: 0.3110 - accuracy: 0.8714 - val_loss: 0.3474 - val_accuracy: 0.8556\nEpoch 34/100\n200/200 [==============================] - 0s 2ms/step - loss: 0.3109 - accuracy: 0.8716 - val_loss: 0.3506 - val_accuracy: 0.8512\nEpoch 35/100\n200/200 [==============================] - 0s 2ms/step - loss: 0.3114 - accuracy: 0.8723 - val_loss: 0.3464 - val_accuracy: 0.8556\nEpoch 36/100\n200/200 [==============================] - 0s 2ms/step - loss: 0.3114 - accuracy: 0.8705 - val_loss: 0.3505 - val_accuracy: 0.8537\nEpoch 37/100\n200/200 [==============================] - 0s 2ms/step - loss: 0.3110 - accuracy: 0.8722 - val_loss: 0.3477 - val_accuracy: 0.8569\nEpoch 38/100\n200/200 [==============================] - 0s 2ms/step - loss: 0.3116 - accuracy: 0.8716 - val_loss: 0.3502 - val_accuracy: 0.8544\nEpoch 39/100\n200/200 [==============================] - 0s 2ms/step - loss: 0.3106 - accuracy: 0.8712 - val_loss: 0.3469 - val_accuracy: 0.8581\nEpoch 40/100\n200/200 [==============================] - 0s 2ms/step - loss: 0.3113 - accuracy: 0.8723 - val_loss: 0.3511 - val_accuracy: 0.8531\nEpoch 41/100\n200/200 [==============================] - 0s 2ms/step - loss: 0.3107 - accuracy: 0.8706 - val_loss: 0.3479 - val_accuracy: 0.8575\nEpoch 42/100\n200/200 [==============================] - 0s 2ms/step - loss: 0.3105 - accuracy: 0.8739 - val_loss: 0.3485 - val_accuracy: 0.8556\nEpoch 43/100\n200/200 [==============================] - 0s 2ms/step - loss: 0.3106 - accuracy: 0.8711 - val_loss: 0.3497 - val_accuracy: 0.8537\nEpoch 44/100\n200/200 [==============================] - 0s 2ms/step - loss: 0.3105 - accuracy: 0.8714 - val_loss: 0.3491 - val_accuracy: 0.8544\nEpoch 45/100\n200/200 [==============================] - 0s 2ms/step - loss: 0.3111 - accuracy: 0.8719 - val_loss: 0.3470 - val_accuracy: 0.8544\nEpoch 46/100\n200/200 [==============================] - 0s 2ms/step - loss: 0.3105 - accuracy: 0.8716 - val_loss: 0.3499 - val_accuracy: 0.8525\nEpoch 47/100\n200/200 [==============================] - 0s 2ms/step - loss: 0.3103 - accuracy: 0.8716 - val_loss: 0.3486 - val_accuracy: 0.8544\nEpoch 48/100\n200/200 [==============================] - 0s 2ms/step - loss: 0.3106 - accuracy: 0.8730 - val_loss: 0.3542 - val_accuracy: 0.8481\nEpoch 49/100\n200/200 [==============================] - 0s 2ms/step - loss: 0.3107 - accuracy: 0.8717 - val_loss: 0.3487 - val_accuracy: 0.8562\nEpoch 50/100\n200/200 [==============================] - 0s 2ms/step - loss: 0.3106 - accuracy: 0.8711 - val_loss: 0.3498 - val_accuracy: 0.8537\nEpoch 51/100\n200/200 [==============================] - 0s 2ms/step - loss: 0.3104 - accuracy: 0.8725 - val_loss: 0.3500 - val_accuracy: 0.8506\nEpoch 52/100\n200/200 [==============================] - 0s 2ms/step - loss: 0.3109 - accuracy: 0.8733 - val_loss: 0.3485 - val_accuracy: 0.8556\nEpoch 53/100\n200/200 [==============================] - 0s 2ms/step - loss: 0.3107 - accuracy: 0.8728 - val_loss: 0.3522 - val_accuracy: 0.8519\nEpoch 54/100\n200/200 [==============================] - 0s 2ms/step - loss: 0.3105 - accuracy: 0.8720 - val_loss: 0.3476 - val_accuracy: 0.8575\nEpoch 55/100\n200/200 [==============================] - 0s 2ms/step - loss: 0.3104 - accuracy: 0.8717 - val_loss: 0.3469 - val_accuracy: 0.8569\nEpoch 56/100\n200/200 [==============================] - 0s 2ms/step - loss: 0.3105 - accuracy: 0.8703 - val_loss: 0.3497 - val_accuracy: 0.8550\nEpoch 57/100\n200/200 [==============================] - 0s 2ms/step - loss: 0.3102 - accuracy: 0.8716 - val_loss: 0.3508 - val_accuracy: 0.8531\nEpoch 58/100\n200/200 [==============================] - 0s 2ms/step - loss: 0.3106 - accuracy: 0.8714 - val_loss: 0.3504 - val_accuracy: 0.8525\nEpoch 59/100\n200/200 [==============================] - 0s 2ms/step - loss: 0.3109 - accuracy: 0.8720 - val_loss: 0.3476 - val_accuracy: 0.8569\nEpoch 60/100\n200/200 [==============================] - 0s 2ms/step - loss: 0.3109 - accuracy: 0.8722 - val_loss: 0.3482 - val_accuracy: 0.8550\nEpoch 61/100\n200/200 [==============================] - 0s 2ms/step - loss: 0.3096 - accuracy: 0.8714 - val_loss: 0.3484 - val_accuracy: 0.8556\nEpoch 62/100\n200/200 [==============================] - 0s 2ms/step - loss: 0.3105 - accuracy: 0.8708 - val_loss: 0.3503 - val_accuracy: 0.8550\nEpoch 63/100\n200/200 [==============================] - 0s 2ms/step - loss: 0.3106 - accuracy: 0.8716 - val_loss: 0.3499 - val_accuracy: 0.8525\nEpoch 64/100\n200/200 [==============================] - 0s 2ms/step - loss: 0.3104 - accuracy: 0.8727 - val_loss: 0.3488 - val_accuracy: 0.8562\nEpoch 65/100\n200/200 [==============================] - 0s 2ms/step - loss: 0.3097 - accuracy: 0.8731 - val_loss: 0.3516 - val_accuracy: 0.8537\nEpoch 66/100\n200/200 [==============================] - 0s 2ms/step - loss: 0.3102 - accuracy: 0.8703 - val_loss: 0.3480 - val_accuracy: 0.8587\nEpoch 67/100\n200/200 [==============================] - 0s 2ms/step - loss: 0.3101 - accuracy: 0.8733 - val_loss: 0.3530 - val_accuracy: 0.8487\nEpoch 68/100\n200/200 [==============================] - 0s 2ms/step - loss: 0.3098 - accuracy: 0.8716 - val_loss: 0.3483 - val_accuracy: 0.8569\nEpoch 69/100\n200/200 [==============================] - 0s 2ms/step - loss: 0.3101 - accuracy: 0.8711 - val_loss: 0.3504 - val_accuracy: 0.8544\nEpoch 70/100\n200/200 [==============================] - 0s 2ms/step - loss: 0.3102 - accuracy: 0.8727 - val_loss: 0.3488 - val_accuracy: 0.8575\nEpoch 71/100\n200/200 [==============================] - 0s 2ms/step - loss: 0.3101 - accuracy: 0.8720 - val_loss: 0.3498 - val_accuracy: 0.8587\nEpoch 72/100\n200/200 [==============================] - 0s 2ms/step - loss: 0.3095 - accuracy: 0.8720 - val_loss: 0.3479 - val_accuracy: 0.8581\nEpoch 73/100\n200/200 [==============================] - 0s 2ms/step - loss: 0.3098 - accuracy: 0.8711 - val_loss: 0.3492 - val_accuracy: 0.8556\nEpoch 74/100\n200/200 [==============================] - 0s 2ms/step - loss: 0.3105 - accuracy: 0.8695 - val_loss: 0.3497 - val_accuracy: 0.8556\nEpoch 75/100\n200/200 [==============================] - 0s 2ms/step - loss: 0.3094 - accuracy: 0.8744 - val_loss: 0.3515 - val_accuracy: 0.8544\nEpoch 76/100\n200/200 [==============================] - 0s 2ms/step - loss: 0.3101 - accuracy: 0.8712 - val_loss: 0.3490 - val_accuracy: 0.8581\nEpoch 77/100\n200/200 [==============================] - 0s 2ms/step - loss: 0.3101 - accuracy: 0.8728 - val_loss: 0.3487 - val_accuracy: 0.8550\nEpoch 78/100\n200/200 [==============================] - 0s 2ms/step - loss: 0.3098 - accuracy: 0.8725 - val_loss: 0.3478 - val_accuracy: 0.8575\nEpoch 79/100\n200/200 [==============================] - 0s 2ms/step - loss: 0.3101 - accuracy: 0.8714 - val_loss: 0.3487 - val_accuracy: 0.8581\nEpoch 80/100\n200/200 [==============================] - 0s 2ms/step - loss: 0.3097 - accuracy: 0.8717 - val_loss: 0.3493 - val_accuracy: 0.8562\nEpoch 81/100\n200/200 [==============================] - 0s 2ms/step - loss: 0.3093 - accuracy: 0.8739 - val_loss: 0.3499 - val_accuracy: 0.8569\nEpoch 82/100\n200/200 [==============================] - 0s 2ms/step - loss: 0.3105 - accuracy: 0.8727 - val_loss: 0.3509 - val_accuracy: 0.8512\nEpoch 83/100\n200/200 [==============================] - 0s 2ms/step - loss: 0.3092 - accuracy: 0.8747 - val_loss: 0.3504 - val_accuracy: 0.8575\nEpoch 84/100\n200/200 [==============================] - 0s 2ms/step - loss: 0.3100 - accuracy: 0.8731 - val_loss: 0.3510 - val_accuracy: 0.8581\nEpoch 85/100\n200/200 [==============================] - 0s 2ms/step - loss: 0.3097 - accuracy: 0.8723 - val_loss: 0.3502 - val_accuracy: 0.8537\nEpoch 86/100\n200/200 [==============================] - 0s 2ms/step - loss: 0.3101 - accuracy: 0.8725 - val_loss: 0.3498 - val_accuracy: 0.8581\nEpoch 87/100\n200/200 [==============================] - 0s 2ms/step - loss: 0.3095 - accuracy: 0.8720 - val_loss: 0.3494 - val_accuracy: 0.8562\nEpoch 88/100\n200/200 [==============================] - 0s 2ms/step - loss: 0.3094 - accuracy: 0.8723 - val_loss: 0.3500 - val_accuracy: 0.8556\nEpoch 89/100\n200/200 [==============================] - 0s 2ms/step - loss: 0.3091 - accuracy: 0.8730 - val_loss: 0.3496 - val_accuracy: 0.8575\nEpoch 90/100\n200/200 [==============================] - 0s 2ms/step - loss: 0.3098 - accuracy: 0.8723 - val_loss: 0.3516 - val_accuracy: 0.8519\nEpoch 91/100\n200/200 [==============================] - 0s 2ms/step - loss: 0.3092 - accuracy: 0.8712 - val_loss: 0.3503 - val_accuracy: 0.8575\nEpoch 92/100\n200/200 [==============================] - 0s 2ms/step - loss: 0.3098 - accuracy: 0.8727 - val_loss: 0.3528 - val_accuracy: 0.8512\nEpoch 93/100\n200/200 [==============================] - 0s 2ms/step - loss: 0.3092 - accuracy: 0.8712 - val_loss: 0.3495 - val_accuracy: 0.8569\nEpoch 94/100\n200/200 [==============================] - 0s 2ms/step - loss: 0.3095 - accuracy: 0.8716 - val_loss: 0.3496 - val_accuracy: 0.8569\nEpoch 95/100\n200/200 [==============================] - 0s 2ms/step - loss: 0.3090 - accuracy: 0.8739 - val_loss: 0.3530 - val_accuracy: 0.8519\nEpoch 96/100\n200/200 [==============================] - 0s 2ms/step - loss: 0.3091 - accuracy: 0.8741 - val_loss: 0.3486 - val_accuracy: 0.8550\nEpoch 97/100\n200/200 [==============================] - 0s 2ms/step - loss: 0.3095 - accuracy: 0.8723 - val_loss: 0.3535 - val_accuracy: 0.8500\nEpoch 98/100\n200/200 [==============================] - 0s 2ms/step - loss: 0.3098 - accuracy: 0.8731 - val_loss: 0.3504 - val_accuracy: 0.8550\nEpoch 99/100\n200/200 [==============================] - 0s 2ms/step - loss: 0.3091 - accuracy: 0.8739 - val_loss: 0.3516 - val_accuracy: 0.8512\nEpoch 100/100\n200/200 [==============================] - 0s 2ms/step - loss: 0.3097 - accuracy: 0.8708 - val_loss: 0.3494 - val_accuracy: 0.8550\n",
          "output_type": "stream"
        }
      ]
    },
    {
      "cell_type": "code",
      "source": [
        "model.layers[0].get_weights()"
      ],
      "metadata": {
        "execution": {
          "iopub.status.busy": "2023-06-25T15:34:56.409388Z",
          "iopub.execute_input": "2023-06-25T15:34:56.409822Z",
          "iopub.status.idle": "2023-06-25T15:34:56.423413Z",
          "shell.execute_reply.started": "2023-06-25T15:34:56.409787Z",
          "shell.execute_reply": "2023-06-25T15:34:56.421213Z"
        },
        "trusted": true,
        "id": "kb9xOArTLHoB",
        "outputId": "5b623b9f-0ad8-43f6-8bcd-43479083e8ff"
      },
      "execution_count": null,
      "outputs": [
        {
          "execution_count": 73,
          "output_type": "execute_result",
          "data": {
            "text/plain": "[array([[ 0.30266088,  0.31776842, -0.08116329,  0.10427119, -0.8970055 ,\n         -0.21476074, -0.13595036,  0.42367914,  0.33060423, -0.07025283,\n          0.09615203],\n        [ 0.27203894, -0.083164  ,  0.27504447, -0.06862257, -0.2889142 ,\n         -0.6869474 ,  1.8839134 ,  0.10515893,  0.2591121 , -0.10695429,\n         -0.4343097 ],\n        [ 0.15806104, -0.7225274 , -0.06874625, -0.9699512 , -0.7167145 ,\n         -0.08454734, -0.07862331,  0.42026377, -0.11149834,  0.3249836 ,\n         -0.28514138],\n        [-0.40887338,  0.11979003, -0.18682262, -0.25681233,  0.40175372,\n         -0.07243971, -0.2046044 ,  0.5611011 , -0.44375956, -0.7756605 ,\n          0.07363192],\n        [-0.8862544 , -0.9077161 ,  1.3328484 , -0.3960554 , -0.60769343,\n         -1.0250233 , -0.6027783 , -0.78583294, -0.3132767 ,  0.00665621,\n         -0.08287935],\n        [-0.29743844,  0.82754534, -0.30021194,  0.9966204 , -0.6618061 ,\n          0.02705223,  0.03148019, -0.0704797 , -0.67744297,  0.17881243,\n         -0.0210575 ],\n        [-1.1110222 , -0.1905842 , -0.35904503, -0.35717112, -0.3746404 ,\n          0.16608329,  0.1175955 ,  0.20717102,  0.27426147,  0.14536908,\n         -0.354138  ],\n        [-0.00249461,  0.5931674 , -0.10273309,  0.01836334,  0.22197804,\n         -0.37866965, -0.07968692,  0.21374586,  0.37183973, -0.27831274,\n         -0.04247578],\n        [ 0.42043847, -0.5194389 , -0.13391401,  0.86209136, -0.52571285,\n          0.02936363,  0.26351663,  0.39386898, -0.02930041, -0.06791874,\n          0.28230727],\n        [ 0.28198665, -0.24343516,  0.13575205, -0.15635931, -0.3686162 ,\n         -0.9090349 , -0.05586695,  0.33934805, -0.31664908,  0.532579  ,\n         -0.33795205],\n        [ 0.09151008,  0.6457645 ,  0.18398547, -0.16035773, -0.34076524,\n         -0.15035935,  0.15242425, -0.09914203,  0.1032747 ,  0.37330526,\n          0.05513443]], dtype=float32),\n array([ 0.45535466, -0.26495814,  0.95110905,  0.15535651,  0.11569992,\n         0.84596825, -0.38371626, -0.16741003,  0.4313806 ,  0.94175154,\n         0.83187777], dtype=float32)]"
          },
          "metadata": {}
        }
      ]
    },
    {
      "cell_type": "code",
      "source": [
        "model.layers[1].get_weights()"
      ],
      "metadata": {
        "execution": {
          "iopub.status.busy": "2023-06-25T15:35:01.369256Z",
          "iopub.execute_input": "2023-06-25T15:35:01.369679Z",
          "iopub.status.idle": "2023-06-25T15:35:01.380592Z",
          "shell.execute_reply.started": "2023-06-25T15:35:01.369630Z",
          "shell.execute_reply": "2023-06-25T15:35:01.379368Z"
        },
        "trusted": true,
        "id": "Q1eObPf1LHoC",
        "outputId": "3883152e-2889-45f8-875a-d16488e4f671"
      },
      "execution_count": null,
      "outputs": [
        {
          "execution_count": 74,
          "output_type": "execute_result",
          "data": {
            "text/plain": "[array([[-0.4273924 , -0.6322343 ,  0.6189236 ,  0.48448074,  0.63057655,\n          0.6096698 , -0.15740691,  0.254141  ,  0.22863135,  0.65276915,\n         -0.29414138],\n        [-0.9171211 ,  0.36020133,  0.11748034,  0.4245604 ,  0.08830062,\n         -0.07944879,  0.4895297 ,  0.54813755,  0.68510175,  0.5788242 ,\n         -0.57196736],\n        [ 0.81478333, -0.3555116 ,  0.57893306,  0.24184279,  0.4896851 ,\n         -1.5614399 ,  0.4536282 ,  0.6654268 ,  0.04471403, -0.38304788,\n         -0.40656337],\n        [ 0.5246559 , -0.8930784 , -0.09098208,  0.57889545,  0.4790831 ,\n          0.10672991, -0.07739327, -0.386622  ,  0.08466928,  0.31116432,\n          0.84289175],\n        [-0.27854213, -0.33849066, -1.6844699 , -0.03573248, -0.4622683 ,\n          0.22726952,  0.8413187 ,  0.2409548 , -0.0451356 , -0.22056518,\n         -0.3203503 ],\n        [-0.75725377,  0.16356577, -0.6506791 ,  0.36524412, -0.15292045,\n         -0.10127166, -0.29725298,  0.28681716,  0.14764614,  0.45203808,\n         -1.3420995 ],\n        [-0.40268067,  0.844296  , -0.24571416, -1.0587342 , -0.35895145,\n         -0.23372178,  0.35842067, -0.7647949 , -0.61555743,  0.23754439,\n          0.2877079 ],\n        [-0.07994197, -0.51431334,  0.09901542,  0.24509934,  0.48865342,\n         -1.2545363 , -0.18067628,  0.01961527,  0.09955036,  0.5031563 ,\n          0.44376397],\n        [-0.12206859,  0.04606445, -0.97836685,  0.331278  ,  0.20651051,\n          0.6606787 ,  0.05202152,  0.4749238 ,  0.15040903,  0.2411166 ,\n          0.26182187],\n        [-0.355895  , -0.2460491 , -0.5195151 ,  0.34097043, -0.7657495 ,\n          0.73827326, -0.24110435,  0.05493398,  0.3088333 , -0.02332452,\n          0.42536765],\n        [-0.19907038,  0.16493006, -1.1565602 ,  0.46031   , -0.35073295,\n         -0.71821284,  0.6173696 ,  0.14240769,  0.44577622,  0.34687555,\n          0.7300403 ]], dtype=float32),\n array([ 0.04774339,  0.5088415 ,  0.1466597 ,  0.706584  , -0.13749324,\n        -0.2496342 , -0.26813555,  0.4193813 ,  0.6070376 , -0.37614262,\n         0.31832522], dtype=float32)]"
          },
          "metadata": {}
        }
      ]
    },
    {
      "cell_type": "code",
      "source": [
        "y_log = model.predict(X_test_scaled)"
      ],
      "metadata": {
        "execution": {
          "iopub.status.busy": "2023-06-25T15:35:05.044114Z",
          "iopub.execute_input": "2023-06-25T15:35:05.044528Z",
          "iopub.status.idle": "2023-06-25T15:35:05.291656Z",
          "shell.execute_reply.started": "2023-06-25T15:35:05.044498Z",
          "shell.execute_reply": "2023-06-25T15:35:05.290417Z"
        },
        "trusted": true,
        "id": "yDr3w1CPLHoC",
        "outputId": "35118366-bfe9-4597-96af-afaa6107bccc"
      },
      "execution_count": null,
      "outputs": [
        {
          "name": "stdout",
          "text": "63/63 [==============================] - 0s 1ms/step\n",
          "output_type": "stream"
        }
      ]
    },
    {
      "cell_type": "code",
      "source": [
        "y_pred=np.where(y_log > 0.5,1,0)\n",
        "# it means if y_log >0.5 then y_log=1 otherwise it would be zero."
      ],
      "metadata": {
        "execution": {
          "iopub.status.busy": "2023-06-25T15:35:07.312885Z",
          "iopub.execute_input": "2023-06-25T15:35:07.314097Z",
          "iopub.status.idle": "2023-06-25T15:35:07.318816Z",
          "shell.execute_reply.started": "2023-06-25T15:35:07.314056Z",
          "shell.execute_reply": "2023-06-25T15:35:07.317853Z"
        },
        "trusted": true,
        "id": "eKJtREa_LHoD"
      },
      "execution_count": null,
      "outputs": []
    },
    {
      "cell_type": "code",
      "source": [
        "from sklearn.metrics import accuracy_score\n",
        "accuracy_score(Y_test,y_pred)"
      ],
      "metadata": {
        "execution": {
          "iopub.status.busy": "2023-06-25T15:35:10.010528Z",
          "iopub.execute_input": "2023-06-25T15:35:10.010926Z",
          "iopub.status.idle": "2023-06-25T15:35:10.019516Z",
          "shell.execute_reply.started": "2023-06-25T15:35:10.010899Z",
          "shell.execute_reply": "2023-06-25T15:35:10.018236Z"
        },
        "trusted": true,
        "id": "DmR56xu2LHoI",
        "outputId": "dc9c8af2-5ee5-4692-abcd-18897526f59d"
      },
      "execution_count": null,
      "outputs": [
        {
          "execution_count": 77,
          "output_type": "execute_result",
          "data": {
            "text/plain": "0.8625"
          },
          "metadata": {}
        }
      ]
    },
    {
      "cell_type": "code",
      "source": [
        "import matplotlib.pyplot as plt"
      ],
      "metadata": {
        "execution": {
          "iopub.status.busy": "2023-06-25T15:35:57.219108Z",
          "iopub.execute_input": "2023-06-25T15:35:57.219611Z",
          "iopub.status.idle": "2023-06-25T15:35:57.225532Z",
          "shell.execute_reply.started": "2023-06-25T15:35:57.219574Z",
          "shell.execute_reply": "2023-06-25T15:35:57.224177Z"
        },
        "trusted": true,
        "id": "GTfx69SjLHoJ"
      },
      "execution_count": null,
      "outputs": []
    },
    {
      "cell_type": "code",
      "source": [
        "plt.plot(history.history['loss'])\n",
        "plt.plot(history.history['val_loss'])"
      ],
      "metadata": {
        "execution": {
          "iopub.status.busy": "2023-06-25T15:39:03.851620Z",
          "iopub.execute_input": "2023-06-25T15:39:03.852046Z",
          "iopub.status.idle": "2023-06-25T15:39:04.137374Z",
          "shell.execute_reply.started": "2023-06-25T15:39:03.852016Z",
          "shell.execute_reply": "2023-06-25T15:39:04.136195Z"
        },
        "trusted": true,
        "id": "PoH-Vs3uLHoK",
        "outputId": "0884f02a-f136-49e2-af80-7476b0151a4d"
      },
      "execution_count": null,
      "outputs": [
        {
          "execution_count": 82,
          "output_type": "execute_result",
          "data": {
            "text/plain": "[<matplotlib.lines.Line2D at 0x795bdc1f5330>]"
          },
          "metadata": {}
        },
        {
          "output_type": "display_data",
          "data": {
            "text/plain": "<Figure size 640x480 with 1 Axes>",
            "image/png": "[encoded data removed]"
          },
          "metadata": {}
        }
      ]
    },
    {
      "cell_type": "code",
      "source": [
        "plt.plot(history.history['accuracy'])\n",
        "plt.plot(history.history['val_accuracy'])"
      ],
      "metadata": {
        "execution": {
          "iopub.status.busy": "2023-06-25T15:40:17.116117Z",
          "iopub.execute_input": "2023-06-25T15:40:17.116568Z",
          "iopub.status.idle": "2023-06-25T15:40:17.401330Z",
          "shell.execute_reply.started": "2023-06-25T15:40:17.116537Z",
          "shell.execute_reply": "2023-06-25T15:40:17.400462Z"
        },
        "trusted": true,
        "id": "wM_-5OFTLHoK",
        "outputId": "c2c923cb-f675-4c40-f8e4-4cddc34e8545"
      },
      "execution_count": null,
      "outputs": [
        {
          "execution_count": 83,
          "output_type": "execute_result",
          "data": {
            "text/plain": "[<matplotlib.lines.Line2D at 0x795be630c130>]"
          },
          "metadata": {}
        },
        {
          "output_type": "display_data",
          "data": {
            "text/plain": "<Figure size 640x480 with 1 Axes>",
            "image/png": "[encoded data removed]"
          },
          "metadata": {}
        }
      ]
    },
    {
      "cell_type": "code",
      "source": [],
      "metadata": {
        "id": "DkJh0usCLHoL"
      },
      "execution_count": null,
      "outputs": []
    }
  ]
}