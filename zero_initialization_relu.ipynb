{
  "nbformat": 4,
  "nbformat_minor": 0,
  "metadata": {
    "colab": {
      "provenance": [],
      "authorship_tag": "ABX9TyMkmpJvYiwl7rNTEIv8AAFK",
      "include_colab_link": true
    },
    "kernelspec": {
      "name": "python3",
      "display_name": "Python 3"
    },
    "language_info": {
      "name": "python"
    }
  },
  "cells": [
    {
      "cell_type": "markdown",
      "metadata": {
        "id": "view-in-github",
        "colab_type": "text"
      },
      "source": [
        "<a href=\"https://colab.research.google.com/github/jitendra986/100-Days-of-Deep-Learning/blob/main/zero_initialization_relu.ipynb\" target=\"_parent\"><img src=\"https://colab.research.google.com/assets/colab-badge.svg\" alt=\"Open In Colab\"/></a>"
      ]
    },
    {
      "cell_type": "code",
      "execution_count": 1,
      "metadata": {
        "id": "i9KLJcPV7TJI"
      },
      "outputs": [],
      "source": [
        "import numpy as np\n",
        "import pandas as pd\n",
        "import matplotlib.pyplot as plt"
      ]
    },
    {
      "cell_type": "code",
      "source": [
        "from google.colab import drive\n",
        "\n",
        "drive.mount('/content/drive')\n",
        "\n",
        "#df = pd.read_csv('placement.csv')\n",
        "df = pd.read_csv('/content/drive/My Drive/Colab_Notebooks/ushape.csv')"
      ],
      "metadata": {
        "colab": {
          "base_uri": "https://localhost:8080/"
        },
        "id": "O5f2bnmt8nLO",
        "outputId": "d08d14d5-f2d9-4123-8048-ca95c7512209"
      },
      "execution_count": 2,
      "outputs": [
        {
          "output_type": "stream",
          "name": "stdout",
          "text": [
            "Mounted at /content/drive\n"
          ]
        }
      ]
    },
    {
      "cell_type": "code",
      "source": [
        "df.head()"
      ],
      "metadata": {
        "colab": {
          "base_uri": "https://localhost:8080/",
          "height": 206
        },
        "id": "LtlAfaU38w3v",
        "outputId": "c8479399-18bd-4e89-ca38-68720aec41b4"
      },
      "execution_count": 3,
      "outputs": [
        {
          "output_type": "execute_result",
          "data": {
            "text/plain": [
              "        X       Y  class\n",
              "0  0.0316  0.9870    0.0\n",
              "1  2.1200 -0.0462    1.0\n",
              "2  0.8820 -0.0758    0.0\n",
              "3 -0.0551 -0.0373    1.0\n",
              "4  0.8300 -0.5390    1.0"
            ],
            "text/html": [
              "\n",
              "\n",
              "  <div id=\"df-25269844-257f-4e95-8881-236daf736f53\">\n",
              "    <div class=\"colab-df-container\">\n",
              "      <div>\n",
              "<style scoped>\n",
              "    .dataframe tbody tr th:only-of-type {\n",
              "        vertical-align: middle;\n",
              "    }\n",
              "\n",
              "    .dataframe tbody tr th {\n",
              "        vertical-align: top;\n",
              "    }\n",
              "\n",
              "    .dataframe thead th {\n",
              "        text-align: right;\n",
              "    }\n",
              "</style>\n",
              "<table border=\"1\" class=\"dataframe\">\n",
              "  <thead>\n",
              "    <tr style=\"text-align: right;\">\n",
              "      <th></th>\n",
              "      <th>X</th>\n",
              "      <th>Y</th>\n",
              "      <th>class</th>\n",
              "    </tr>\n",
              "  </thead>\n",
              "  <tbody>\n",
              "    <tr>\n",
              "      <th>0</th>\n",
              "      <td>0.0316</td>\n",
              "      <td>0.9870</td>\n",
              "      <td>0.0</td>\n",
              "    </tr>\n",
              "    <tr>\n",
              "      <th>1</th>\n",
              "      <td>2.1200</td>\n",
              "      <td>-0.0462</td>\n",
              "      <td>1.0</td>\n",
              "    </tr>\n",
              "    <tr>\n",
              "      <th>2</th>\n",
              "      <td>0.8820</td>\n",
              "      <td>-0.0758</td>\n",
              "      <td>0.0</td>\n",
              "    </tr>\n",
              "    <tr>\n",
              "      <th>3</th>\n",
              "      <td>-0.0551</td>\n",
              "      <td>-0.0373</td>\n",
              "      <td>1.0</td>\n",
              "    </tr>\n",
              "    <tr>\n",
              "      <th>4</th>\n",
              "      <td>0.8300</td>\n",
              "      <td>-0.5390</td>\n",
              "      <td>1.0</td>\n",
              "    </tr>\n",
              "  </tbody>\n",
              "</table>\n",
              "</div>\n",
              "      <button class=\"colab-df-convert\" onclick=\"convertToInteractive('df-25269844-257f-4e95-8881-236daf736f53')\"\n",
              "              title=\"Convert this dataframe to an interactive table.\"\n",
              "              style=\"display:none;\">\n",
              "\n",
              "  <svg xmlns=\"http://www.w3.org/2000/svg\" height=\"24px\"viewBox=\"0 0 24 24\"\n",
              "       width=\"24px\">\n",
              "    <path d=\"M0 0h24v24H0V0z\" fill=\"none\"/>\n",
              "    <path d=\"M18.56 5.44l.94 2.06.94-2.06 2.06-.94-2.06-.94-.94-2.06-.94 2.06-2.06.94zm-11 1L8.5 8.5l.94-2.06 2.06-.94-2.06-.94L8.5 2.5l-.94 2.06-2.06.94zm10 10l.94 2.06.94-2.06 2.06-.94-2.06-.94-.94-2.06-.94 2.06-2.06.94z\"/><path d=\"M17.41 7.96l-1.37-1.37c-.4-.4-.92-.59-1.43-.59-.52 0-1.04.2-1.43.59L10.3 9.45l-7.72 7.72c-.78.78-.78 2.05 0 2.83L4 21.41c.39.39.9.59 1.41.59.51 0 1.02-.2 1.41-.59l7.78-7.78 2.81-2.81c.8-.78.8-2.07 0-2.86zM5.41 20L4 18.59l7.72-7.72 1.47 1.35L5.41 20z\"/>\n",
              "  </svg>\n",
              "      </button>\n",
              "\n",
              "\n",
              "\n",
              "    <div id=\"df-8fb26a5a-1c8d-420f-a7cf-108ef648c60b\">\n",
              "      <button class=\"colab-df-quickchart\" onclick=\"quickchart('df-8fb26a5a-1c8d-420f-a7cf-108ef648c60b')\"\n",
              "              title=\"Suggest charts.\"\n",
              "              style=\"display:none;\">\n",
              "\n",
              "<svg xmlns=\"http://www.w3.org/2000/svg\" height=\"24px\"viewBox=\"0 0 24 24\"\n",
              "     width=\"24px\">\n",
              "    <g>\n",
              "        <path d=\"M19 3H5c-1.1 0-2 .9-2 2v14c0 1.1.9 2 2 2h14c1.1 0 2-.9 2-2V5c0-1.1-.9-2-2-2zM9 17H7v-7h2v7zm4 0h-2V7h2v10zm4 0h-2v-4h2v4z\"/>\n",
              "    </g>\n",
              "</svg>\n",
              "      </button>\n",
              "    </div>\n",
              "\n",
              "<style>\n",
              "  .colab-df-quickchart {\n",
              "    background-color: #E8F0FE;\n",
              "    border: none;\n",
              "    border-radius: 50%;\n",
              "    cursor: pointer;\n",
              "    display: none;\n",
              "    fill: #1967D2;\n",
              "    height: 32px;\n",
              "    padding: 0 0 0 0;\n",
              "    width: 32px;\n",
              "  }\n",
              "\n",
              "  .colab-df-quickchart:hover {\n",
              "    background-color: #E2EBFA;\n",
              "    box-shadow: 0px 1px 2px rgba(60, 64, 67, 0.3), 0px 1px 3px 1px rgba(60, 64, 67, 0.15);\n",
              "    fill: #174EA6;\n",
              "  }\n",
              "\n",
              "  [theme=dark] .colab-df-quickchart {\n",
              "    background-color: #3B4455;\n",
              "    fill: #D2E3FC;\n",
              "  }\n",
              "\n",
              "  [theme=dark] .colab-df-quickchart:hover {\n",
              "    background-color: #434B5C;\n",
              "    box-shadow: 0px 1px 3px 1px rgba(0, 0, 0, 0.15);\n",
              "    filter: drop-shadow(0px 1px 2px rgba(0, 0, 0, 0.3));\n",
              "    fill: #FFFFFF;\n",
              "  }\n",
              "</style>\n",
              "\n",
              "    <script>\n",
              "      async function quickchart(key) {\n",
              "        const containerElement = document.querySelector('#' + key);\n",
              "        const charts = await google.colab.kernel.invokeFunction(\n",
              "            'suggestCharts', [key], {});\n",
              "      }\n",
              "    </script>\n",
              "\n",
              "      <script>\n",
              "\n",
              "function displayQuickchartButton(domScope) {\n",
              "  let quickchartButtonEl =\n",
              "    domScope.querySelector('#df-8fb26a5a-1c8d-420f-a7cf-108ef648c60b button.colab-df-quickchart');\n",
              "  quickchartButtonEl.style.display =\n",
              "    google.colab.kernel.accessAllowed ? 'block' : 'none';\n",
              "}\n",
              "\n",
              "        displayQuickchartButton(document);\n",
              "      </script>\n",
              "      <style>\n",
              "    .colab-df-container {\n",
              "      display:flex;\n",
              "      flex-wrap:wrap;\n",
              "      gap: 12px;\n",
              "    }\n",
              "\n",
              "    .colab-df-convert {\n",
              "      background-color: #E8F0FE;\n",
              "      border: none;\n",
              "      border-radius: 50%;\n",
              "      cursor: pointer;\n",
              "      display: none;\n",
              "      fill: #1967D2;\n",
              "      height: 32px;\n",
              "      padding: 0 0 0 0;\n",
              "      width: 32px;\n",
              "    }\n",
              "\n",
              "    .colab-df-convert:hover {\n",
              "      background-color: #E2EBFA;\n",
              "      box-shadow: 0px 1px 2px rgba(60, 64, 67, 0.3), 0px 1px 3px 1px rgba(60, 64, 67, 0.15);\n",
              "      fill: #174EA6;\n",
              "    }\n",
              "\n",
              "    [theme=dark] .colab-df-convert {\n",
              "      background-color: #3B4455;\n",
              "      fill: #D2E3FC;\n",
              "    }\n",
              "\n",
              "    [theme=dark] .colab-df-convert:hover {\n",
              "      background-color: #434B5C;\n",
              "      box-shadow: 0px 1px 3px 1px rgba(0, 0, 0, 0.15);\n",
              "      filter: drop-shadow(0px 1px 2px rgba(0, 0, 0, 0.3));\n",
              "      fill: #FFFFFF;\n",
              "    }\n",
              "  </style>\n",
              "\n",
              "      <script>\n",
              "        const buttonEl =\n",
              "          document.querySelector('#df-25269844-257f-4e95-8881-236daf736f53 button.colab-df-convert');\n",
              "        buttonEl.style.display =\n",
              "          google.colab.kernel.accessAllowed ? 'block' : 'none';\n",
              "\n",
              "        async function convertToInteractive(key) {\n",
              "          const element = document.querySelector('#df-25269844-257f-4e95-8881-236daf736f53');\n",
              "          const dataTable =\n",
              "            await google.colab.kernel.invokeFunction('convertToInteractive',\n",
              "                                                     [key], {});\n",
              "          if (!dataTable) return;\n",
              "\n",
              "          const docLinkHtml = 'Like what you see? Visit the ' +\n",
              "            '<a target=\"_blank\" href=https://colab.research.google.com/notebooks/data_table.ipynb>data table notebook</a>'\n",
              "            + ' to learn more about interactive tables.';\n",
              "          element.innerHTML = '';\n",
              "          dataTable['output_type'] = 'display_data';\n",
              "          await google.colab.output.renderOutput(dataTable, element);\n",
              "          const docLink = document.createElement('div');\n",
              "          docLink.innerHTML = docLinkHtml;\n",
              "          element.appendChild(docLink);\n",
              "        }\n",
              "      </script>\n",
              "    </div>\n",
              "  </div>\n"
            ]
          },
          "metadata": {},
          "execution_count": 3
        }
      ]
    },
    {
      "cell_type": "code",
      "source": [
        "plt.scatter(df['X'],df['Y'], c = df['class'])"
      ],
      "metadata": {
        "colab": {
          "base_uri": "https://localhost:8080/",
          "height": 447
        },
        "id": "v61-81VS83ex",
        "outputId": "c38b30c3-8281-4f9b-b565-f98e2d5e852e"
      },
      "execution_count": 4,
      "outputs": [
        {
          "output_type": "execute_result",
          "data": {
            "text/plain": [
              "<matplotlib.collections.PathCollection at 0x7f6d95ca7d30>"
            ]
          },
          "metadata": {},
          "execution_count": 4
        },
        {
          "output_type": "display_data",
          "data": {
            "text/plain": [
              "<Figure size 640x480 with 1 Axes>"
            ],
            "image/png": "[encoded data removed]"
          },
          "metadata": {}
        }
      ]
    },
    {
      "cell_type": "code",
      "source": [
        "type(df['X'])"
      ],
      "metadata": {
        "colab": {
          "base_uri": "https://localhost:8080/"
        },
        "id": "L8jboj3k-1hl",
        "outputId": "0677fcc9-70ed-4f05-95c7-dae1fff3d510"
      },
      "execution_count": 5,
      "outputs": [
        {
          "output_type": "execute_result",
          "data": {
            "text/plain": [
              "pandas.core.series.Series"
            ]
          },
          "metadata": {},
          "execution_count": 5
        }
      ]
    },
    {
      "cell_type": "code",
      "source": [
        "X = df.iloc[:,0:2].values\n",
        "Y = df.iloc[:,-1].values"
      ],
      "metadata": {
        "id": "XOHJ-xhI_BTd"
      },
      "execution_count": 6,
      "outputs": []
    },
    {
      "cell_type": "code",
      "source": [
        "import tensorflow\n",
        "from tensorflow import keras\n",
        "from keras import Sequential\n",
        "from keras.layers import Dense"
      ],
      "metadata": {
        "id": "dasGV-Bc_RUt"
      },
      "execution_count": 7,
      "outputs": []
    },
    {
      "cell_type": "code",
      "source": [
        "model = Sequential()\n",
        "\n",
        "model.add(Dense(2,activation='relu', input_dim=2))\n",
        "model.add(Dense(1,activation='sigmoid'))\n",
        "\n",
        "model.summary()"
      ],
      "metadata": {
        "colab": {
          "base_uri": "https://localhost:8080/"
        },
        "id": "1aFH6kEs_gfY",
        "outputId": "394f496d-a2f9-4ae8-fa26-c61fa0588ed3"
      },
      "execution_count": 8,
      "outputs": [
        {
          "output_type": "stream",
          "name": "stdout",
          "text": [
            "Model: \"sequential\"\n",
            "_________________________________________________________________\n",
            " Layer (type)                Output Shape              Param #   \n",
            "=================================================================\n",
            " dense (Dense)               (None, 2)                 6         \n",
            "                                                                 \n",
            " dense_1 (Dense)             (None, 1)                 3         \n",
            "                                                                 \n",
            "=================================================================\n",
            "Total params: 9\n",
            "Trainable params: 9\n",
            "Non-trainable params: 0\n",
            "_________________________________________________________________\n"
          ]
        }
      ]
    },
    {
      "cell_type": "code",
      "source": [
        "model.get_weights()"
      ],
      "metadata": {
        "colab": {
          "base_uri": "https://localhost:8080/"
        },
        "id": "-wBYxFuk_7la",
        "outputId": "5b65586d-4740-43ef-e602-a7d89e861855"
      },
      "execution_count": 9,
      "outputs": [
        {
          "output_type": "execute_result",
          "data": {
            "text/plain": [
              "[array([[-0.91299987,  0.71869683],\n",
              "        [ 0.5531589 , -0.06047094]], dtype=float32),\n",
              " array([0., 0.], dtype=float32),\n",
              " array([[ 1.300475 ],\n",
              "        [-0.8232308]], dtype=float32),\n",
              " array([0.], dtype=float32)]"
            ]
          },
          "metadata": {},
          "execution_count": 9
        }
      ]
    },
    {
      "cell_type": "code",
      "source": [
        "initial_weights = model.get_weights()"
      ],
      "metadata": {
        "id": "jLd5o5cQ9FK0"
      },
      "execution_count": 10,
      "outputs": []
    },
    {
      "cell_type": "code",
      "source": [
        "# initial_weights[0] = np.zeros(model.get_weights()[0].shape)\n",
        "# initial_weights[1] = np.zeros(model.get_weights()[1].shape)\n",
        "# initial_weights[2] = np.zeros(model.get_weights()[2].shape)\n",
        "# initial_weights[3] = np.zeros(model.get_weights()[3].shape)\n",
        "initial_weights[0] = np.ones(model.get_weights()[0].shape)*0.5\n",
        "initial_weights[1] = np.ones(model.get_weights()[1].shape)*0.5\n",
        "initial_weights[2] = np.ones(model.get_weights()[2].shape)*0.5\n",
        "initial_weights[3] = np.ones(model.get_weights()[3].shape)*0.5"
      ],
      "metadata": {
        "id": "0gxUHL6o9OvE"
      },
      "execution_count": 11,
      "outputs": []
    },
    {
      "cell_type": "code",
      "source": [
        "model.set_weights(initial_weights)"
      ],
      "metadata": {
        "id": "NwDxhX_r9hRn"
      },
      "execution_count": 12,
      "outputs": []
    },
    {
      "cell_type": "code",
      "source": [
        "model.get_weights()"
      ],
      "metadata": {
        "colab": {
          "base_uri": "https://localhost:8080/"
        },
        "id": "3Pzyw7eo93fa",
        "outputId": "14fcc8d1-5bdf-47da-a822-d48ef47f0a49"
      },
      "execution_count": 13,
      "outputs": [
        {
          "output_type": "execute_result",
          "data": {
            "text/plain": [
              "[array([[0.5, 0.5],\n",
              "        [0.5, 0.5]], dtype=float32),\n",
              " array([0.5, 0.5], dtype=float32),\n",
              " array([[0.5],\n",
              "        [0.5]], dtype=float32),\n",
              " array([0.5], dtype=float32)]"
            ]
          },
          "metadata": {},
          "execution_count": 13
        }
      ]
    },
    {
      "cell_type": "code",
      "source": [
        "model.compile(loss='binary_crossentropy', optimizer='adam', metrics=['accuracy'])"
      ],
      "metadata": {
        "id": "nybhB-bN96Yf"
      },
      "execution_count": 14,
      "outputs": []
    },
    {
      "cell_type": "code",
      "source": [
        "history= model.fit(X,Y,epochs=100, validation_split=0.2)"
      ],
      "metadata": {
        "colab": {
          "base_uri": "https://localhost:8080/"
        },
        "id": "PbWgN9rM-8RO",
        "outputId": "ab5e9381-c8df-4962-91c8-4ef91b71dd92"
      },
      "execution_count": 15,
      "outputs": [
        {
          "output_type": "stream",
          "name": "stdout",
          "text": [
            "Epoch 1/100\n",
            "3/3 [==============================] - 1s 124ms/step - loss: 0.9313 - accuracy: 0.5000 - val_loss: 0.8206 - val_accuracy: 0.5000\n",
            "Epoch 2/100\n",
            "3/3 [==============================] - 0s 20ms/step - loss: 0.9271 - accuracy: 0.5000 - val_loss: 0.8178 - val_accuracy: 0.5000\n",
            "Epoch 3/100\n",
            "3/3 [==============================] - 0s 22ms/step - loss: 0.9229 - accuracy: 0.5000 - val_loss: 0.8148 - val_accuracy: 0.5000\n",
            "Epoch 4/100\n",
            "3/3 [==============================] - 0s 20ms/step - loss: 0.9186 - accuracy: 0.5000 - val_loss: 0.8119 - val_accuracy: 0.5000\n",
            "Epoch 5/100\n",
            "3/3 [==============================] - 0s 21ms/step - loss: 0.9147 - accuracy: 0.5000 - val_loss: 0.8091 - val_accuracy: 0.5000\n",
            "Epoch 6/100\n",
            "3/3 [==============================] - 0s 19ms/step - loss: 0.9107 - accuracy: 0.5000 - val_loss: 0.8063 - val_accuracy: 0.5000\n",
            "Epoch 7/100\n",
            "3/3 [==============================] - 0s 28ms/step - loss: 0.9070 - accuracy: 0.5000 - val_loss: 0.8036 - val_accuracy: 0.5000\n",
            "Epoch 8/100\n",
            "3/3 [==============================] - 0s 22ms/step - loss: 0.9028 - accuracy: 0.5000 - val_loss: 0.8010 - val_accuracy: 0.5000\n",
            "Epoch 9/100\n",
            "3/3 [==============================] - 0s 20ms/step - loss: 0.8991 - accuracy: 0.5000 - val_loss: 0.7983 - val_accuracy: 0.5000\n",
            "Epoch 10/100\n",
            "3/3 [==============================] - 0s 23ms/step - loss: 0.8954 - accuracy: 0.5000 - val_loss: 0.7957 - val_accuracy: 0.5000\n",
            "Epoch 11/100\n",
            "3/3 [==============================] - 0s 27ms/step - loss: 0.8919 - accuracy: 0.5000 - val_loss: 0.7932 - val_accuracy: 0.5000\n",
            "Epoch 12/100\n",
            "3/3 [==============================] - 0s 28ms/step - loss: 0.8880 - accuracy: 0.5000 - val_loss: 0.7907 - val_accuracy: 0.5000\n",
            "Epoch 13/100\n",
            "3/3 [==============================] - 0s 19ms/step - loss: 0.8845 - accuracy: 0.5000 - val_loss: 0.7882 - val_accuracy: 0.5000\n",
            "Epoch 14/100\n",
            "3/3 [==============================] - 0s 18ms/step - loss: 0.8812 - accuracy: 0.5000 - val_loss: 0.7858 - val_accuracy: 0.5000\n",
            "Epoch 15/100\n",
            "3/3 [==============================] - 0s 18ms/step - loss: 0.8775 - accuracy: 0.5000 - val_loss: 0.7835 - val_accuracy: 0.5000\n",
            "Epoch 16/100\n",
            "3/3 [==============================] - 0s 23ms/step - loss: 0.8741 - accuracy: 0.5000 - val_loss: 0.7812 - val_accuracy: 0.5000\n",
            "Epoch 17/100\n",
            "3/3 [==============================] - 0s 30ms/step - loss: 0.8711 - accuracy: 0.5000 - val_loss: 0.7790 - val_accuracy: 0.5000\n",
            "Epoch 18/100\n",
            "3/3 [==============================] - 0s 22ms/step - loss: 0.8675 - accuracy: 0.5000 - val_loss: 0.7769 - val_accuracy: 0.5000\n",
            "Epoch 19/100\n",
            "3/3 [==============================] - 0s 20ms/step - loss: 0.8642 - accuracy: 0.5000 - val_loss: 0.7748 - val_accuracy: 0.5000\n",
            "Epoch 20/100\n",
            "3/3 [==============================] - 0s 29ms/step - loss: 0.8609 - accuracy: 0.5000 - val_loss: 0.7727 - val_accuracy: 0.5000\n",
            "Epoch 21/100\n",
            "3/3 [==============================] - 0s 19ms/step - loss: 0.8581 - accuracy: 0.5000 - val_loss: 0.7705 - val_accuracy: 0.5000\n",
            "Epoch 22/100\n",
            "3/3 [==============================] - 0s 30ms/step - loss: 0.8548 - accuracy: 0.5000 - val_loss: 0.7685 - val_accuracy: 0.5000\n",
            "Epoch 23/100\n",
            "3/3 [==============================] - 0s 19ms/step - loss: 0.8518 - accuracy: 0.5000 - val_loss: 0.7664 - val_accuracy: 0.5000\n",
            "Epoch 24/100\n",
            "3/3 [==============================] - 0s 19ms/step - loss: 0.8487 - accuracy: 0.5000 - val_loss: 0.7644 - val_accuracy: 0.5000\n",
            "Epoch 25/100\n",
            "3/3 [==============================] - 0s 22ms/step - loss: 0.8457 - accuracy: 0.5000 - val_loss: 0.7624 - val_accuracy: 0.5000\n",
            "Epoch 26/100\n",
            "3/3 [==============================] - 0s 20ms/step - loss: 0.8427 - accuracy: 0.5000 - val_loss: 0.7605 - val_accuracy: 0.5000\n",
            "Epoch 27/100\n",
            "3/3 [==============================] - 0s 30ms/step - loss: 0.8398 - accuracy: 0.5000 - val_loss: 0.7586 - val_accuracy: 0.5000\n",
            "Epoch 28/100\n",
            "3/3 [==============================] - 0s 28ms/step - loss: 0.8371 - accuracy: 0.5000 - val_loss: 0.7567 - val_accuracy: 0.5000\n",
            "Epoch 29/100\n",
            "3/3 [==============================] - 0s 20ms/step - loss: 0.8343 - accuracy: 0.5000 - val_loss: 0.7549 - val_accuracy: 0.5000\n",
            "Epoch 30/100\n",
            "3/3 [==============================] - 0s 18ms/step - loss: 0.8317 - accuracy: 0.5000 - val_loss: 0.7531 - val_accuracy: 0.5000\n",
            "Epoch 31/100\n",
            "3/3 [==============================] - 0s 32ms/step - loss: 0.8289 - accuracy: 0.5000 - val_loss: 0.7513 - val_accuracy: 0.5000\n",
            "Epoch 32/100\n",
            "3/3 [==============================] - 0s 19ms/step - loss: 0.8263 - accuracy: 0.5000 - val_loss: 0.7496 - val_accuracy: 0.5000\n",
            "Epoch 33/100\n",
            "3/3 [==============================] - 0s 33ms/step - loss: 0.8238 - accuracy: 0.5000 - val_loss: 0.7480 - val_accuracy: 0.5000\n",
            "Epoch 34/100\n",
            "3/3 [==============================] - 0s 20ms/step - loss: 0.8216 - accuracy: 0.5000 - val_loss: 0.7463 - val_accuracy: 0.5000\n",
            "Epoch 35/100\n",
            "3/3 [==============================] - 0s 24ms/step - loss: 0.8186 - accuracy: 0.5000 - val_loss: 0.7447 - val_accuracy: 0.5000\n",
            "Epoch 36/100\n",
            "3/3 [==============================] - 0s 29ms/step - loss: 0.8168 - accuracy: 0.5000 - val_loss: 0.7431 - val_accuracy: 0.5000\n",
            "Epoch 37/100\n",
            "3/3 [==============================] - 0s 20ms/step - loss: 0.8142 - accuracy: 0.5000 - val_loss: 0.7415 - val_accuracy: 0.5000\n",
            "Epoch 38/100\n",
            "3/3 [==============================] - 0s 28ms/step - loss: 0.8120 - accuracy: 0.5000 - val_loss: 0.7400 - val_accuracy: 0.5000\n",
            "Epoch 39/100\n",
            "3/3 [==============================] - 0s 28ms/step - loss: 0.8098 - accuracy: 0.5000 - val_loss: 0.7385 - val_accuracy: 0.5000\n",
            "Epoch 40/100\n",
            "3/3 [==============================] - 0s 29ms/step - loss: 0.8074 - accuracy: 0.5000 - val_loss: 0.7370 - val_accuracy: 0.5000\n",
            "Epoch 41/100\n",
            "3/3 [==============================] - 0s 19ms/step - loss: 0.8055 - accuracy: 0.5000 - val_loss: 0.7356 - val_accuracy: 0.5000\n",
            "Epoch 42/100\n",
            "3/3 [==============================] - 0s 20ms/step - loss: 0.8033 - accuracy: 0.5000 - val_loss: 0.7343 - val_accuracy: 0.5000\n",
            "Epoch 43/100\n",
            "3/3 [==============================] - 0s 23ms/step - loss: 0.8012 - accuracy: 0.5000 - val_loss: 0.7329 - val_accuracy: 0.5000\n",
            "Epoch 44/100\n",
            "3/3 [==============================] - 0s 20ms/step - loss: 0.7991 - accuracy: 0.5000 - val_loss: 0.7315 - val_accuracy: 0.5000\n",
            "Epoch 45/100\n",
            "3/3 [==============================] - 0s 29ms/step - loss: 0.7973 - accuracy: 0.5000 - val_loss: 0.7302 - val_accuracy: 0.5000\n",
            "Epoch 46/100\n",
            "3/3 [==============================] - 0s 22ms/step - loss: 0.7952 - accuracy: 0.5000 - val_loss: 0.7289 - val_accuracy: 0.5000\n",
            "Epoch 47/100\n",
            "3/3 [==============================] - 0s 23ms/step - loss: 0.7932 - accuracy: 0.5000 - val_loss: 0.7276 - val_accuracy: 0.5000\n",
            "Epoch 48/100\n",
            "3/3 [==============================] - 0s 23ms/step - loss: 0.7912 - accuracy: 0.5000 - val_loss: 0.7263 - val_accuracy: 0.5000\n",
            "Epoch 49/100\n",
            "3/3 [==============================] - 0s 27ms/step - loss: 0.7895 - accuracy: 0.5000 - val_loss: 0.7250 - val_accuracy: 0.5000\n",
            "Epoch 50/100\n",
            "3/3 [==============================] - 0s 20ms/step - loss: 0.7872 - accuracy: 0.5000 - val_loss: 0.7237 - val_accuracy: 0.5000\n",
            "Epoch 51/100\n",
            "3/3 [==============================] - 0s 20ms/step - loss: 0.7856 - accuracy: 0.5000 - val_loss: 0.7224 - val_accuracy: 0.5000\n",
            "Epoch 52/100\n",
            "3/3 [==============================] - 0s 29ms/step - loss: 0.7837 - accuracy: 0.5000 - val_loss: 0.7212 - val_accuracy: 0.5000\n",
            "Epoch 53/100\n",
            "3/3 [==============================] - 0s 19ms/step - loss: 0.7820 - accuracy: 0.5000 - val_loss: 0.7199 - val_accuracy: 0.5000\n",
            "Epoch 54/100\n",
            "3/3 [==============================] - 0s 24ms/step - loss: 0.7799 - accuracy: 0.5000 - val_loss: 0.7188 - val_accuracy: 0.5000\n",
            "Epoch 55/100\n",
            "3/3 [==============================] - 0s 21ms/step - loss: 0.7783 - accuracy: 0.5000 - val_loss: 0.7176 - val_accuracy: 0.5000\n",
            "Epoch 56/100\n",
            "3/3 [==============================] - 0s 30ms/step - loss: 0.7765 - accuracy: 0.5000 - val_loss: 0.7165 - val_accuracy: 0.5000\n",
            "Epoch 57/100\n",
            "3/3 [==============================] - 0s 20ms/step - loss: 0.7749 - accuracy: 0.5000 - val_loss: 0.7154 - val_accuracy: 0.5000\n",
            "Epoch 58/100\n",
            "3/3 [==============================] - 0s 20ms/step - loss: 0.7733 - accuracy: 0.5000 - val_loss: 0.7143 - val_accuracy: 0.5000\n",
            "Epoch 59/100\n",
            "3/3 [==============================] - 0s 20ms/step - loss: 0.7717 - accuracy: 0.5000 - val_loss: 0.7132 - val_accuracy: 0.5000\n",
            "Epoch 60/100\n",
            "3/3 [==============================] - 0s 20ms/step - loss: 0.7699 - accuracy: 0.5000 - val_loss: 0.7122 - val_accuracy: 0.5000\n",
            "Epoch 61/100\n",
            "3/3 [==============================] - 0s 20ms/step - loss: 0.7684 - accuracy: 0.5000 - val_loss: 0.7111 - val_accuracy: 0.5000\n",
            "Epoch 62/100\n",
            "3/3 [==============================] - 0s 22ms/step - loss: 0.7668 - accuracy: 0.5000 - val_loss: 0.7101 - val_accuracy: 0.5000\n",
            "Epoch 63/100\n",
            "3/3 [==============================] - 0s 19ms/step - loss: 0.7653 - accuracy: 0.5000 - val_loss: 0.7090 - val_accuracy: 0.5000\n",
            "Epoch 64/100\n",
            "3/3 [==============================] - 0s 20ms/step - loss: 0.7637 - accuracy: 0.5000 - val_loss: 0.7079 - val_accuracy: 0.5000\n",
            "Epoch 65/100\n",
            "3/3 [==============================] - 0s 28ms/step - loss: 0.7621 - accuracy: 0.5000 - val_loss: 0.7069 - val_accuracy: 0.5000\n",
            "Epoch 66/100\n",
            "3/3 [==============================] - 0s 20ms/step - loss: 0.7605 - accuracy: 0.5000 - val_loss: 0.7059 - val_accuracy: 0.5000\n",
            "Epoch 67/100\n",
            "3/3 [==============================] - 0s 38ms/step - loss: 0.7590 - accuracy: 0.5000 - val_loss: 0.7049 - val_accuracy: 0.5000\n",
            "Epoch 68/100\n",
            "3/3 [==============================] - 0s 19ms/step - loss: 0.7574 - accuracy: 0.5000 - val_loss: 0.7039 - val_accuracy: 0.5000\n",
            "Epoch 69/100\n",
            "3/3 [==============================] - 0s 30ms/step - loss: 0.7561 - accuracy: 0.5000 - val_loss: 0.7029 - val_accuracy: 0.5000\n",
            "Epoch 70/100\n",
            "3/3 [==============================] - 0s 31ms/step - loss: 0.7547 - accuracy: 0.5000 - val_loss: 0.7019 - val_accuracy: 0.5000\n",
            "Epoch 71/100\n",
            "3/3 [==============================] - 0s 20ms/step - loss: 0.7531 - accuracy: 0.5000 - val_loss: 0.7010 - val_accuracy: 0.5000\n",
            "Epoch 72/100\n",
            "3/3 [==============================] - 0s 30ms/step - loss: 0.7518 - accuracy: 0.5000 - val_loss: 0.7001 - val_accuracy: 0.5000\n",
            "Epoch 73/100\n",
            "3/3 [==============================] - 0s 30ms/step - loss: 0.7504 - accuracy: 0.5000 - val_loss: 0.6992 - val_accuracy: 0.5000\n",
            "Epoch 74/100\n",
            "3/3 [==============================] - 0s 20ms/step - loss: 0.7492 - accuracy: 0.5000 - val_loss: 0.6983 - val_accuracy: 0.5000\n",
            "Epoch 75/100\n",
            "3/3 [==============================] - 0s 25ms/step - loss: 0.7478 - accuracy: 0.5000 - val_loss: 0.6974 - val_accuracy: 0.5000\n",
            "Epoch 76/100\n",
            "3/3 [==============================] - 0s 21ms/step - loss: 0.7464 - accuracy: 0.5000 - val_loss: 0.6966 - val_accuracy: 0.5000\n",
            "Epoch 77/100\n",
            "3/3 [==============================] - 0s 20ms/step - loss: 0.7452 - accuracy: 0.5000 - val_loss: 0.6957 - val_accuracy: 0.5000\n",
            "Epoch 78/100\n",
            "3/3 [==============================] - 0s 21ms/step - loss: 0.7440 - accuracy: 0.5000 - val_loss: 0.6949 - val_accuracy: 0.5000\n",
            "Epoch 79/100\n",
            "3/3 [==============================] - 0s 31ms/step - loss: 0.7429 - accuracy: 0.5000 - val_loss: 0.6940 - val_accuracy: 0.5000\n",
            "Epoch 80/100\n",
            "3/3 [==============================] - 0s 35ms/step - loss: 0.7416 - accuracy: 0.5000 - val_loss: 0.6932 - val_accuracy: 0.5000\n",
            "Epoch 81/100\n",
            "3/3 [==============================] - 0s 29ms/step - loss: 0.7403 - accuracy: 0.5000 - val_loss: 0.6924 - val_accuracy: 0.5000\n",
            "Epoch 82/100\n",
            "3/3 [==============================] - 0s 37ms/step - loss: 0.7393 - accuracy: 0.5000 - val_loss: 0.6915 - val_accuracy: 0.5000\n",
            "Epoch 83/100\n",
            "3/3 [==============================] - 0s 38ms/step - loss: 0.7380 - accuracy: 0.5000 - val_loss: 0.6907 - val_accuracy: 0.5000\n",
            "Epoch 84/100\n",
            "3/3 [==============================] - 0s 39ms/step - loss: 0.7370 - accuracy: 0.5000 - val_loss: 0.6899 - val_accuracy: 0.5000\n",
            "Epoch 85/100\n",
            "3/3 [==============================] - 0s 40ms/step - loss: 0.7356 - accuracy: 0.5000 - val_loss: 0.6891 - val_accuracy: 0.5000\n",
            "Epoch 86/100\n",
            "3/3 [==============================] - 0s 42ms/step - loss: 0.7345 - accuracy: 0.5000 - val_loss: 0.6883 - val_accuracy: 0.5000\n",
            "Epoch 87/100\n",
            "3/3 [==============================] - 0s 27ms/step - loss: 0.7335 - accuracy: 0.5000 - val_loss: 0.6876 - val_accuracy: 0.5000\n",
            "Epoch 88/100\n",
            "3/3 [==============================] - 0s 29ms/step - loss: 0.7325 - accuracy: 0.5000 - val_loss: 0.6869 - val_accuracy: 0.5000\n",
            "Epoch 89/100\n",
            "3/3 [==============================] - 0s 39ms/step - loss: 0.7317 - accuracy: 0.5000 - val_loss: 0.6862 - val_accuracy: 0.5000\n",
            "Epoch 90/100\n",
            "3/3 [==============================] - 0s 36ms/step - loss: 0.7304 - accuracy: 0.5000 - val_loss: 0.6855 - val_accuracy: 0.5000\n",
            "Epoch 91/100\n",
            "3/3 [==============================] - 0s 35ms/step - loss: 0.7295 - accuracy: 0.5000 - val_loss: 0.6847 - val_accuracy: 0.5000\n",
            "Epoch 92/100\n",
            "3/3 [==============================] - 0s 31ms/step - loss: 0.7285 - accuracy: 0.5000 - val_loss: 0.6841 - val_accuracy: 0.5000\n",
            "Epoch 93/100\n",
            "3/3 [==============================] - 0s 36ms/step - loss: 0.7275 - accuracy: 0.5000 - val_loss: 0.6834 - val_accuracy: 0.5000\n",
            "Epoch 94/100\n",
            "3/3 [==============================] - 0s 34ms/step - loss: 0.7266 - accuracy: 0.5000 - val_loss: 0.6828 - val_accuracy: 0.5000\n",
            "Epoch 95/100\n",
            "3/3 [==============================] - 0s 40ms/step - loss: 0.7258 - accuracy: 0.5000 - val_loss: 0.6822 - val_accuracy: 0.5000\n",
            "Epoch 96/100\n",
            "3/3 [==============================] - 0s 28ms/step - loss: 0.7247 - accuracy: 0.5000 - val_loss: 0.6816 - val_accuracy: 0.5000\n",
            "Epoch 97/100\n",
            "3/3 [==============================] - 0s 31ms/step - loss: 0.7238 - accuracy: 0.5000 - val_loss: 0.6809 - val_accuracy: 0.5000\n",
            "Epoch 98/100\n",
            "3/3 [==============================] - 0s 30ms/step - loss: 0.7228 - accuracy: 0.5000 - val_loss: 0.6803 - val_accuracy: 0.5000\n",
            "Epoch 99/100\n",
            "3/3 [==============================] - 0s 43ms/step - loss: 0.7220 - accuracy: 0.5000 - val_loss: 0.6798 - val_accuracy: 0.5000\n",
            "Epoch 100/100\n",
            "3/3 [==============================] - 0s 35ms/step - loss: 0.7210 - accuracy: 0.5000 - val_loss: 0.6792 - val_accuracy: 0.5000\n"
          ]
        }
      ]
    },
    {
      "cell_type": "code",
      "source": [
        "model.get_weights()\n",
        "#No update in weights and bias"
      ],
      "metadata": {
        "colab": {
          "base_uri": "https://localhost:8080/"
        },
        "id": "izaHsdPf_H3m",
        "outputId": "55a5b720-6f4b-4b8e-ff0e-b42c8bb53f2d"
      },
      "execution_count": 16,
      "outputs": [
        {
          "output_type": "execute_result",
          "data": {
            "text/plain": [
              "[array([[0.5228631 , 0.5228631 ],\n",
              "        [0.25491855, 0.25491855]], dtype=float32),\n",
              " array([0.3011871, 0.3011871], dtype=float32),\n",
              " array([[0.29270318],\n",
              "        [0.29270318]], dtype=float32),\n",
              " array([0.25164863], dtype=float32)]"
            ]
          },
          "metadata": {},
          "execution_count": 16
        }
      ]
    },
    {
      "cell_type": "code",
      "source": [
        "from mlxtend.plotting import plot_decision_regions\n",
        "plot_decision_regions(X,Y.astype('int'), clf=model, legend=2)"
      ],
      "metadata": {
        "id": "ReGzul9k_ad_",
        "colab": {
          "base_uri": "https://localhost:8080/",
          "height": 465
        },
        "outputId": "85223775-5f2c-4c8b-d0ad-f1b9012bea0c"
      },
      "execution_count": 26,
      "outputs": [
        {
          "output_type": "stream",
          "name": "stdout",
          "text": [
            "9600/9600 [==============================] - 17s 2ms/step\n"
          ]
        },
        {
          "output_type": "execute_result",
          "data": {
            "text/plain": [
              "<Axes: >"
            ]
          },
          "metadata": {},
          "execution_count": 26
        },
        {
          "output_type": "display_data",
          "data": {
            "text/plain": [
              "<Figure size 640x480 with 1 Axes>"
            ],
            "image/png": "[encoded data removed]"
          },
          "metadata": {}
        }
      ]
    },
    {
      "cell_type": "markdown",
      "source": [
        "# tanh activation function"
      ],
      "metadata": {
        "id": "cv-E2xPJ_qL6"
      }
    },
    {
      "cell_type": "code",
      "source": [
        "model = Sequential()\n",
        "\n",
        "model.add(Dense(2,activation='tanh', input_dim=2))\n",
        "model.add(Dense(1,activation='sigmoid'))\n",
        "\n",
        "model.summary()"
      ],
      "metadata": {
        "colab": {
          "base_uri": "https://localhost:8080/"
        },
        "id": "TO0XenFC_0T-",
        "outputId": "87980759-359d-434f-f3b4-8220fa268223"
      },
      "execution_count": 27,
      "outputs": [
        {
          "output_type": "stream",
          "name": "stdout",
          "text": [
            "Model: \"sequential_2\"\n",
            "_________________________________________________________________\n",
            " Layer (type)                Output Shape              Param #   \n",
            "=================================================================\n",
            " dense_4 (Dense)             (None, 2)                 6         \n",
            "                                                                 \n",
            " dense_5 (Dense)             (None, 1)                 3         \n",
            "                                                                 \n",
            "=================================================================\n",
            "Total params: 9\n",
            "Trainable params: 9\n",
            "Non-trainable params: 0\n",
            "_________________________________________________________________\n"
          ]
        }
      ]
    },
    {
      "cell_type": "code",
      "source": [
        "model.get_weights()"
      ],
      "metadata": {
        "colab": {
          "base_uri": "https://localhost:8080/"
        },
        "id": "kjuGIcHz_-5F",
        "outputId": "f0db76bf-1ff9-4390-e87f-45d7299fd125"
      },
      "execution_count": 29,
      "outputs": [
        {
          "output_type": "execute_result",
          "data": {
            "text/plain": [
              "[array([[-0.6391181 ,  1.071814  ],\n",
              "        [-1.1715895 , -0.46272993]], dtype=float32),\n",
              " array([0., 0.], dtype=float32),\n",
              " array([[ 0.5869602],\n",
              "        [-1.2960277]], dtype=float32),\n",
              " array([0.], dtype=float32)]"
            ]
          },
          "metadata": {},
          "execution_count": 29
        }
      ]
    },
    {
      "cell_type": "code",
      "source": [
        "from mlxtend.plotting import plot_decision_regions\n",
        "plot_decision_regions(X,Y.astype('int'), clf=model, legend=2)"
      ],
      "metadata": {
        "colab": {
          "base_uri": "https://localhost:8080/",
          "height": 465
        },
        "id": "-fLY1BO30VFH",
        "outputId": "28f28c30-95ee-44cb-b856-e5dc98577767"
      },
      "execution_count": 30,
      "outputs": [
        {
          "output_type": "stream",
          "name": "stdout",
          "text": [
            "9600/9600 [==============================] - 17s 2ms/step\n"
          ]
        },
        {
          "output_type": "execute_result",
          "data": {
            "text/plain": [
              "<Axes: >"
            ]
          },
          "metadata": {},
          "execution_count": 30
        },
        {
          "output_type": "display_data",
          "data": {
            "text/plain": [
              "<Figure size 640x480 with 1 Axes>"
            ],
            "image/png": "[encoded data removed]"
          },
          "metadata": {}
        }
      ]
    },
    {
      "cell_type": "code",
      "source": [
        "initial_weights = model.get_weights()"
      ],
      "metadata": {
        "id": "-BOfJP4B__yK"
      },
      "execution_count": 32,
      "outputs": []
    },
    {
      "cell_type": "code",
      "source": [
        "# initial_weights[0] = np.zeros(model.get_weights()[0].shape)\n",
        "# initial_weights[1] = np.zeros(model.get_weights()[1].shape)\n",
        "# initial_weights[2] = np.zeros(model.get_weights()[2].shape)\n",
        "# initial_weights[3] = np.zeros(model.get_weights()[3].shape)\n",
        "initial_weights[0] = np.ones(model.get_weights()[0].shape)*0.5\n",
        "initial_weights[1] = np.ones(model.get_weights()[1].shape)*0.5\n",
        "initial_weights[2] = np.ones(model.get_weights()[2].shape)*0.5\n",
        "initial_weights[3] = np.ones(model.get_weights()[3].shape)*0.5"
      ],
      "metadata": {
        "id": "WXpTFw0EAD6M"
      },
      "execution_count": 33,
      "outputs": []
    },
    {
      "cell_type": "code",
      "source": [
        "model.set_weights(initial_weights)"
      ],
      "metadata": {
        "id": "cVS-POJ1AIpp"
      },
      "execution_count": 34,
      "outputs": []
    },
    {
      "cell_type": "code",
      "source": [
        "model.get_weights()"
      ],
      "metadata": {
        "colab": {
          "base_uri": "https://localhost:8080/"
        },
        "id": "RbhEvLsaANSw",
        "outputId": "6e12bf65-3584-44b7-9c9b-d9394d90d65b"
      },
      "execution_count": 35,
      "outputs": [
        {
          "output_type": "execute_result",
          "data": {
            "text/plain": [
              "[array([[0.5, 0.5],\n",
              "        [0.5, 0.5]], dtype=float32),\n",
              " array([0.5, 0.5], dtype=float32),\n",
              " array([[0.5],\n",
              "        [0.5]], dtype=float32),\n",
              " array([0.5], dtype=float32)]"
            ]
          },
          "metadata": {},
          "execution_count": 35
        }
      ]
    },
    {
      "cell_type": "code",
      "source": [
        "from mlxtend.plotting import plot_decision_regions\n",
        "plot_decision_regions(X,Y.astype('int'), clf=model, legend=2)"
      ],
      "metadata": {
        "colab": {
          "base_uri": "https://localhost:8080/",
          "height": 465
        },
        "id": "Obsf5ZPy0kdr",
        "outputId": "8ee28128-ace5-4b97-b3b6-8002c6e662eb"
      },
      "execution_count": 36,
      "outputs": [
        {
          "output_type": "stream",
          "name": "stdout",
          "text": [
            "9600/9600 [==============================] - 16s 2ms/step\n"
          ]
        },
        {
          "output_type": "execute_result",
          "data": {
            "text/plain": [
              "<Axes: >"
            ]
          },
          "metadata": {},
          "execution_count": 36
        },
        {
          "output_type": "display_data",
          "data": {
            "text/plain": [
              "<Figure size 640x480 with 1 Axes>"
            ],
            "image/png": "[encoded data removed]"
          },
          "metadata": {}
        }
      ]
    },
    {
      "cell_type": "code",
      "source": [
        "model.compile(loss='binary_crossentropy', optimizer='adam', metrics=['accuracy'])"
      ],
      "metadata": {
        "id": "O2bJKoiJASC2"
      },
      "execution_count": 38,
      "outputs": []
    },
    {
      "cell_type": "code",
      "source": [
        "history= model.fit(X,Y,epochs=100, validation_split=0.2)"
      ],
      "metadata": {
        "colab": {
          "base_uri": "https://localhost:8080/"
        },
        "id": "XbhGwVgNAW-7",
        "outputId": "8e83609f-3aa4-4730-cb65-9aca382728f9"
      },
      "execution_count": 39,
      "outputs": [
        {
          "output_type": "stream",
          "name": "stdout",
          "text": [
            "Epoch 1/100\n",
            "3/3 [==============================] - 1s 124ms/step - loss: 0.8523 - accuracy: 0.5000 - val_loss: 0.7754 - val_accuracy: 0.5000\n",
            "Epoch 2/100\n",
            "3/3 [==============================] - 0s 21ms/step - loss: 0.8497 - accuracy: 0.5000 - val_loss: 0.7728 - val_accuracy: 0.5000\n",
            "Epoch 3/100\n",
            "3/3 [==============================] - 0s 30ms/step - loss: 0.8471 - accuracy: 0.5000 - val_loss: 0.7702 - val_accuracy: 0.5000\n",
            "Epoch 4/100\n",
            "3/3 [==============================] - 0s 35ms/step - loss: 0.8446 - accuracy: 0.5000 - val_loss: 0.7677 - val_accuracy: 0.5000\n",
            "Epoch 5/100\n",
            "3/3 [==============================] - 0s 33ms/step - loss: 0.8421 - accuracy: 0.5000 - val_loss: 0.7653 - val_accuracy: 0.5000\n",
            "Epoch 6/100\n",
            "3/3 [==============================] - 0s 34ms/step - loss: 0.8393 - accuracy: 0.5000 - val_loss: 0.7630 - val_accuracy: 0.5000\n",
            "Epoch 7/100\n",
            "3/3 [==============================] - 0s 31ms/step - loss: 0.8370 - accuracy: 0.5000 - val_loss: 0.7606 - val_accuracy: 0.5000\n",
            "Epoch 8/100\n",
            "3/3 [==============================] - 0s 22ms/step - loss: 0.8345 - accuracy: 0.5000 - val_loss: 0.7582 - val_accuracy: 0.5000\n",
            "Epoch 9/100\n",
            "3/3 [==============================] - 0s 34ms/step - loss: 0.8322 - accuracy: 0.5000 - val_loss: 0.7559 - val_accuracy: 0.5000\n",
            "Epoch 10/100\n",
            "3/3 [==============================] - 0s 32ms/step - loss: 0.8299 - accuracy: 0.5000 - val_loss: 0.7536 - val_accuracy: 0.5000\n",
            "Epoch 11/100\n",
            "3/3 [==============================] - 0s 39ms/step - loss: 0.8275 - accuracy: 0.5000 - val_loss: 0.7513 - val_accuracy: 0.5000\n",
            "Epoch 12/100\n",
            "3/3 [==============================] - 0s 30ms/step - loss: 0.8252 - accuracy: 0.5000 - val_loss: 0.7491 - val_accuracy: 0.5000\n",
            "Epoch 13/100\n",
            "3/3 [==============================] - 0s 24ms/step - loss: 0.8227 - accuracy: 0.5000 - val_loss: 0.7470 - val_accuracy: 0.5000\n",
            "Epoch 14/100\n",
            "3/3 [==============================] - 0s 32ms/step - loss: 0.8206 - accuracy: 0.5000 - val_loss: 0.7449 - val_accuracy: 0.5000\n",
            "Epoch 15/100\n",
            "3/3 [==============================] - 0s 24ms/step - loss: 0.8184 - accuracy: 0.5000 - val_loss: 0.7429 - val_accuracy: 0.5000\n",
            "Epoch 16/100\n",
            "3/3 [==============================] - 0s 23ms/step - loss: 0.8162 - accuracy: 0.5000 - val_loss: 0.7408 - val_accuracy: 0.5000\n",
            "Epoch 17/100\n",
            "3/3 [==============================] - 0s 25ms/step - loss: 0.8141 - accuracy: 0.5000 - val_loss: 0.7388 - val_accuracy: 0.5000\n",
            "Epoch 18/100\n",
            "3/3 [==============================] - 0s 23ms/step - loss: 0.8120 - accuracy: 0.5000 - val_loss: 0.7368 - val_accuracy: 0.5000\n",
            "Epoch 19/100\n",
            "3/3 [==============================] - 0s 31ms/step - loss: 0.8098 - accuracy: 0.5000 - val_loss: 0.7348 - val_accuracy: 0.5000\n",
            "Epoch 20/100\n",
            "3/3 [==============================] - 0s 24ms/step - loss: 0.8077 - accuracy: 0.5000 - val_loss: 0.7329 - val_accuracy: 0.5000\n",
            "Epoch 21/100\n",
            "3/3 [==============================] - 0s 32ms/step - loss: 0.8057 - accuracy: 0.5000 - val_loss: 0.7311 - val_accuracy: 0.5000\n",
            "Epoch 22/100\n",
            "3/3 [==============================] - 0s 32ms/step - loss: 0.8037 - accuracy: 0.5000 - val_loss: 0.7292 - val_accuracy: 0.5000\n",
            "Epoch 23/100\n",
            "3/3 [==============================] - 0s 24ms/step - loss: 0.8017 - accuracy: 0.5000 - val_loss: 0.7274 - val_accuracy: 0.5000\n",
            "Epoch 24/100\n",
            "3/3 [==============================] - 0s 31ms/step - loss: 0.7997 - accuracy: 0.5000 - val_loss: 0.7256 - val_accuracy: 0.5000\n",
            "Epoch 25/100\n",
            "3/3 [==============================] - 0s 32ms/step - loss: 0.7977 - accuracy: 0.5000 - val_loss: 0.7238 - val_accuracy: 0.5000\n",
            "Epoch 26/100\n",
            "3/3 [==============================] - 0s 24ms/step - loss: 0.7960 - accuracy: 0.5000 - val_loss: 0.7219 - val_accuracy: 0.5000\n",
            "Epoch 27/100\n",
            "3/3 [==============================] - 0s 22ms/step - loss: 0.7937 - accuracy: 0.5000 - val_loss: 0.7202 - val_accuracy: 0.5000\n",
            "Epoch 28/100\n",
            "3/3 [==============================] - 0s 25ms/step - loss: 0.7921 - accuracy: 0.5000 - val_loss: 0.7184 - val_accuracy: 0.5000\n",
            "Epoch 29/100\n",
            "3/3 [==============================] - 0s 32ms/step - loss: 0.7901 - accuracy: 0.5000 - val_loss: 0.7167 - val_accuracy: 0.5000\n",
            "Epoch 30/100\n",
            "3/3 [==============================] - 0s 32ms/step - loss: 0.7882 - accuracy: 0.5000 - val_loss: 0.7150 - val_accuracy: 0.5000\n",
            "Epoch 31/100\n",
            "3/3 [==============================] - 0s 36ms/step - loss: 0.7863 - accuracy: 0.5000 - val_loss: 0.7134 - val_accuracy: 0.5000\n",
            "Epoch 32/100\n",
            "3/3 [==============================] - 0s 33ms/step - loss: 0.7845 - accuracy: 0.5000 - val_loss: 0.7118 - val_accuracy: 0.5000\n",
            "Epoch 33/100\n",
            "3/3 [==============================] - 0s 31ms/step - loss: 0.7828 - accuracy: 0.5000 - val_loss: 0.7101 - val_accuracy: 0.5000\n",
            "Epoch 34/100\n",
            "3/3 [==============================] - 0s 41ms/step - loss: 0.7809 - accuracy: 0.5000 - val_loss: 0.7085 - val_accuracy: 0.5000\n",
            "Epoch 35/100\n",
            "3/3 [==============================] - 0s 38ms/step - loss: 0.7791 - accuracy: 0.5000 - val_loss: 0.7070 - val_accuracy: 0.5000\n",
            "Epoch 36/100\n",
            "3/3 [==============================] - 0s 38ms/step - loss: 0.7775 - accuracy: 0.5000 - val_loss: 0.7054 - val_accuracy: 0.5000\n",
            "Epoch 37/100\n",
            "3/3 [==============================] - 0s 30ms/step - loss: 0.7757 - accuracy: 0.5000 - val_loss: 0.7039 - val_accuracy: 0.5000\n",
            "Epoch 38/100\n",
            "3/3 [==============================] - 0s 28ms/step - loss: 0.7740 - accuracy: 0.5000 - val_loss: 0.7025 - val_accuracy: 0.5000\n",
            "Epoch 39/100\n",
            "3/3 [==============================] - 0s 27ms/step - loss: 0.7723 - accuracy: 0.5000 - val_loss: 0.7010 - val_accuracy: 0.5000\n",
            "Epoch 40/100\n",
            "3/3 [==============================] - 0s 35ms/step - loss: 0.7706 - accuracy: 0.5000 - val_loss: 0.6995 - val_accuracy: 0.5000\n",
            "Epoch 41/100\n",
            "3/3 [==============================] - 0s 32ms/step - loss: 0.7691 - accuracy: 0.5000 - val_loss: 0.6981 - val_accuracy: 0.5000\n",
            "Epoch 42/100\n",
            "3/3 [==============================] - 0s 36ms/step - loss: 0.7675 - accuracy: 0.5000 - val_loss: 0.6966 - val_accuracy: 0.5000\n",
            "Epoch 43/100\n",
            "3/3 [==============================] - 0s 37ms/step - loss: 0.7658 - accuracy: 0.5000 - val_loss: 0.6952 - val_accuracy: 0.5000\n",
            "Epoch 44/100\n",
            "3/3 [==============================] - 0s 36ms/step - loss: 0.7643 - accuracy: 0.5000 - val_loss: 0.6938 - val_accuracy: 0.5000\n",
            "Epoch 45/100\n",
            "3/3 [==============================] - 0s 45ms/step - loss: 0.7627 - accuracy: 0.5000 - val_loss: 0.6925 - val_accuracy: 0.5000\n",
            "Epoch 46/100\n",
            "3/3 [==============================] - 0s 40ms/step - loss: 0.7613 - accuracy: 0.5000 - val_loss: 0.6912 - val_accuracy: 0.5000\n",
            "Epoch 47/100\n",
            "3/3 [==============================] - 0s 29ms/step - loss: 0.7596 - accuracy: 0.5000 - val_loss: 0.6899 - val_accuracy: 0.5000\n",
            "Epoch 48/100\n",
            "3/3 [==============================] - 0s 39ms/step - loss: 0.7582 - accuracy: 0.5000 - val_loss: 0.6886 - val_accuracy: 0.5000\n",
            "Epoch 49/100\n",
            "3/3 [==============================] - 0s 36ms/step - loss: 0.7567 - accuracy: 0.5000 - val_loss: 0.6873 - val_accuracy: 0.5000\n",
            "Epoch 50/100\n",
            "3/3 [==============================] - 0s 96ms/step - loss: 0.7553 - accuracy: 0.5000 - val_loss: 0.6861 - val_accuracy: 0.5000\n",
            "Epoch 51/100\n",
            "3/3 [==============================] - 0s 180ms/step - loss: 0.7537 - accuracy: 0.5000 - val_loss: 0.6848 - val_accuracy: 0.5000\n",
            "Epoch 52/100\n",
            "3/3 [==============================] - 0s 152ms/step - loss: 0.7524 - accuracy: 0.5000 - val_loss: 0.6836 - val_accuracy: 0.5000\n",
            "Epoch 53/100\n",
            "3/3 [==============================] - 0s 119ms/step - loss: 0.7510 - accuracy: 0.5000 - val_loss: 0.6825 - val_accuracy: 0.5000\n",
            "Epoch 54/100\n",
            "3/3 [==============================] - 0s 37ms/step - loss: 0.7497 - accuracy: 0.5000 - val_loss: 0.6813 - val_accuracy: 0.5000\n",
            "Epoch 55/100\n",
            "3/3 [==============================] - 0s 39ms/step - loss: 0.7483 - accuracy: 0.5000 - val_loss: 0.6802 - val_accuracy: 0.5000\n",
            "Epoch 56/100\n",
            "3/3 [==============================] - 0s 40ms/step - loss: 0.7470 - accuracy: 0.5000 - val_loss: 0.6791 - val_accuracy: 0.5000\n",
            "Epoch 57/100\n",
            "3/3 [==============================] - 0s 61ms/step - loss: 0.7458 - accuracy: 0.5000 - val_loss: 0.6780 - val_accuracy: 0.5000\n",
            "Epoch 58/100\n",
            "3/3 [==============================] - 0s 116ms/step - loss: 0.7445 - accuracy: 0.5000 - val_loss: 0.6769 - val_accuracy: 0.5000\n",
            "Epoch 59/100\n",
            "3/3 [==============================] - 0s 158ms/step - loss: 0.7432 - accuracy: 0.5000 - val_loss: 0.6759 - val_accuracy: 0.5000\n",
            "Epoch 60/100\n",
            "3/3 [==============================] - 0s 164ms/step - loss: 0.7421 - accuracy: 0.5000 - val_loss: 0.6749 - val_accuracy: 0.5000\n",
            "Epoch 61/100\n",
            "3/3 [==============================] - 0s 39ms/step - loss: 0.7408 - accuracy: 0.5000 - val_loss: 0.6739 - val_accuracy: 0.5000\n",
            "Epoch 62/100\n",
            "3/3 [==============================] - 0s 33ms/step - loss: 0.7397 - accuracy: 0.5000 - val_loss: 0.6729 - val_accuracy: 0.5000\n",
            "Epoch 63/100\n",
            "3/3 [==============================] - 0s 38ms/step - loss: 0.7387 - accuracy: 0.5000 - val_loss: 0.6720 - val_accuracy: 0.5000\n",
            "Epoch 64/100\n",
            "3/3 [==============================] - 0s 32ms/step - loss: 0.7374 - accuracy: 0.5000 - val_loss: 0.6711 - val_accuracy: 0.5000\n",
            "Epoch 65/100\n",
            "3/3 [==============================] - 0s 31ms/step - loss: 0.7363 - accuracy: 0.5000 - val_loss: 0.6702 - val_accuracy: 0.5000\n",
            "Epoch 66/100\n",
            "3/3 [==============================] - 0s 38ms/step - loss: 0.7351 - accuracy: 0.5000 - val_loss: 0.6693 - val_accuracy: 0.5000\n",
            "Epoch 67/100\n",
            "3/3 [==============================] - 0s 167ms/step - loss: 0.7339 - accuracy: 0.5000 - val_loss: 0.6684 - val_accuracy: 0.5000\n",
            "Epoch 68/100\n",
            "3/3 [==============================] - 0s 104ms/step - loss: 0.7330 - accuracy: 0.5000 - val_loss: 0.6674 - val_accuracy: 0.5000\n",
            "Epoch 69/100\n",
            "3/3 [==============================] - 0s 51ms/step - loss: 0.7317 - accuracy: 0.5000 - val_loss: 0.6665 - val_accuracy: 0.5000\n",
            "Epoch 70/100\n",
            "3/3 [==============================] - 0s 72ms/step - loss: 0.7306 - accuracy: 0.5000 - val_loss: 0.6656 - val_accuracy: 0.5000\n",
            "Epoch 71/100\n",
            "3/3 [==============================] - 0s 35ms/step - loss: 0.7296 - accuracy: 0.5000 - val_loss: 0.6647 - val_accuracy: 0.5000\n",
            "Epoch 72/100\n",
            "3/3 [==============================] - 0s 21ms/step - loss: 0.7287 - accuracy: 0.5000 - val_loss: 0.6639 - val_accuracy: 0.5000\n",
            "Epoch 73/100\n",
            "3/3 [==============================] - 0s 19ms/step - loss: 0.7275 - accuracy: 0.5000 - val_loss: 0.6630 - val_accuracy: 0.5000\n",
            "Epoch 74/100\n",
            "3/3 [==============================] - 0s 22ms/step - loss: 0.7264 - accuracy: 0.5000 - val_loss: 0.6622 - val_accuracy: 0.5000\n",
            "Epoch 75/100\n",
            "3/3 [==============================] - 0s 32ms/step - loss: 0.7254 - accuracy: 0.5000 - val_loss: 0.6615 - val_accuracy: 0.5000\n",
            "Epoch 76/100\n",
            "3/3 [==============================] - 0s 31ms/step - loss: 0.7245 - accuracy: 0.5000 - val_loss: 0.6607 - val_accuracy: 0.5000\n",
            "Epoch 77/100\n",
            "3/3 [==============================] - 0s 21ms/step - loss: 0.7235 - accuracy: 0.5000 - val_loss: 0.6599 - val_accuracy: 0.5500\n",
            "Epoch 78/100\n",
            "3/3 [==============================] - 0s 32ms/step - loss: 0.7225 - accuracy: 0.5000 - val_loss: 0.6591 - val_accuracy: 0.5500\n",
            "Epoch 79/100\n",
            "3/3 [==============================] - 0s 22ms/step - loss: 0.7216 - accuracy: 0.5000 - val_loss: 0.6583 - val_accuracy: 0.5500\n",
            "Epoch 80/100\n",
            "3/3 [==============================] - 0s 23ms/step - loss: 0.7206 - accuracy: 0.5000 - val_loss: 0.6576 - val_accuracy: 0.5500\n",
            "Epoch 81/100\n",
            "3/3 [==============================] - 0s 33ms/step - loss: 0.7195 - accuracy: 0.5000 - val_loss: 0.6568 - val_accuracy: 0.5500\n",
            "Epoch 82/100\n",
            "3/3 [==============================] - 0s 23ms/step - loss: 0.7188 - accuracy: 0.5000 - val_loss: 0.6560 - val_accuracy: 0.5500\n",
            "Epoch 83/100\n",
            "3/3 [==============================] - 0s 23ms/step - loss: 0.7177 - accuracy: 0.5000 - val_loss: 0.6553 - val_accuracy: 0.5500\n",
            "Epoch 84/100\n",
            "3/3 [==============================] - 0s 23ms/step - loss: 0.7169 - accuracy: 0.5000 - val_loss: 0.6546 - val_accuracy: 0.6000\n",
            "Epoch 85/100\n",
            "3/3 [==============================] - 0s 29ms/step - loss: 0.7160 - accuracy: 0.5000 - val_loss: 0.6538 - val_accuracy: 0.6000\n",
            "Epoch 86/100\n",
            "3/3 [==============================] - 0s 24ms/step - loss: 0.7151 - accuracy: 0.5000 - val_loss: 0.6531 - val_accuracy: 0.6000\n",
            "Epoch 87/100\n",
            "3/3 [==============================] - 0s 24ms/step - loss: 0.7142 - accuracy: 0.5000 - val_loss: 0.6524 - val_accuracy: 0.6000\n",
            "Epoch 88/100\n",
            "3/3 [==============================] - 0s 31ms/step - loss: 0.7134 - accuracy: 0.5000 - val_loss: 0.6517 - val_accuracy: 0.6000\n",
            "Epoch 89/100\n",
            "3/3 [==============================] - 0s 30ms/step - loss: 0.7126 - accuracy: 0.5000 - val_loss: 0.6510 - val_accuracy: 0.6000\n",
            "Epoch 90/100\n",
            "3/3 [==============================] - 0s 34ms/step - loss: 0.7118 - accuracy: 0.5000 - val_loss: 0.6503 - val_accuracy: 0.6000\n",
            "Epoch 91/100\n",
            "3/3 [==============================] - 0s 22ms/step - loss: 0.7110 - accuracy: 0.5000 - val_loss: 0.6497 - val_accuracy: 0.6500\n",
            "Epoch 92/100\n",
            "3/3 [==============================] - 0s 30ms/step - loss: 0.7103 - accuracy: 0.5000 - val_loss: 0.6490 - val_accuracy: 0.6500\n",
            "Epoch 93/100\n",
            "3/3 [==============================] - 0s 21ms/step - loss: 0.7095 - accuracy: 0.5000 - val_loss: 0.6484 - val_accuracy: 0.6500\n",
            "Epoch 94/100\n",
            "3/3 [==============================] - 0s 30ms/step - loss: 0.7088 - accuracy: 0.5000 - val_loss: 0.6478 - val_accuracy: 0.6500\n",
            "Epoch 95/100\n",
            "3/3 [==============================] - 0s 29ms/step - loss: 0.7080 - accuracy: 0.5000 - val_loss: 0.6471 - val_accuracy: 0.6500\n",
            "Epoch 96/100\n",
            "3/3 [==============================] - 0s 24ms/step - loss: 0.7073 - accuracy: 0.5000 - val_loss: 0.6465 - val_accuracy: 0.6500\n",
            "Epoch 97/100\n",
            "3/3 [==============================] - 0s 25ms/step - loss: 0.7065 - accuracy: 0.5000 - val_loss: 0.6459 - val_accuracy: 0.6500\n",
            "Epoch 98/100\n",
            "3/3 [==============================] - 0s 20ms/step - loss: 0.7058 - accuracy: 0.5000 - val_loss: 0.6452 - val_accuracy: 0.6500\n",
            "Epoch 99/100\n",
            "3/3 [==============================] - 0s 22ms/step - loss: 0.7052 - accuracy: 0.5125 - val_loss: 0.6446 - val_accuracy: 0.6500\n",
            "Epoch 100/100\n",
            "3/3 [==============================] - 0s 21ms/step - loss: 0.7045 - accuracy: 0.5125 - val_loss: 0.6440 - val_accuracy: 0.6500\n"
          ]
        }
      ]
    },
    {
      "cell_type": "code",
      "source": [
        "model.get_weights()"
      ],
      "metadata": {
        "colab": {
          "base_uri": "https://localhost:8080/"
        },
        "id": "NS2dXICNAcDi",
        "outputId": "fb9cbd4c-0cd6-4467-8b8f-ac26c47cf2ae"
      },
      "execution_count": 40,
      "outputs": [
        {
          "output_type": "execute_result",
          "data": {
            "text/plain": [
              "[array([[0.71020156, 0.71020156],\n",
              "        [0.2249083 , 0.2249083 ]], dtype=float32),\n",
              " array([0.26139706, 0.26139706], dtype=float32),\n",
              " array([[0.29985744],\n",
              "        [0.29985744]], dtype=float32),\n",
              " array([0.2545853], dtype=float32)]"
            ]
          },
          "metadata": {},
          "execution_count": 40
        }
      ]
    },
    {
      "cell_type": "code",
      "source": [
        "from mlxtend.plotting import plot_decision_regions\n",
        "plot_decision_regions(X,Y.astype('int'), clf=model, legend=2)"
      ],
      "metadata": {
        "id": "ws2gCxxkAmcH",
        "colab": {
          "base_uri": "https://localhost:8080/",
          "height": 465
        },
        "outputId": "69e8d1ef-16cb-4575-d5eb-237cda02455d"
      },
      "execution_count": 41,
      "outputs": [
        {
          "output_type": "stream",
          "name": "stdout",
          "text": [
            "9600/9600 [==============================] - 18s 2ms/step\n"
          ]
        },
        {
          "output_type": "execute_result",
          "data": {
            "text/plain": [
              "<Axes: >"
            ]
          },
          "metadata": {},
          "execution_count": 41
        },
        {
          "output_type": "display_data",
          "data": {
            "text/plain": [
              "<Figure size 640x480 with 1 Axes>"
            ],
            "image/png": "[encoded data removed]"
          },
          "metadata": {}
        }
      ]
    },
    {
      "cell_type": "code",
      "source": [],
      "metadata": {
        "id": "O0s87wuq0wz9"
      },
      "execution_count": 41,
      "outputs": []
    }
  ]
}