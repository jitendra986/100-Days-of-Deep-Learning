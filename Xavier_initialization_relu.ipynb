{
  "nbformat": 4,
  "nbformat_minor": 0,
  "metadata": {
    "colab": {
      "provenance": [],
      "authorship_tag": "ABX9TyMswIP8+9VBgQ3bwVegkG1J",
      "include_colab_link": true
    },
    "kernelspec": {
      "name": "python3",
      "display_name": "Python 3"
    },
    "language_info": {
      "name": "python"
    }
  },
  "cells": [
    {
      "cell_type": "markdown",
      "metadata": {
        "id": "view-in-github",
        "colab_type": "text"
      },
      "source": [
        "<a href=\"https://colab.research.google.com/github/jitendra986/100-Days-of-Deep-Learning/blob/main/Xavier_initialization_relu.ipynb\" target=\"_parent\"><img src=\"https://colab.research.google.com/assets/colab-badge.svg\" alt=\"Open In Colab\"/></a>"
      ]
    },
    {
      "cell_type": "code",
      "execution_count": 1,
      "metadata": {
        "id": "i9KLJcPV7TJI"
      },
      "outputs": [],
      "source": [
        "import numpy as np\n",
        "import pandas as pd\n",
        "import matplotlib.pyplot as plt"
      ]
    },
    {
      "cell_type": "code",
      "source": [
        "from google.colab import drive\n",
        "\n",
        "drive.mount('/content/drive')\n",
        "\n",
        "#df = pd.read_csv('placement.csv')\n",
        "df = pd.read_csv('/content/drive/My Drive/Colab_Notebooks/ushape.csv')"
      ],
      "metadata": {
        "colab": {
          "base_uri": "https://localhost:8080/"
        },
        "id": "O5f2bnmt8nLO",
        "outputId": "63411111-32f3-4bf4-af0a-2e0e377916ea"
      },
      "execution_count": 2,
      "outputs": [
        {
          "output_type": "stream",
          "name": "stdout",
          "text": [
            "Mounted at /content/drive\n"
          ]
        }
      ]
    },
    {
      "cell_type": "code",
      "source": [
        "df.head()"
      ],
      "metadata": {
        "colab": {
          "base_uri": "https://localhost:8080/",
          "height": 206
        },
        "id": "LtlAfaU38w3v",
        "outputId": "e5bba738-8168-4e5e-f510-ec95eb220f09"
      },
      "execution_count": 3,
      "outputs": [
        {
          "output_type": "execute_result",
          "data": {
            "text/plain": [
              "        X       Y  class\n",
              "0  0.0316  0.9870    0.0\n",
              "1  2.1200 -0.0462    1.0\n",
              "2  0.8820 -0.0758    0.0\n",
              "3 -0.0551 -0.0373    1.0\n",
              "4  0.8300 -0.5390    1.0"
            ],
            "text/html": [
              "\n",
              "\n",
              "  <div id=\"df-8dd99de5-18f7-4119-9b61-37ee6382c6b0\">\n",
              "    <div class=\"colab-df-container\">\n",
              "      <div>\n",
              "<style scoped>\n",
              "    .dataframe tbody tr th:only-of-type {\n",
              "        vertical-align: middle;\n",
              "    }\n",
              "\n",
              "    .dataframe tbody tr th {\n",
              "        vertical-align: top;\n",
              "    }\n",
              "\n",
              "    .dataframe thead th {\n",
              "        text-align: right;\n",
              "    }\n",
              "</style>\n",
              "<table border=\"1\" class=\"dataframe\">\n",
              "  <thead>\n",
              "    <tr style=\"text-align: right;\">\n",
              "      <th></th>\n",
              "      <th>X</th>\n",
              "      <th>Y</th>\n",
              "      <th>class</th>\n",
              "    </tr>\n",
              "  </thead>\n",
              "  <tbody>\n",
              "    <tr>\n",
              "      <th>0</th>\n",
              "      <td>0.0316</td>\n",
              "      <td>0.9870</td>\n",
              "      <td>0.0</td>\n",
              "    </tr>\n",
              "    <tr>\n",
              "      <th>1</th>\n",
              "      <td>2.1200</td>\n",
              "      <td>-0.0462</td>\n",
              "      <td>1.0</td>\n",
              "    </tr>\n",
              "    <tr>\n",
              "      <th>2</th>\n",
              "      <td>0.8820</td>\n",
              "      <td>-0.0758</td>\n",
              "      <td>0.0</td>\n",
              "    </tr>\n",
              "    <tr>\n",
              "      <th>3</th>\n",
              "      <td>-0.0551</td>\n",
              "      <td>-0.0373</td>\n",
              "      <td>1.0</td>\n",
              "    </tr>\n",
              "    <tr>\n",
              "      <th>4</th>\n",
              "      <td>0.8300</td>\n",
              "      <td>-0.5390</td>\n",
              "      <td>1.0</td>\n",
              "    </tr>\n",
              "  </tbody>\n",
              "</table>\n",
              "</div>\n",
              "      <button class=\"colab-df-convert\" onclick=\"convertToInteractive('df-8dd99de5-18f7-4119-9b61-37ee6382c6b0')\"\n",
              "              title=\"Convert this dataframe to an interactive table.\"\n",
              "              style=\"display:none;\">\n",
              "\n",
              "  <svg xmlns=\"http://www.w3.org/2000/svg\" height=\"24px\"viewBox=\"0 0 24 24\"\n",
              "       width=\"24px\">\n",
              "    <path d=\"M0 0h24v24H0V0z\" fill=\"none\"/>\n",
              "    <path d=\"M18.56 5.44l.94 2.06.94-2.06 2.06-.94-2.06-.94-.94-2.06-.94 2.06-2.06.94zm-11 1L8.5 8.5l.94-2.06 2.06-.94-2.06-.94L8.5 2.5l-.94 2.06-2.06.94zm10 10l.94 2.06.94-2.06 2.06-.94-2.06-.94-.94-2.06-.94 2.06-2.06.94z\"/><path d=\"M17.41 7.96l-1.37-1.37c-.4-.4-.92-.59-1.43-.59-.52 0-1.04.2-1.43.59L10.3 9.45l-7.72 7.72c-.78.78-.78 2.05 0 2.83L4 21.41c.39.39.9.59 1.41.59.51 0 1.02-.2 1.41-.59l7.78-7.78 2.81-2.81c.8-.78.8-2.07 0-2.86zM5.41 20L4 18.59l7.72-7.72 1.47 1.35L5.41 20z\"/>\n",
              "  </svg>\n",
              "      </button>\n",
              "\n",
              "\n",
              "\n",
              "    <div id=\"df-f46a827d-101f-46fa-92a2-95de69af0420\">\n",
              "      <button class=\"colab-df-quickchart\" onclick=\"quickchart('df-f46a827d-101f-46fa-92a2-95de69af0420')\"\n",
              "              title=\"Suggest charts.\"\n",
              "              style=\"display:none;\">\n",
              "\n",
              "<svg xmlns=\"http://www.w3.org/2000/svg\" height=\"24px\"viewBox=\"0 0 24 24\"\n",
              "     width=\"24px\">\n",
              "    <g>\n",
              "        <path d=\"M19 3H5c-1.1 0-2 .9-2 2v14c0 1.1.9 2 2 2h14c1.1 0 2-.9 2-2V5c0-1.1-.9-2-2-2zM9 17H7v-7h2v7zm4 0h-2V7h2v10zm4 0h-2v-4h2v4z\"/>\n",
              "    </g>\n",
              "</svg>\n",
              "      </button>\n",
              "    </div>\n",
              "\n",
              "<style>\n",
              "  .colab-df-quickchart {\n",
              "    background-color: #E8F0FE;\n",
              "    border: none;\n",
              "    border-radius: 50%;\n",
              "    cursor: pointer;\n",
              "    display: none;\n",
              "    fill: #1967D2;\n",
              "    height: 32px;\n",
              "    padding: 0 0 0 0;\n",
              "    width: 32px;\n",
              "  }\n",
              "\n",
              "  .colab-df-quickchart:hover {\n",
              "    background-color: #E2EBFA;\n",
              "    box-shadow: 0px 1px 2px rgba(60, 64, 67, 0.3), 0px 1px 3px 1px rgba(60, 64, 67, 0.15);\n",
              "    fill: #174EA6;\n",
              "  }\n",
              "\n",
              "  [theme=dark] .colab-df-quickchart {\n",
              "    background-color: #3B4455;\n",
              "    fill: #D2E3FC;\n",
              "  }\n",
              "\n",
              "  [theme=dark] .colab-df-quickchart:hover {\n",
              "    background-color: #434B5C;\n",
              "    box-shadow: 0px 1px 3px 1px rgba(0, 0, 0, 0.15);\n",
              "    filter: drop-shadow(0px 1px 2px rgba(0, 0, 0, 0.3));\n",
              "    fill: #FFFFFF;\n",
              "  }\n",
              "</style>\n",
              "\n",
              "    <script>\n",
              "      async function quickchart(key) {\n",
              "        const containerElement = document.querySelector('#' + key);\n",
              "        const charts = await google.colab.kernel.invokeFunction(\n",
              "            'suggestCharts', [key], {});\n",
              "      }\n",
              "    </script>\n",
              "\n",
              "      <script>\n",
              "\n",
              "function displayQuickchartButton(domScope) {\n",
              "  let quickchartButtonEl =\n",
              "    domScope.querySelector('#df-f46a827d-101f-46fa-92a2-95de69af0420 button.colab-df-quickchart');\n",
              "  quickchartButtonEl.style.display =\n",
              "    google.colab.kernel.accessAllowed ? 'block' : 'none';\n",
              "}\n",
              "\n",
              "        displayQuickchartButton(document);\n",
              "      </script>\n",
              "      <style>\n",
              "    .colab-df-container {\n",
              "      display:flex;\n",
              "      flex-wrap:wrap;\n",
              "      gap: 12px;\n",
              "    }\n",
              "\n",
              "    .colab-df-convert {\n",
              "      background-color: #E8F0FE;\n",
              "      border: none;\n",
              "      border-radius: 50%;\n",
              "      cursor: pointer;\n",
              "      display: none;\n",
              "      fill: #1967D2;\n",
              "      height: 32px;\n",
              "      padding: 0 0 0 0;\n",
              "      width: 32px;\n",
              "    }\n",
              "\n",
              "    .colab-df-convert:hover {\n",
              "      background-color: #E2EBFA;\n",
              "      box-shadow: 0px 1px 2px rgba(60, 64, 67, 0.3), 0px 1px 3px 1px rgba(60, 64, 67, 0.15);\n",
              "      fill: #174EA6;\n",
              "    }\n",
              "\n",
              "    [theme=dark] .colab-df-convert {\n",
              "      background-color: #3B4455;\n",
              "      fill: #D2E3FC;\n",
              "    }\n",
              "\n",
              "    [theme=dark] .colab-df-convert:hover {\n",
              "      background-color: #434B5C;\n",
              "      box-shadow: 0px 1px 3px 1px rgba(0, 0, 0, 0.15);\n",
              "      filter: drop-shadow(0px 1px 2px rgba(0, 0, 0, 0.3));\n",
              "      fill: #FFFFFF;\n",
              "    }\n",
              "  </style>\n",
              "\n",
              "      <script>\n",
              "        const buttonEl =\n",
              "          document.querySelector('#df-8dd99de5-18f7-4119-9b61-37ee6382c6b0 button.colab-df-convert');\n",
              "        buttonEl.style.display =\n",
              "          google.colab.kernel.accessAllowed ? 'block' : 'none';\n",
              "\n",
              "        async function convertToInteractive(key) {\n",
              "          const element = document.querySelector('#df-8dd99de5-18f7-4119-9b61-37ee6382c6b0');\n",
              "          const dataTable =\n",
              "            await google.colab.kernel.invokeFunction('convertToInteractive',\n",
              "                                                     [key], {});\n",
              "          if (!dataTable) return;\n",
              "\n",
              "          const docLinkHtml = 'Like what you see? Visit the ' +\n",
              "            '<a target=\"_blank\" href=https://colab.research.google.com/notebooks/data_table.ipynb>data table notebook</a>'\n",
              "            + ' to learn more about interactive tables.';\n",
              "          element.innerHTML = '';\n",
              "          dataTable['output_type'] = 'display_data';\n",
              "          await google.colab.output.renderOutput(dataTable, element);\n",
              "          const docLink = document.createElement('div');\n",
              "          docLink.innerHTML = docLinkHtml;\n",
              "          element.appendChild(docLink);\n",
              "        }\n",
              "      </script>\n",
              "    </div>\n",
              "  </div>\n"
            ]
          },
          "metadata": {},
          "execution_count": 3
        }
      ]
    },
    {
      "cell_type": "code",
      "source": [
        "plt.scatter(df['X'],df['Y'], c = df['class'])"
      ],
      "metadata": {
        "colab": {
          "base_uri": "https://localhost:8080/",
          "height": 447
        },
        "id": "v61-81VS83ex",
        "outputId": "d30eb222-1098-40f4-9043-b2b08b71ee3e"
      },
      "execution_count": 4,
      "outputs": [
        {
          "output_type": "execute_result",
          "data": {
            "text/plain": [
              "<matplotlib.collections.PathCollection at 0x7f8c0d437f40>"
            ]
          },
          "metadata": {},
          "execution_count": 4
        },
        {
          "output_type": "display_data",
          "data": {
            "text/plain": [
              "<Figure size 640x480 with 1 Axes>"
            ],
            "image/png": "[encoded data removed]"
          },
          "metadata": {}
        }
      ]
    },
    {
      "cell_type": "code",
      "source": [
        "type(df['X'])"
      ],
      "metadata": {
        "colab": {
          "base_uri": "https://localhost:8080/"
        },
        "id": "L8jboj3k-1hl",
        "outputId": "1ade417f-5117-433c-e737-e0109c602ae5"
      },
      "execution_count": 5,
      "outputs": [
        {
          "output_type": "execute_result",
          "data": {
            "text/plain": [
              "pandas.core.series.Series"
            ]
          },
          "metadata": {},
          "execution_count": 5
        }
      ]
    },
    {
      "cell_type": "code",
      "source": [
        "X = df.iloc[:,0:2].values\n",
        "Y = df.iloc[:,-1].values"
      ],
      "metadata": {
        "id": "XOHJ-xhI_BTd"
      },
      "execution_count": 6,
      "outputs": []
    },
    {
      "cell_type": "code",
      "source": [
        "import tensorflow\n",
        "from tensorflow import keras\n",
        "from keras import Sequential\n",
        "from keras.layers import Dense"
      ],
      "metadata": {
        "id": "dasGV-Bc_RUt"
      },
      "execution_count": 7,
      "outputs": []
    },
    {
      "cell_type": "code",
      "source": [
        "model = Sequential()\n",
        "\n",
        "model.add(Dense(10,activation='tanh', input_dim=2))\n",
        "model.add(Dense(10,activation='tanh'))\n",
        "model.add(Dense(10,activation='tanh'))\n",
        "model.add(Dense(10,activation='tanh'))\n",
        "model.add(Dense(1,activation='sigmoid'))\n",
        "\n",
        "model.summary()"
      ],
      "metadata": {
        "colab": {
          "base_uri": "https://localhost:8080/"
        },
        "id": "1aFH6kEs_gfY",
        "outputId": "6415f099-9f6f-4045-ac4c-a0addc65b8a7"
      },
      "execution_count": 31,
      "outputs": [
        {
          "output_type": "stream",
          "name": "stdout",
          "text": [
            "Model: \"sequential_2\"\n",
            "_________________________________________________________________\n",
            " Layer (type)                Output Shape              Param #   \n",
            "=================================================================\n",
            " dense_7 (Dense)             (None, 10)                30        \n",
            "                                                                 \n",
            " dense_8 (Dense)             (None, 10)                110       \n",
            "                                                                 \n",
            " dense_9 (Dense)             (None, 10)                110       \n",
            "                                                                 \n",
            " dense_10 (Dense)            (None, 10)                110       \n",
            "                                                                 \n",
            " dense_11 (Dense)            (None, 1)                 11        \n",
            "                                                                 \n",
            "=================================================================\n",
            "Total params: 371\n",
            "Trainable params: 371\n",
            "Non-trainable params: 0\n",
            "_________________________________________________________________\n"
          ]
        }
      ]
    },
    {
      "cell_type": "code",
      "source": [
        "model.get_weights()"
      ],
      "metadata": {
        "colab": {
          "base_uri": "https://localhost:8080/"
        },
        "id": "-wBYxFuk_7la",
        "outputId": "d5cac2c8-6197-4379-8c26-8c557fce1c37"
      },
      "execution_count": 32,
      "outputs": [
        {
          "output_type": "execute_result",
          "data": {
            "text/plain": [
              "[array([[ 0.2907089 , -0.17389101, -0.6336308 ,  0.27034575,  0.28148937,\n",
              "         -0.2651674 , -0.6915455 , -0.6426796 , -0.11114949,  0.11242419],\n",
              "        [ 0.60481507,  0.08636868, -0.67952067,  0.4563374 ,  0.18851137,\n",
              "          0.51460916,  0.5828107 ,  0.33479553,  0.10976303,  0.19248313]],\n",
              "       dtype=float32),\n",
              " array([0., 0., 0., 0., 0., 0., 0., 0., 0., 0.], dtype=float32),\n",
              " array([[ 3.80783081e-02, -2.96530724e-02,  5.05274177e-01,\n",
              "         -3.36431623e-01, -3.31567794e-01,  3.35121214e-01,\n",
              "         -5.32223463e-01, -4.60617095e-01,  1.00189388e-01,\n",
              "          4.79023576e-01],\n",
              "        [-3.70462537e-01, -3.11478645e-01,  2.02935457e-01,\n",
              "          4.81616855e-01,  2.17101038e-01,  4.95033026e-01,\n",
              "          4.08366799e-01,  2.57997930e-01,  4.56713080e-01,\n",
              "          3.95089328e-01],\n",
              "        [ 3.39591563e-01, -1.98764205e-02, -7.21490681e-02,\n",
              "         -2.66195685e-01,  2.25676954e-01,  4.40635145e-01,\n",
              "         -3.30471098e-01,  4.35610056e-01,  3.97286713e-01,\n",
              "         -3.62612158e-01],\n",
              "        [-3.80071938e-01, -4.79878992e-01,  2.24521160e-02,\n",
              "         -2.46985137e-01,  2.55543947e-01,  2.46393323e-01,\n",
              "         -5.15660405e-01,  1.02477312e-01, -3.89507115e-01,\n",
              "         -8.69745016e-02],\n",
              "        [-1.71755373e-01, -4.13585722e-01,  2.61306763e-01,\n",
              "         -2.35816658e-01, -3.02408308e-01,  3.07946920e-01,\n",
              "          4.94993806e-01,  4.51247573e-01,  1.00116014e-01,\n",
              "         -2.47210264e-01],\n",
              "        [-2.71009207e-02, -4.57652509e-01, -4.38706785e-01,\n",
              "         -4.00100887e-01, -5.46571612e-02,  4.60550785e-01,\n",
              "          3.18138301e-01, -2.62453318e-01,  2.06017852e-01,\n",
              "          3.19179356e-01],\n",
              "        [ 2.53628075e-01, -7.62536824e-02,  5.41573524e-01,\n",
              "          3.22467566e-01, -2.14601308e-01, -2.51292020e-01,\n",
              "         -2.40789413e-01, -5.34726381e-01, -2.49336600e-01,\n",
              "          2.65945494e-01],\n",
              "        [-1.54399037e-01, -2.33846307e-02,  3.46305728e-01,\n",
              "         -5.08040488e-02,  1.41150057e-01, -2.32044131e-01,\n",
              "          2.98511863e-01, -1.21923178e-01, -3.85919750e-01,\n",
              "          1.14615262e-01],\n",
              "        [-3.66574436e-01,  4.33316648e-01,  3.19657981e-01,\n",
              "          3.89516354e-04,  5.15627742e-01, -4.95736599e-02,\n",
              "          2.68017232e-01, -8.26878250e-02,  2.91456342e-01,\n",
              "          2.74709046e-01],\n",
              "        [-1.76384181e-01, -2.98997223e-01, -1.50385559e-01,\n",
              "         -2.15669513e-01, -2.65325844e-01, -1.67128026e-01,\n",
              "         -7.36448169e-02,  1.84370637e-01,  4.88253832e-01,\n",
              "          1.12406254e-01]], dtype=float32),\n",
              " array([0., 0., 0., 0., 0., 0., 0., 0., 0., 0.], dtype=float32),\n",
              " array([[-0.01078755,  0.48880517,  0.09184802, -0.1916031 ,  0.52611387,\n",
              "          0.5415629 ,  0.48037314,  0.5104859 , -0.07938319,  0.368469  ],\n",
              "        [-0.3184776 , -0.35901815,  0.41572928, -0.31671453, -0.14663732,\n",
              "          0.52836156,  0.29730183, -0.49734634,  0.4014731 , -0.3747697 ],\n",
              "        [ 0.15583408,  0.1885997 ,  0.2520172 ,  0.18724424,  0.363464  ,\n",
              "         -0.3616227 , -0.07617179,  0.01381159, -0.46986815,  0.11106104],\n",
              "        [-0.0849961 , -0.20765513, -0.32228512, -0.00656891,  0.00597984,\n",
              "          0.25745773,  0.0438422 , -0.27703574,  0.14564955, -0.04898041],\n",
              "        [-0.39962488,  0.53802645,  0.28035092,  0.27164   ,  0.32967764,\n",
              "          0.5000191 , -0.16218439, -0.19172245, -0.20508766, -0.06128576],\n",
              "        [-0.27639088, -0.33750963, -0.00885642, -0.179088  ,  0.4592874 ,\n",
              "         -0.38059062,  0.289564  ,  0.22400057, -0.40403652,  0.43974876],\n",
              "        [ 0.37564284, -0.37380153, -0.5148074 ,  0.08166182,  0.4791882 ,\n",
              "         -0.09806696, -0.38789934,  0.49737215,  0.04793781, -0.00892746],\n",
              "        [ 0.37264782,  0.20539951,  0.4411186 ,  0.24573189,  0.18433082,\n",
              "         -0.53367686, -0.46753025, -0.3976251 ,  0.09329087,  0.08128977],\n",
              "        [ 0.01567674,  0.33566016,  0.34510487, -0.21398887, -0.36900073,\n",
              "         -0.46113396, -0.5342961 ,  0.3771661 , -0.28082865,  0.39560044],\n",
              "        [ 0.01655859,  0.15937597, -0.52263635,  0.41859227, -0.47592166,\n",
              "          0.08345097, -0.38137037, -0.284381  ,  0.511029  , -0.19353878]],\n",
              "       dtype=float32),\n",
              " array([0., 0., 0., 0., 0., 0., 0., 0., 0., 0.], dtype=float32),\n",
              " array([[ 0.27199638,  0.48851216,  0.40829927,  0.00517815, -0.5358794 ,\n",
              "         -0.44254592, -0.54390997, -0.1458517 ,  0.08241504, -0.3305372 ],\n",
              "        [-0.46475202, -0.2575439 ,  0.45912206,  0.24645275,  0.47256458,\n",
              "          0.40165645,  0.47480083, -0.35999414, -0.0815405 , -0.3820438 ],\n",
              "        [ 0.26561916, -0.44268277, -0.01491672, -0.5165125 ,  0.15851724,\n",
              "          0.27659094,  0.5082562 , -0.19968003, -0.52343833, -0.4549721 ],\n",
              "        [-0.26333046, -0.02462667, -0.14150918,  0.36080313, -0.10503718,\n",
              "          0.3421507 , -0.30618647,  0.33622336, -0.37912205, -0.1203458 ],\n",
              "        [-0.0184443 ,  0.51220787, -0.23668218, -0.18871331,  0.10655606,\n",
              "          0.07864368, -0.42593694,  0.12747627,  0.21171707, -0.5376488 ],\n",
              "        [-0.08221158, -0.30054888, -0.27413866, -0.18243495, -0.11402643,\n",
              "          0.3299501 , -0.24717814,  0.14362991,  0.5337566 ,  0.18261033],\n",
              "        [ 0.0790087 , -0.01123142,  0.03709841, -0.2688846 ,  0.10961652,\n",
              "         -0.44070032,  0.03346235,  0.54606843, -0.10171857,  0.31589484],\n",
              "        [-0.47526103, -0.46426833, -0.14364845, -0.26173195,  0.3744704 ,\n",
              "          0.3613649 ,  0.02308679, -0.29173672,  0.48560894, -0.5129369 ],\n",
              "        [ 0.32075036,  0.03123921, -0.04587388,  0.16893601, -0.01137078,\n",
              "          0.44967598, -0.5033749 ,  0.44527704,  0.0118022 ,  0.21567708],\n",
              "        [ 0.0830279 ,  0.4386347 , -0.5450979 , -0.23017961, -0.10762349,\n",
              "         -0.33256572, -0.47147295, -0.244753  ,  0.46345043,  0.40718538]],\n",
              "       dtype=float32),\n",
              " array([0., 0., 0., 0., 0., 0., 0., 0., 0., 0.], dtype=float32),\n",
              " array([[ 0.6897206 ],\n",
              "        [ 0.34351355],\n",
              "        [ 0.12639469],\n",
              "        [ 0.15116107],\n",
              "        [-0.34458962],\n",
              "        [ 0.35880226],\n",
              "        [-0.38115785],\n",
              "        [ 0.11226451],\n",
              "        [-0.45348972],\n",
              "        [ 0.26184398]], dtype=float32),\n",
              " array([0.], dtype=float32)]"
            ]
          },
          "metadata": {},
          "execution_count": 32
        }
      ]
    },
    {
      "cell_type": "code",
      "source": [
        "initial_weights = model.get_weights()"
      ],
      "metadata": {
        "id": "jLd5o5cQ9FK0"
      },
      "execution_count": 33,
      "outputs": []
    },
    {
      "cell_type": "code",
      "source": [
        "initial_weights[0] = np.random.randn(2,10)*np.sqrt(1/2)\n",
        "initial_weights[1] = np.zeros(model.get_weights()[1].shape)\n",
        "initial_weights[2] = np.random.randn(10,10)*np.sqrt(1/10)\n",
        "initial_weights[3] = np.zeros(model.get_weights()[3].shape)\n",
        "initial_weights[4] = np.random.randn(10,10)*np.sqrt(1/10)\n",
        "initial_weights[5] = np.zeros(model.get_weights()[5].shape)\n",
        "initial_weights[6] = np.random.randn(10,10)*np.sqrt(1/10)\n",
        "initial_weights[7] = np.zeros(model.get_weights()[7].shape)\n",
        "initial_weights[8] = np.random.randn(10,1)*np.sqrt(1/10)\n",
        "initial_weights[9] = np.zeros(model.get_weights()[9].shape)"
      ],
      "metadata": {
        "id": "0gxUHL6o9OvE"
      },
      "execution_count": 34,
      "outputs": []
    },
    {
      "cell_type": "code",
      "source": [
        "model.set_weights(initial_weights)"
      ],
      "metadata": {
        "id": "NwDxhX_r9hRn"
      },
      "execution_count": 35,
      "outputs": []
    },
    {
      "cell_type": "code",
      "source": [
        "model.get_weights()"
      ],
      "metadata": {
        "colab": {
          "base_uri": "https://localhost:8080/"
        },
        "id": "3Pzyw7eo93fa",
        "outputId": "df8e8d05-17a9-4e8c-f8b5-93be65e0594b"
      },
      "execution_count": 36,
      "outputs": [
        {
          "output_type": "execute_result",
          "data": {
            "text/plain": [
              "[array([[ 0.29693753, -0.69074386,  0.26788965, -0.7957278 ,  0.7331824 ,\n",
              "          0.11504063,  0.13196269,  1.4233379 , -0.6107892 , -0.29580024],\n",
              "        [-0.96224284, -0.85970116,  1.4321995 , -0.32389775,  0.9538236 ,\n",
              "         -0.26946023, -0.31588146,  0.2865247 ,  0.7583648 ,  0.2871098 ]],\n",
              "       dtype=float32),\n",
              " array([0., 0., 0., 0., 0., 0., 0., 0., 0., 0.], dtype=float32),\n",
              " array([[ 0.25839943, -0.07331735, -0.17701524, -0.05987968,  0.11371697,\n",
              "          0.16567221,  0.18856674, -0.5210303 ,  0.29211944, -0.02086542],\n",
              "        [-0.3300507 ,  0.2755819 ,  0.05685686, -0.08202431,  0.15624124,\n",
              "          0.52069014, -0.32675314, -0.00819545,  0.45609614,  0.19891262],\n",
              "        [-0.10498982,  0.11217558, -0.19912009,  0.27884054, -0.3361445 ,\n",
              "         -0.03406797,  0.10534512,  0.2920568 , -0.23393509,  0.12152454],\n",
              "        [ 0.3437003 ,  0.27266547,  0.14124806, -0.18901083,  0.15414359,\n",
              "          0.5874456 ,  0.42438692,  0.3366505 ,  0.38337138, -0.7942063 ],\n",
              "        [ 0.7276248 ,  0.6506779 ,  0.03376604, -0.25849742,  0.00762298,\n",
              "         -0.37705308,  0.17577824, -0.24576263,  0.27544948, -0.03114989],\n",
              "        [-0.5616812 ,  0.00719169, -0.13663727,  0.15293531,  0.33558294,\n",
              "          0.03503256, -0.07550734,  0.37201703,  0.06892984, -0.65912944],\n",
              "        [ 0.08198256, -0.13576807, -0.2183196 ,  0.0907686 , -0.4596671 ,\n",
              "          0.26820046, -0.531531  ,  0.21672824, -0.22408853, -0.09133048],\n",
              "        [-0.03229307, -0.34623742, -0.29400024,  0.09990723, -0.23684128,\n",
              "         -0.14531879, -0.11040928,  0.13237947,  0.13896751, -0.34784722],\n",
              "        [ 0.1188734 , -0.12874594,  0.2403798 , -0.3352615 , -0.03077714,\n",
              "         -0.01424935, -0.4965696 ,  0.14822645,  0.01166696, -0.29874864],\n",
              "        [-0.1571899 ,  0.0730553 , -0.20097281,  0.1800377 , -0.44655478,\n",
              "         -0.95570546, -0.01608573,  0.2909298 ,  0.29859486,  0.7630886 ]],\n",
              "       dtype=float32),\n",
              " array([0., 0., 0., 0., 0., 0., 0., 0., 0., 0.], dtype=float32),\n",
              " array([[ 0.09406649, -0.4247853 ,  0.13276167,  0.43387824,  0.46595103,\n",
              "          0.42365965,  0.19117445, -0.01221718, -0.00870295,  0.21257223],\n",
              "        [ 0.3962751 , -0.7113813 , -0.05023954, -0.6436184 , -0.33907792,\n",
              "          0.13167161, -0.13414231,  0.28715208,  0.3549101 ,  0.02119574],\n",
              "        [ 0.31938723, -0.22521159, -0.02089351, -0.5278096 , -0.40965775,\n",
              "         -0.06724565,  0.08633163,  0.08629663,  0.09216221,  0.38959128],\n",
              "        [-0.0908357 ,  0.482846  ,  0.0250263 ,  0.24593267,  0.0420559 ,\n",
              "          0.2658771 , -0.1789793 , -0.0165807 , -0.30694318, -0.14138934],\n",
              "        [-0.12160428,  0.10063573, -0.31194162,  0.13623388, -0.20489222,\n",
              "         -0.28263712,  0.14370158,  0.0515741 , -0.01215723, -0.06307205],\n",
              "        [-0.15329921, -0.16039339, -0.03446303, -0.40017915, -0.28932324,\n",
              "         -0.34476823, -0.2653052 , -0.05344472, -0.3817021 , -0.09731763],\n",
              "        [-0.06220876,  0.36177114,  0.14300315, -0.15129517,  0.60764414,\n",
              "          0.21662797, -0.20162916, -0.333969  , -0.19984098,  0.23956682],\n",
              "        [-0.18066742, -0.10141794,  0.03517621,  0.13590917, -0.19133958,\n",
              "          0.32963178,  0.40779898, -0.6014797 , -0.14391364,  0.09192298],\n",
              "        [ 0.4816195 ,  0.63093334,  0.57277536,  0.14464083, -0.052289  ,\n",
              "          0.31772178, -0.00457571,  0.43810773, -0.16197927, -0.1984446 ],\n",
              "        [ 0.18251666,  0.4971218 , -0.20156518,  0.07640962, -0.09831525,\n",
              "          0.08994651,  0.04072255, -0.17816852,  0.38820794,  0.021098  ]],\n",
              "       dtype=float32),\n",
              " array([0., 0., 0., 0., 0., 0., 0., 0., 0., 0.], dtype=float32),\n",
              " array([[ 0.32558668,  0.4064791 ,  0.62546533,  0.30999535,  0.5432954 ,\n",
              "          0.00946833,  0.3947951 ,  0.08686892,  0.4885001 ,  0.04231182],\n",
              "        [ 0.3898182 ,  0.03691793, -0.5728301 , -0.10252725,  0.24618982,\n",
              "         -0.08438319,  0.16223891,  0.09685668,  0.15739326,  0.16575508],\n",
              "        [-0.24726479, -0.22580329,  0.5008511 ,  0.17470391, -0.33983138,\n",
              "         -0.02665786,  0.33577874, -0.13448495,  0.3759635 , -0.097833  ],\n",
              "        [-0.10574   , -0.17951235, -0.09227019, -0.5014917 ,  0.19884701,\n",
              "         -0.5011751 ,  0.21283169,  0.13077511, -0.36095774, -0.03916225],\n",
              "        [ 0.20503858,  0.00401961, -0.2776939 , -0.5924818 ,  0.55080825,\n",
              "          0.38470268,  0.21782109, -0.62152505,  0.29244876, -0.33086005],\n",
              "        [ 0.39806336,  0.15982932, -0.23452371,  0.16322765,  0.478607  ,\n",
              "         -0.09004113, -0.15588962,  0.40733537,  0.10301073, -0.06470146],\n",
              "        [ 0.13569573,  0.14995182, -0.07716298,  0.28949112,  0.34374383,\n",
              "          0.32200757,  0.01536522, -0.37630495, -0.44691536, -0.11680205],\n",
              "        [-0.0784847 ,  0.12904584, -0.36015123,  0.1569741 , -0.5094367 ,\n",
              "          0.0768897 , -0.41379198,  0.27011153, -0.02147015,  0.47433552],\n",
              "        [-0.45896164, -0.01774772,  0.3736752 ,  0.2665643 ,  0.26861823,\n",
              "         -0.14484893, -0.24363267, -0.40386286, -0.46525255,  0.1331519 ],\n",
              "        [-0.1785377 , -0.09372631, -0.37237203,  0.15508947, -0.9527099 ,\n",
              "          0.15563993, -0.19171934,  0.35904726, -0.28946534, -0.16992842]],\n",
              "       dtype=float32),\n",
              " array([0., 0., 0., 0., 0., 0., 0., 0., 0., 0.], dtype=float32),\n",
              " array([[ 0.5880634 ],\n",
              "        [-0.7721407 ],\n",
              "        [-0.15582743],\n",
              "        [-0.13245739],\n",
              "        [-0.86858857],\n",
              "        [-0.0187329 ],\n",
              "        [ 0.00477343],\n",
              "        [ 0.03055676],\n",
              "        [ 0.03706989],\n",
              "        [-0.05240811]], dtype=float32),\n",
              " array([0.], dtype=float32)]"
            ]
          },
          "metadata": {},
          "execution_count": 36
        }
      ]
    },
    {
      "cell_type": "code",
      "source": [
        "model.compile(loss='binary_crossentropy', optimizer='adam', metrics=['accuracy'])"
      ],
      "metadata": {
        "id": "nybhB-bN96Yf"
      },
      "execution_count": 37,
      "outputs": []
    },
    {
      "cell_type": "code",
      "source": [
        "history= model.fit(X,Y,epochs=100, validation_split=0.2)"
      ],
      "metadata": {
        "colab": {
          "base_uri": "https://localhost:8080/"
        },
        "id": "PbWgN9rM-8RO",
        "outputId": "c9c3bd6f-50c8-4475-8845-bc3d203abe28"
      },
      "execution_count": 38,
      "outputs": [
        {
          "output_type": "stream",
          "name": "stdout",
          "text": [
            "Epoch 1/100\n",
            "3/3 [==============================] - 1s 111ms/step - loss: 0.6047 - accuracy: 0.7000 - val_loss: 0.5937 - val_accuracy: 0.8500\n",
            "Epoch 2/100\n",
            "3/3 [==============================] - 0s 18ms/step - loss: 0.5896 - accuracy: 0.7625 - val_loss: 0.5733 - val_accuracy: 0.8500\n",
            "Epoch 3/100\n",
            "3/3 [==============================] - 0s 19ms/step - loss: 0.5763 - accuracy: 0.8125 - val_loss: 0.5531 - val_accuracy: 0.8500\n",
            "Epoch 4/100\n",
            "3/3 [==============================] - 0s 19ms/step - loss: 0.5623 - accuracy: 0.8250 - val_loss: 0.5340 - val_accuracy: 0.8500\n",
            "Epoch 5/100\n",
            "3/3 [==============================] - 0s 20ms/step - loss: 0.5485 - accuracy: 0.8375 - val_loss: 0.5153 - val_accuracy: 0.8500\n",
            "Epoch 6/100\n",
            "3/3 [==============================] - 0s 27ms/step - loss: 0.5356 - accuracy: 0.8500 - val_loss: 0.4972 - val_accuracy: 0.8500\n",
            "Epoch 7/100\n",
            "3/3 [==============================] - 0s 19ms/step - loss: 0.5223 - accuracy: 0.8500 - val_loss: 0.4802 - val_accuracy: 0.9000\n",
            "Epoch 8/100\n",
            "3/3 [==============================] - 0s 19ms/step - loss: 0.5114 - accuracy: 0.8500 - val_loss: 0.4633 - val_accuracy: 0.9000\n",
            "Epoch 9/100\n",
            "3/3 [==============================] - 0s 22ms/step - loss: 0.5000 - accuracy: 0.8500 - val_loss: 0.4471 - val_accuracy: 0.8500\n",
            "Epoch 10/100\n",
            "3/3 [==============================] - 0s 18ms/step - loss: 0.4893 - accuracy: 0.8375 - val_loss: 0.4318 - val_accuracy: 0.8500\n",
            "Epoch 11/100\n",
            "3/3 [==============================] - 0s 18ms/step - loss: 0.4786 - accuracy: 0.8375 - val_loss: 0.4175 - val_accuracy: 0.8500\n",
            "Epoch 12/100\n",
            "3/3 [==============================] - 0s 27ms/step - loss: 0.4690 - accuracy: 0.8375 - val_loss: 0.4038 - val_accuracy: 0.8500\n",
            "Epoch 13/100\n",
            "3/3 [==============================] - 0s 28ms/step - loss: 0.4609 - accuracy: 0.8375 - val_loss: 0.3912 - val_accuracy: 0.8500\n",
            "Epoch 14/100\n",
            "3/3 [==============================] - 0s 22ms/step - loss: 0.4519 - accuracy: 0.8375 - val_loss: 0.3796 - val_accuracy: 0.8500\n",
            "Epoch 15/100\n",
            "3/3 [==============================] - 0s 19ms/step - loss: 0.4442 - accuracy: 0.8375 - val_loss: 0.3693 - val_accuracy: 0.8500\n",
            "Epoch 16/100\n",
            "3/3 [==============================] - 0s 19ms/step - loss: 0.4370 - accuracy: 0.8375 - val_loss: 0.3599 - val_accuracy: 0.8500\n",
            "Epoch 17/100\n",
            "3/3 [==============================] - 0s 28ms/step - loss: 0.4312 - accuracy: 0.8375 - val_loss: 0.3514 - val_accuracy: 0.8500\n",
            "Epoch 18/100\n",
            "3/3 [==============================] - 0s 20ms/step - loss: 0.4251 - accuracy: 0.8500 - val_loss: 0.3434 - val_accuracy: 0.8500\n",
            "Epoch 19/100\n",
            "3/3 [==============================] - 0s 29ms/step - loss: 0.4205 - accuracy: 0.8500 - val_loss: 0.3359 - val_accuracy: 0.8500\n",
            "Epoch 20/100\n",
            "3/3 [==============================] - 0s 29ms/step - loss: 0.4162 - accuracy: 0.8500 - val_loss: 0.3292 - val_accuracy: 0.8500\n",
            "Epoch 21/100\n",
            "3/3 [==============================] - 0s 28ms/step - loss: 0.4112 - accuracy: 0.8500 - val_loss: 0.3242 - val_accuracy: 0.8500\n",
            "Epoch 22/100\n",
            "3/3 [==============================] - 0s 18ms/step - loss: 0.4080 - accuracy: 0.8500 - val_loss: 0.3189 - val_accuracy: 0.8500\n",
            "Epoch 23/100\n",
            "3/3 [==============================] - 0s 28ms/step - loss: 0.4055 - accuracy: 0.8500 - val_loss: 0.3135 - val_accuracy: 0.8500\n",
            "Epoch 24/100\n",
            "3/3 [==============================] - 0s 21ms/step - loss: 0.4025 - accuracy: 0.8500 - val_loss: 0.3088 - val_accuracy: 0.8500\n",
            "Epoch 25/100\n",
            "3/3 [==============================] - 0s 20ms/step - loss: 0.3998 - accuracy: 0.8500 - val_loss: 0.3046 - val_accuracy: 0.8500\n",
            "Epoch 26/100\n",
            "3/3 [==============================] - 0s 28ms/step - loss: 0.3976 - accuracy: 0.8500 - val_loss: 0.3011 - val_accuracy: 0.8500\n",
            "Epoch 27/100\n",
            "3/3 [==============================] - 0s 20ms/step - loss: 0.3960 - accuracy: 0.8500 - val_loss: 0.2974 - val_accuracy: 0.8500\n",
            "Epoch 28/100\n",
            "3/3 [==============================] - 0s 24ms/step - loss: 0.3938 - accuracy: 0.8500 - val_loss: 0.2944 - val_accuracy: 0.8500\n",
            "Epoch 29/100\n",
            "3/3 [==============================] - 0s 31ms/step - loss: 0.3928 - accuracy: 0.8500 - val_loss: 0.2909 - val_accuracy: 0.8500\n",
            "Epoch 30/100\n",
            "3/3 [==============================] - 0s 20ms/step - loss: 0.3920 - accuracy: 0.8500 - val_loss: 0.2879 - val_accuracy: 0.8500\n",
            "Epoch 31/100\n",
            "3/3 [==============================] - 0s 19ms/step - loss: 0.3904 - accuracy: 0.8500 - val_loss: 0.2860 - val_accuracy: 0.8500\n",
            "Epoch 32/100\n",
            "3/3 [==============================] - 0s 19ms/step - loss: 0.3892 - accuracy: 0.8500 - val_loss: 0.2843 - val_accuracy: 0.8500\n",
            "Epoch 33/100\n",
            "3/3 [==============================] - 0s 21ms/step - loss: 0.3884 - accuracy: 0.8500 - val_loss: 0.2829 - val_accuracy: 0.8500\n",
            "Epoch 34/100\n",
            "3/3 [==============================] - 0s 22ms/step - loss: 0.3875 - accuracy: 0.8500 - val_loss: 0.2809 - val_accuracy: 0.8500\n",
            "Epoch 35/100\n",
            "3/3 [==============================] - 0s 21ms/step - loss: 0.3866 - accuracy: 0.8500 - val_loss: 0.2791 - val_accuracy: 0.8500\n",
            "Epoch 36/100\n",
            "3/3 [==============================] - 0s 20ms/step - loss: 0.3862 - accuracy: 0.8500 - val_loss: 0.2773 - val_accuracy: 0.9000\n",
            "Epoch 37/100\n",
            "3/3 [==============================] - 0s 20ms/step - loss: 0.3855 - accuracy: 0.8500 - val_loss: 0.2761 - val_accuracy: 0.9000\n",
            "Epoch 38/100\n",
            "3/3 [==============================] - 0s 22ms/step - loss: 0.3849 - accuracy: 0.8500 - val_loss: 0.2757 - val_accuracy: 0.9000\n",
            "Epoch 39/100\n",
            "3/3 [==============================] - 0s 20ms/step - loss: 0.3846 - accuracy: 0.8625 - val_loss: 0.2756 - val_accuracy: 0.9000\n",
            "Epoch 40/100\n",
            "3/3 [==============================] - 0s 28ms/step - loss: 0.3839 - accuracy: 0.8625 - val_loss: 0.2744 - val_accuracy: 0.9000\n",
            "Epoch 41/100\n",
            "3/3 [==============================] - 0s 19ms/step - loss: 0.3835 - accuracy: 0.8625 - val_loss: 0.2735 - val_accuracy: 0.9000\n",
            "Epoch 42/100\n",
            "3/3 [==============================] - 0s 20ms/step - loss: 0.3830 - accuracy: 0.8625 - val_loss: 0.2722 - val_accuracy: 0.9000\n",
            "Epoch 43/100\n",
            "3/3 [==============================] - 0s 30ms/step - loss: 0.3827 - accuracy: 0.8625 - val_loss: 0.2709 - val_accuracy: 0.9000\n",
            "Epoch 44/100\n",
            "3/3 [==============================] - 0s 28ms/step - loss: 0.3827 - accuracy: 0.8500 - val_loss: 0.2694 - val_accuracy: 0.8500\n",
            "Epoch 45/100\n",
            "3/3 [==============================] - 0s 31ms/step - loss: 0.3821 - accuracy: 0.8500 - val_loss: 0.2688 - val_accuracy: 0.8500\n",
            "Epoch 46/100\n",
            "3/3 [==============================] - 0s 20ms/step - loss: 0.3817 - accuracy: 0.8500 - val_loss: 0.2681 - val_accuracy: 0.8500\n",
            "Epoch 47/100\n",
            "3/3 [==============================] - 0s 25ms/step - loss: 0.3815 - accuracy: 0.8500 - val_loss: 0.2673 - val_accuracy: 0.8500\n",
            "Epoch 48/100\n",
            "3/3 [==============================] - 0s 20ms/step - loss: 0.3811 - accuracy: 0.8500 - val_loss: 0.2664 - val_accuracy: 0.9000\n",
            "Epoch 49/100\n",
            "3/3 [==============================] - 0s 20ms/step - loss: 0.3806 - accuracy: 0.8500 - val_loss: 0.2651 - val_accuracy: 0.9000\n",
            "Epoch 50/100\n",
            "3/3 [==============================] - 0s 20ms/step - loss: 0.3803 - accuracy: 0.8500 - val_loss: 0.2637 - val_accuracy: 0.9000\n",
            "Epoch 51/100\n",
            "3/3 [==============================] - 0s 22ms/step - loss: 0.3798 - accuracy: 0.8500 - val_loss: 0.2625 - val_accuracy: 0.9000\n",
            "Epoch 52/100\n",
            "3/3 [==============================] - 0s 21ms/step - loss: 0.3798 - accuracy: 0.8500 - val_loss: 0.2614 - val_accuracy: 0.9000\n",
            "Epoch 53/100\n",
            "3/3 [==============================] - 0s 21ms/step - loss: 0.3792 - accuracy: 0.8500 - val_loss: 0.2606 - val_accuracy: 0.9000\n",
            "Epoch 54/100\n",
            "3/3 [==============================] - 0s 19ms/step - loss: 0.3791 - accuracy: 0.8500 - val_loss: 0.2595 - val_accuracy: 0.9000\n",
            "Epoch 55/100\n",
            "3/3 [==============================] - 0s 28ms/step - loss: 0.3787 - accuracy: 0.8500 - val_loss: 0.2593 - val_accuracy: 0.9000\n",
            "Epoch 56/100\n",
            "3/3 [==============================] - 0s 19ms/step - loss: 0.3787 - accuracy: 0.8500 - val_loss: 0.2594 - val_accuracy: 0.9000\n",
            "Epoch 57/100\n",
            "3/3 [==============================] - 0s 21ms/step - loss: 0.3781 - accuracy: 0.8500 - val_loss: 0.2604 - val_accuracy: 0.9000\n",
            "Epoch 58/100\n",
            "3/3 [==============================] - 0s 24ms/step - loss: 0.3776 - accuracy: 0.8500 - val_loss: 0.2610 - val_accuracy: 0.9000\n",
            "Epoch 59/100\n",
            "3/3 [==============================] - 0s 21ms/step - loss: 0.3774 - accuracy: 0.8625 - val_loss: 0.2615 - val_accuracy: 0.9000\n",
            "Epoch 60/100\n",
            "3/3 [==============================] - 0s 31ms/step - loss: 0.3774 - accuracy: 0.8625 - val_loss: 0.2618 - val_accuracy: 0.9000\n",
            "Epoch 61/100\n",
            "3/3 [==============================] - 0s 36ms/step - loss: 0.3768 - accuracy: 0.8625 - val_loss: 0.2620 - val_accuracy: 0.9000\n",
            "Epoch 62/100\n",
            "3/3 [==============================] - 0s 39ms/step - loss: 0.3764 - accuracy: 0.8625 - val_loss: 0.2620 - val_accuracy: 0.9000\n",
            "Epoch 63/100\n",
            "3/3 [==============================] - 0s 28ms/step - loss: 0.3761 - accuracy: 0.8625 - val_loss: 0.2619 - val_accuracy: 0.9000\n",
            "Epoch 64/100\n",
            "3/3 [==============================] - 0s 39ms/step - loss: 0.3760 - accuracy: 0.8625 - val_loss: 0.2621 - val_accuracy: 0.9000\n",
            "Epoch 65/100\n",
            "3/3 [==============================] - 0s 42ms/step - loss: 0.3756 - accuracy: 0.8625 - val_loss: 0.2622 - val_accuracy: 0.9000\n",
            "Epoch 66/100\n",
            "3/3 [==============================] - 0s 38ms/step - loss: 0.3753 - accuracy: 0.8625 - val_loss: 0.2624 - val_accuracy: 0.9000\n",
            "Epoch 67/100\n",
            "3/3 [==============================] - 0s 40ms/step - loss: 0.3751 - accuracy: 0.8625 - val_loss: 0.2621 - val_accuracy: 0.9000\n",
            "Epoch 68/100\n",
            "3/3 [==============================] - 0s 44ms/step - loss: 0.3747 - accuracy: 0.8625 - val_loss: 0.2619 - val_accuracy: 0.9000\n",
            "Epoch 69/100\n",
            "3/3 [==============================] - 0s 32ms/step - loss: 0.3742 - accuracy: 0.8625 - val_loss: 0.2616 - val_accuracy: 0.9000\n",
            "Epoch 70/100\n",
            "3/3 [==============================] - 0s 34ms/step - loss: 0.3741 - accuracy: 0.8625 - val_loss: 0.2605 - val_accuracy: 0.9000\n",
            "Epoch 71/100\n",
            "3/3 [==============================] - 0s 34ms/step - loss: 0.3735 - accuracy: 0.8625 - val_loss: 0.2601 - val_accuracy: 0.9000\n",
            "Epoch 72/100\n",
            "3/3 [==============================] - 0s 27ms/step - loss: 0.3734 - accuracy: 0.8625 - val_loss: 0.2592 - val_accuracy: 0.9000\n",
            "Epoch 73/100\n",
            "3/3 [==============================] - 0s 29ms/step - loss: 0.3731 - accuracy: 0.8625 - val_loss: 0.2586 - val_accuracy: 0.9000\n",
            "Epoch 74/100\n",
            "3/3 [==============================] - 0s 27ms/step - loss: 0.3726 - accuracy: 0.8625 - val_loss: 0.2588 - val_accuracy: 0.9000\n",
            "Epoch 75/100\n",
            "3/3 [==============================] - 0s 37ms/step - loss: 0.3723 - accuracy: 0.8625 - val_loss: 0.2587 - val_accuracy: 0.9000\n",
            "Epoch 76/100\n",
            "3/3 [==============================] - 0s 37ms/step - loss: 0.3720 - accuracy: 0.8625 - val_loss: 0.2582 - val_accuracy: 0.9000\n",
            "Epoch 77/100\n",
            "3/3 [==============================] - 0s 27ms/step - loss: 0.3717 - accuracy: 0.8625 - val_loss: 0.2563 - val_accuracy: 0.9000\n",
            "Epoch 78/100\n",
            "3/3 [==============================] - 0s 26ms/step - loss: 0.3712 - accuracy: 0.8625 - val_loss: 0.2552 - val_accuracy: 0.9000\n",
            "Epoch 79/100\n",
            "3/3 [==============================] - 0s 33ms/step - loss: 0.3710 - accuracy: 0.8625 - val_loss: 0.2541 - val_accuracy: 0.9000\n",
            "Epoch 80/100\n",
            "3/3 [==============================] - 0s 34ms/step - loss: 0.3708 - accuracy: 0.8625 - val_loss: 0.2536 - val_accuracy: 0.9000\n",
            "Epoch 81/100\n",
            "3/3 [==============================] - 0s 36ms/step - loss: 0.3705 - accuracy: 0.8625 - val_loss: 0.2531 - val_accuracy: 0.9000\n",
            "Epoch 82/100\n",
            "3/3 [==============================] - 0s 34ms/step - loss: 0.3699 - accuracy: 0.8625 - val_loss: 0.2541 - val_accuracy: 0.9000\n",
            "Epoch 83/100\n",
            "3/3 [==============================] - 0s 34ms/step - loss: 0.3694 - accuracy: 0.8625 - val_loss: 0.2548 - val_accuracy: 0.9000\n",
            "Epoch 84/100\n",
            "3/3 [==============================] - 0s 27ms/step - loss: 0.3691 - accuracy: 0.8625 - val_loss: 0.2553 - val_accuracy: 0.9000\n",
            "Epoch 85/100\n",
            "3/3 [==============================] - 0s 38ms/step - loss: 0.3687 - accuracy: 0.8625 - val_loss: 0.2563 - val_accuracy: 0.9000\n",
            "Epoch 86/100\n",
            "3/3 [==============================] - 0s 35ms/step - loss: 0.3685 - accuracy: 0.8625 - val_loss: 0.2573 - val_accuracy: 0.9000\n",
            "Epoch 87/100\n",
            "3/3 [==============================] - 0s 39ms/step - loss: 0.3682 - accuracy: 0.8625 - val_loss: 0.2578 - val_accuracy: 0.9000\n",
            "Epoch 88/100\n",
            "3/3 [==============================] - 0s 44ms/step - loss: 0.3677 - accuracy: 0.8625 - val_loss: 0.2581 - val_accuracy: 0.9000\n",
            "Epoch 89/100\n",
            "3/3 [==============================] - 0s 39ms/step - loss: 0.3672 - accuracy: 0.8625 - val_loss: 0.2578 - val_accuracy: 0.9000\n",
            "Epoch 90/100\n",
            "3/3 [==============================] - 0s 28ms/step - loss: 0.3674 - accuracy: 0.8625 - val_loss: 0.2566 - val_accuracy: 0.9000\n",
            "Epoch 91/100\n",
            "3/3 [==============================] - 0s 43ms/step - loss: 0.3665 - accuracy: 0.8625 - val_loss: 0.2563 - val_accuracy: 0.9000\n",
            "Epoch 92/100\n",
            "3/3 [==============================] - 0s 39ms/step - loss: 0.3662 - accuracy: 0.8625 - val_loss: 0.2553 - val_accuracy: 0.9000\n",
            "Epoch 93/100\n",
            "3/3 [==============================] - 0s 37ms/step - loss: 0.3658 - accuracy: 0.8625 - val_loss: 0.2547 - val_accuracy: 0.9000\n",
            "Epoch 94/100\n",
            "3/3 [==============================] - 0s 37ms/step - loss: 0.3653 - accuracy: 0.8625 - val_loss: 0.2537 - val_accuracy: 0.9000\n",
            "Epoch 95/100\n",
            "3/3 [==============================] - 0s 27ms/step - loss: 0.3652 - accuracy: 0.8625 - val_loss: 0.2519 - val_accuracy: 0.9000\n",
            "Epoch 96/100\n",
            "3/3 [==============================] - 0s 38ms/step - loss: 0.3643 - accuracy: 0.8625 - val_loss: 0.2518 - val_accuracy: 0.9000\n",
            "Epoch 97/100\n",
            "3/3 [==============================] - 0s 34ms/step - loss: 0.3642 - accuracy: 0.8625 - val_loss: 0.2521 - val_accuracy: 0.9000\n",
            "Epoch 98/100\n",
            "3/3 [==============================] - 0s 34ms/step - loss: 0.3637 - accuracy: 0.8625 - val_loss: 0.2520 - val_accuracy: 0.9000\n",
            "Epoch 99/100\n",
            "3/3 [==============================] - 0s 27ms/step - loss: 0.3633 - accuracy: 0.8625 - val_loss: 0.2520 - val_accuracy: 0.9000\n",
            "Epoch 100/100\n",
            "3/3 [==============================] - 0s 35ms/step - loss: 0.3632 - accuracy: 0.8625 - val_loss: 0.2527 - val_accuracy: 0.9000\n"
          ]
        }
      ]
    },
    {
      "cell_type": "code",
      "source": [
        "model.get_weights()\n",
        "#No update in weights and bias"
      ],
      "metadata": {
        "colab": {
          "base_uri": "https://localhost:8080/"
        },
        "id": "izaHsdPf_H3m",
        "outputId": "6fd304e1-154d-42be-d359-cec5b4b83c68"
      },
      "execution_count": 39,
      "outputs": [
        {
          "output_type": "execute_result",
          "data": {
            "text/plain": [
              "[array([[ 0.38347244, -0.57489026,  0.20063952, -0.84568614,  0.774528  ,\n",
              "          0.2030791 ,  0.18673173,  1.3244135 , -0.54855245, -0.3423588 ],\n",
              "        [-0.99730086, -0.7658049 ,  1.4105228 , -0.28907958,  0.9605994 ,\n",
              "         -0.30789116, -0.29620528,  0.31203324,  0.8596912 ,  0.3011235 ]],\n",
              "       dtype=float32),\n",
              " array([-0.02372589,  0.08905919, -0.04596537,  0.14963026, -0.10546178,\n",
              "        -0.00275398,  0.03793578,  0.17082515,  0.11255545, -0.03228046],\n",
              "       dtype=float32),\n",
              " array([[ 0.20712206, -0.15583521, -0.27959114,  0.02338451,  0.1781582 ,\n",
              "          0.17863847,  0.27132082, -0.5949893 ,  0.37699795, -0.07072549],\n",
              "        [-0.27589902,  0.2439261 , -0.05218306, -0.02487085,  0.12044411,\n",
              "          0.42420843, -0.31007594, -0.02151278,  0.40200743,  0.22761609],\n",
              "        [-0.12484968,  0.15207255, -0.10813384,  0.22555855, -0.31438118,\n",
              "          0.05567951,  0.06603226,  0.33348784, -0.22175363,  0.11618604],\n",
              "        [ 0.38266477,  0.26411262,  0.02628619, -0.15816776,  0.11361511,\n",
              "          0.5370803 ,  0.41865996,  0.31379876,  0.32123983, -0.785718  ],\n",
              "        [ 0.6826967 ,  0.6922553 ,  0.1511512 , -0.3254928 ,  0.03265015,\n",
              "         -0.28219748,  0.1471778 , -0.2254874 ,  0.3117955 , -0.05607317],\n",
              "        [-0.6358952 , -0.08816662, -0.24290805,  0.24900682,  0.42878568,\n",
              "          0.07979491,  0.02383228,  0.28904736,  0.18332483, -0.7251442 ],\n",
              "        [ 0.0147653 , -0.22124738, -0.31064746,  0.17834152, -0.37314466,\n",
              "          0.3162495 , -0.44104257,  0.14062114, -0.1201748 , -0.15376356],\n",
              "        [-0.05908628, -0.3306269 , -0.17722315,  0.07346805, -0.20861812,\n",
              "         -0.09229501, -0.10389338,  0.15693656,  0.19332337, -0.3581261 ],\n",
              "        [ 0.18277247, -0.04112191,  0.33476943, -0.41939592, -0.10930558,\n",
              "         -0.04182874, -0.58380836,  0.21546999, -0.08797228, -0.24620849],\n",
              "        [-0.08063903,  0.15781552, -0.14362152,  0.0980588 , -0.5418881 ,\n",
              "         -1.0171942 , -0.10562234,  0.35461783,  0.18824317,  0.824453  ]],\n",
              "       dtype=float32),\n",
              " array([-0.01169931,  0.05667252,  0.11278071, -0.05071525,  0.02285393,\n",
              "         0.08999226, -0.04256679,  0.00556818,  0.01162924, -0.01072778],\n",
              "       dtype=float32),\n",
              " array([[ 0.13778761, -0.49065945,  0.14380051,  0.29743418,  0.34657115,\n",
              "          0.36095452,  0.20876902,  0.01390173, -0.01234603,  0.23780571],\n",
              "        [ 0.42416972, -0.80185026, -0.09016592, -0.7170547 , -0.38423756,\n",
              "          0.14110774, -0.09610414,  0.25620472,  0.3924375 , -0.0091399 ],\n",
              "        [ 0.36538932, -0.33706933, -0.08671018, -0.5659539 , -0.43214375,\n",
              "         -0.02330597,  0.14762087,  0.02875491,  0.15337384,  0.3437497 ],\n",
              "        [-0.14467475,  0.6051395 ,  0.10431126,  0.2776638 ,  0.06196362,\n",
              "          0.20853838, -0.25153857,  0.05388846, -0.38137224, -0.08587909],\n",
              "        [-0.18824984,  0.18068281, -0.25467426,  0.2711523 , -0.12800841,\n",
              "         -0.30024275,  0.08019442,  0.09974374, -0.06088674, -0.02680902],\n",
              "        [-0.22582307, -0.0812353 ,  0.01109727, -0.25465205, -0.2324636 ,\n",
              "         -0.33473408, -0.3270301 , -0.02092245, -0.4241099 , -0.07143727],\n",
              "        [-0.15946764,  0.51825905,  0.25689566, -0.00285804,  0.61212176,\n",
              "          0.12033028, -0.313243  , -0.22822224, -0.30759254,  0.32002923],\n",
              "        [-0.14329018, -0.19375248, -0.01637754,  0.05840239, -0.22434288,\n",
              "          0.36179346,  0.4564178 , -0.64770883, -0.09359814,  0.05162336],\n",
              "        [ 0.4594462 ,  0.6505935 ,  0.52879596,  0.26480752,  0.05388505,\n",
              "          0.39413118,  0.00711539,  0.38473418, -0.12659673, -0.24157186],\n",
              "        [ 0.2578038 ,  0.3908744 , -0.3165574 , -0.05431212, -0.07173964,\n",
              "          0.1690542 ,  0.13074234, -0.27606633,  0.47247955, -0.05580864]],\n",
              "       dtype=float32),\n",
              " array([ 0.014208  , -0.05837283,  0.04332604, -0.08525297, -0.10163637,\n",
              "        -0.03073668,  0.00167843,  0.03572951, -0.00056087,  0.03445157],\n",
              "       dtype=float32),\n",
              " array([[ 0.21094714,  0.49866086,  0.72640836,  0.41427502,  0.6147325 ,\n",
              "          0.14593199,  0.24930996, -0.0444694 ,  0.37448627,  0.13170476],\n",
              "        [ 0.4905053 , -0.04422132, -0.6715496 , -0.20876499,  0.19417472,\n",
              "         -0.19829941,  0.2873436 ,  0.19819157,  0.2532532 ,  0.08840653],\n",
              "        [-0.07921251, -0.35925674,  0.38814372,  0.07050948, -0.44399634,\n",
              "         -0.19690166,  0.5081027 ,  0.03966418,  0.5220081 , -0.25946212],\n",
              "        [-0.03247311, -0.2249839 , -0.11713804, -0.49577206,  0.16823617,\n",
              "         -0.5811216 ,  0.29431346,  0.20920858, -0.2956288 , -0.09468117],\n",
              "        [ 0.24965194, -0.02267808, -0.27492708, -0.5506064 ,  0.5207329 ,\n",
              "          0.33153123,  0.2634934 , -0.5630535 ,  0.3425019 , -0.36628294],\n",
              "        [ 0.29863313,  0.23789425, -0.14858267,  0.25644565,  0.5353448 ,\n",
              "          0.01449858, -0.27180502,  0.3078985 ,  0.01759035,  0.01934503],\n",
              "        [ 0.02567873,  0.2390099 ,  0.02127941,  0.3921372 ,  0.41334176,\n",
              "          0.45265925, -0.12571198, -0.5002142 , -0.55649334, -0.03102459],\n",
              "        [ 0.02194883,  0.05399416, -0.4281602 ,  0.08784439, -0.56448257,\n",
              "         -0.03158836, -0.29808936,  0.37775174,  0.06447267,  0.3915165 ],\n",
              "        [-0.5717919 ,  0.07407966,  0.473808  ,  0.37150955,  0.34031785,\n",
              "         -0.01452078, -0.38427338, -0.5290166 , -0.5753364 ,  0.22564831],\n",
              "        [-0.25622964, -0.03230852, -0.2963316 ,  0.24196918, -0.9194559 ,\n",
              "          0.23687342, -0.28850737,  0.29089156, -0.35102707, -0.10645182]],\n",
              "       dtype=float32),\n",
              " array([ 0.03136028, -0.00618331,  0.04555076,  0.0596993 , -0.03854569,\n",
              "        -0.02090009,  0.01442743,  0.0483395 ,  0.01932552, -0.04493035],\n",
              "       dtype=float32),\n",
              " array([[ 0.7053314 ],\n",
              "        [-0.89811563],\n",
              "        [-0.2580397 ],\n",
              "        [-0.22721076],\n",
              "        [-0.9880786 ],\n",
              "        [-0.15496412],\n",
              "        [ 0.13033898],\n",
              "        [ 0.16102149],\n",
              "        [ 0.1527713 ],\n",
              "        [-0.04003417]], dtype=float32),\n",
              " array([0.04429616], dtype=float32)]"
            ]
          },
          "metadata": {},
          "execution_count": 39
        }
      ]
    },
    {
      "cell_type": "code",
      "source": [
        "from mlxtend.plotting import plot_decision_regions\n",
        "plot_decision_regions(X,Y.astype('int'), clf=model, legend=2)"
      ],
      "metadata": {
        "id": "ReGzul9k_ad_",
        "colab": {
          "base_uri": "https://localhost:8080/",
          "height": 465
        },
        "outputId": "2e97c592-e208-4c0e-9bd8-f3a5854420fb"
      },
      "execution_count": 41,
      "outputs": [
        {
          "output_type": "stream",
          "name": "stdout",
          "text": [
            "9600/9600 [==============================] - 17s 2ms/step\n"
          ]
        },
        {
          "output_type": "execute_result",
          "data": {
            "text/plain": [
              "<Axes: >"
            ]
          },
          "metadata": {},
          "execution_count": 41
        },
        {
          "output_type": "display_data",
          "data": {
            "text/plain": [
              "<Figure size 640x480 with 1 Axes>"
            ],
            "image/png": "[encoded data removed]"
          },
          "metadata": {}
        }
      ]
    },
    {
      "cell_type": "markdown",
      "source": [
        "# tanh activation function"
      ],
      "metadata": {
        "id": "cv-E2xPJ_qL6"
      }
    },
    {
      "cell_type": "code",
      "source": [
        "model = Sequential()\n",
        "\n",
        "model.add(Dense(2,activation='tanh', input_dim=2))\n",
        "model.add(Dense(1,activation='sigmoid'))\n",
        "\n",
        "model.summary()"
      ],
      "metadata": {
        "colab": {
          "base_uri": "https://localhost:8080/"
        },
        "id": "TO0XenFC_0T-",
        "outputId": "3f45bb9e-eaa5-46c3-b10d-14d286abb83e"
      },
      "execution_count": 17,
      "outputs": [
        {
          "output_type": "stream",
          "name": "stdout",
          "text": [
            "Model: \"sequential_1\"\n",
            "_________________________________________________________________\n",
            " Layer (type)                Output Shape              Param #   \n",
            "=================================================================\n",
            " dense_5 (Dense)             (None, 2)                 6         \n",
            "                                                                 \n",
            " dense_6 (Dense)             (None, 1)                 3         \n",
            "                                                                 \n",
            "=================================================================\n",
            "Total params: 9\n",
            "Trainable params: 9\n",
            "Non-trainable params: 0\n",
            "_________________________________________________________________\n"
          ]
        }
      ]
    },
    {
      "cell_type": "code",
      "source": [
        "model.get_weights()"
      ],
      "metadata": {
        "colab": {
          "base_uri": "https://localhost:8080/"
        },
        "id": "kjuGIcHz_-5F",
        "outputId": "682bc414-7b1c-4273-a3b7-395d6d20dcd4"
      },
      "execution_count": 18,
      "outputs": [
        {
          "output_type": "execute_result",
          "data": {
            "text/plain": [
              "[array([[ 0.43617964,  0.05147207],\n",
              "        [ 0.1978854 , -0.9127648 ]], dtype=float32),\n",
              " array([0., 0.], dtype=float32),\n",
              " array([[1.2848436],\n",
              "        [1.2044693]], dtype=float32),\n",
              " array([0.], dtype=float32)]"
            ]
          },
          "metadata": {},
          "execution_count": 18
        }
      ]
    },
    {
      "cell_type": "code",
      "source": [
        "initial_weights = model.get_weights()"
      ],
      "metadata": {
        "id": "-BOfJP4B__yK"
      },
      "execution_count": 19,
      "outputs": []
    },
    {
      "cell_type": "code",
      "source": [
        "# initial_weights[0] = np.zeros(model.get_weights()[0].shape)\n",
        "# initial_weights[1] = np.zeros(model.get_weights()[1].shape)\n",
        "# initial_weights[2] = np.zeros(model.get_weights()[2].shape)\n",
        "# initial_weights[3] = np.zeros(model.get_weights()[3].shape)\n",
        "initial_weights[0] = np.ones(model.get_weights()[0].shape)*0.5\n",
        "initial_weights[1] = np.ones(model.get_weights()[1].shape)*0.5\n",
        "initial_weights[2] = np.ones(model.get_weights()[2].shape)*0.5\n",
        "initial_weights[3] = np.ones(model.get_weights()[3].shape)*0.5"
      ],
      "metadata": {
        "id": "WXpTFw0EAD6M"
      },
      "execution_count": 20,
      "outputs": []
    },
    {
      "cell_type": "code",
      "source": [
        "model.set_weights(initial_weights)"
      ],
      "metadata": {
        "id": "cVS-POJ1AIpp"
      },
      "execution_count": 21,
      "outputs": []
    },
    {
      "cell_type": "code",
      "source": [
        "model.get_weights()"
      ],
      "metadata": {
        "colab": {
          "base_uri": "https://localhost:8080/"
        },
        "id": "RbhEvLsaANSw",
        "outputId": "8e986e93-ecba-41a9-efa0-f84f0b3a67d6"
      },
      "execution_count": 22,
      "outputs": [
        {
          "output_type": "execute_result",
          "data": {
            "text/plain": [
              "[array([[0.5, 0.5],\n",
              "        [0.5, 0.5]], dtype=float32),\n",
              " array([0.5, 0.5], dtype=float32),\n",
              " array([[0.5],\n",
              "        [0.5]], dtype=float32),\n",
              " array([0.5], dtype=float32)]"
            ]
          },
          "metadata": {},
          "execution_count": 22
        }
      ]
    },
    {
      "cell_type": "code",
      "source": [
        "model.compile(loss='binary_crossentropy', optimizer='adam', metrics=['accuracy'])"
      ],
      "metadata": {
        "id": "O2bJKoiJASC2"
      },
      "execution_count": 23,
      "outputs": []
    },
    {
      "cell_type": "code",
      "source": [
        "history= model.fit(X,Y,epochs=100, validation_split=0.2)"
      ],
      "metadata": {
        "colab": {
          "base_uri": "https://localhost:8080/"
        },
        "id": "XbhGwVgNAW-7",
        "outputId": "d93c4f5a-fd57-4201-f2d9-b808998a290f"
      },
      "execution_count": 24,
      "outputs": [
        {
          "output_type": "stream",
          "name": "stdout",
          "text": [
            "Epoch 1/100\n",
            "3/3 [==============================] - 1s 107ms/step - loss: 0.8525 - accuracy: 0.5000 - val_loss: 0.7754 - val_accuracy: 0.5000\n",
            "Epoch 2/100\n",
            "3/3 [==============================] - 0s 19ms/step - loss: 0.8497 - accuracy: 0.5000 - val_loss: 0.7729 - val_accuracy: 0.5000\n",
            "Epoch 3/100\n",
            "3/3 [==============================] - 0s 29ms/step - loss: 0.8473 - accuracy: 0.5000 - val_loss: 0.7704 - val_accuracy: 0.5000\n",
            "Epoch 4/100\n",
            "3/3 [==============================] - 0s 21ms/step - loss: 0.8447 - accuracy: 0.5000 - val_loss: 0.7679 - val_accuracy: 0.5000\n",
            "Epoch 5/100\n",
            "3/3 [==============================] - 0s 18ms/step - loss: 0.8421 - accuracy: 0.5000 - val_loss: 0.7654 - val_accuracy: 0.5000\n",
            "Epoch 6/100\n",
            "3/3 [==============================] - 0s 20ms/step - loss: 0.8397 - accuracy: 0.5000 - val_loss: 0.7630 - val_accuracy: 0.5000\n",
            "Epoch 7/100\n",
            "3/3 [==============================] - 0s 18ms/step - loss: 0.8373 - accuracy: 0.5000 - val_loss: 0.7606 - val_accuracy: 0.5000\n",
            "Epoch 8/100\n",
            "3/3 [==============================] - 0s 22ms/step - loss: 0.8349 - accuracy: 0.5000 - val_loss: 0.7582 - val_accuracy: 0.5000\n",
            "Epoch 9/100\n",
            "3/3 [==============================] - 0s 28ms/step - loss: 0.8323 - accuracy: 0.5000 - val_loss: 0.7559 - val_accuracy: 0.5000\n",
            "Epoch 10/100\n",
            "3/3 [==============================] - 0s 31ms/step - loss: 0.8299 - accuracy: 0.5000 - val_loss: 0.7536 - val_accuracy: 0.5000\n",
            "Epoch 11/100\n",
            "3/3 [==============================] - 0s 18ms/step - loss: 0.8276 - accuracy: 0.5000 - val_loss: 0.7513 - val_accuracy: 0.5000\n",
            "Epoch 12/100\n",
            "3/3 [==============================] - 0s 28ms/step - loss: 0.8253 - accuracy: 0.5000 - val_loss: 0.7491 - val_accuracy: 0.5000\n",
            "Epoch 13/100\n",
            "3/3 [==============================] - 0s 21ms/step - loss: 0.8228 - accuracy: 0.5000 - val_loss: 0.7469 - val_accuracy: 0.5000\n",
            "Epoch 14/100\n",
            "3/3 [==============================] - 0s 20ms/step - loss: 0.8205 - accuracy: 0.5000 - val_loss: 0.7447 - val_accuracy: 0.5000\n",
            "Epoch 15/100\n",
            "3/3 [==============================] - 0s 20ms/step - loss: 0.8184 - accuracy: 0.5000 - val_loss: 0.7425 - val_accuracy: 0.5000\n",
            "Epoch 16/100\n",
            "3/3 [==============================] - 0s 20ms/step - loss: 0.8162 - accuracy: 0.5000 - val_loss: 0.7404 - val_accuracy: 0.5000\n",
            "Epoch 17/100\n",
            "3/3 [==============================] - 0s 27ms/step - loss: 0.8139 - accuracy: 0.5000 - val_loss: 0.7384 - val_accuracy: 0.5000\n",
            "Epoch 18/100\n",
            "3/3 [==============================] - 0s 19ms/step - loss: 0.8119 - accuracy: 0.5000 - val_loss: 0.7363 - val_accuracy: 0.5000\n",
            "Epoch 19/100\n",
            "3/3 [==============================] - 0s 29ms/step - loss: 0.8095 - accuracy: 0.5000 - val_loss: 0.7343 - val_accuracy: 0.5000\n",
            "Epoch 20/100\n",
            "3/3 [==============================] - 0s 17ms/step - loss: 0.8075 - accuracy: 0.5000 - val_loss: 0.7323 - val_accuracy: 0.5000\n",
            "Epoch 21/100\n",
            "3/3 [==============================] - 0s 28ms/step - loss: 0.8054 - accuracy: 0.5000 - val_loss: 0.7303 - val_accuracy: 0.5000\n",
            "Epoch 22/100\n",
            "3/3 [==============================] - 0s 21ms/step - loss: 0.8034 - accuracy: 0.5000 - val_loss: 0.7284 - val_accuracy: 0.5000\n",
            "Epoch 23/100\n",
            "3/3 [==============================] - 0s 18ms/step - loss: 0.8011 - accuracy: 0.5000 - val_loss: 0.7265 - val_accuracy: 0.5000\n",
            "Epoch 24/100\n",
            "3/3 [==============================] - 0s 19ms/step - loss: 0.7992 - accuracy: 0.5000 - val_loss: 0.7245 - val_accuracy: 0.5000\n",
            "Epoch 25/100\n",
            "3/3 [==============================] - 0s 18ms/step - loss: 0.7971 - accuracy: 0.5000 - val_loss: 0.7226 - val_accuracy: 0.5000\n",
            "Epoch 26/100\n",
            "3/3 [==============================] - 0s 19ms/step - loss: 0.7951 - accuracy: 0.5000 - val_loss: 0.7208 - val_accuracy: 0.5000\n",
            "Epoch 27/100\n",
            "3/3 [==============================] - 0s 19ms/step - loss: 0.7930 - accuracy: 0.5000 - val_loss: 0.7189 - val_accuracy: 0.5000\n",
            "Epoch 28/100\n",
            "3/3 [==============================] - 0s 21ms/step - loss: 0.7911 - accuracy: 0.5000 - val_loss: 0.7171 - val_accuracy: 0.5000\n",
            "Epoch 29/100\n",
            "3/3 [==============================] - 0s 18ms/step - loss: 0.7892 - accuracy: 0.5000 - val_loss: 0.7153 - val_accuracy: 0.5000\n",
            "Epoch 30/100\n",
            "3/3 [==============================] - 0s 19ms/step - loss: 0.7872 - accuracy: 0.5000 - val_loss: 0.7136 - val_accuracy: 0.5000\n",
            "Epoch 31/100\n",
            "3/3 [==============================] - 0s 27ms/step - loss: 0.7854 - accuracy: 0.5000 - val_loss: 0.7119 - val_accuracy: 0.5000\n",
            "Epoch 32/100\n",
            "3/3 [==============================] - 0s 29ms/step - loss: 0.7833 - accuracy: 0.5000 - val_loss: 0.7103 - val_accuracy: 0.5000\n",
            "Epoch 33/100\n",
            "3/3 [==============================] - 0s 18ms/step - loss: 0.7818 - accuracy: 0.5000 - val_loss: 0.7086 - val_accuracy: 0.5000\n",
            "Epoch 34/100\n",
            "3/3 [==============================] - 0s 18ms/step - loss: 0.7797 - accuracy: 0.5000 - val_loss: 0.7070 - val_accuracy: 0.5000\n",
            "Epoch 35/100\n",
            "3/3 [==============================] - 0s 19ms/step - loss: 0.7779 - accuracy: 0.5000 - val_loss: 0.7054 - val_accuracy: 0.5000\n",
            "Epoch 36/100\n",
            "3/3 [==============================] - 0s 19ms/step - loss: 0.7763 - accuracy: 0.5000 - val_loss: 0.7038 - val_accuracy: 0.5000\n",
            "Epoch 37/100\n",
            "3/3 [==============================] - 0s 24ms/step - loss: 0.7744 - accuracy: 0.5000 - val_loss: 0.7022 - val_accuracy: 0.5000\n",
            "Epoch 38/100\n",
            "3/3 [==============================] - 0s 20ms/step - loss: 0.7728 - accuracy: 0.5000 - val_loss: 0.7007 - val_accuracy: 0.5000\n",
            "Epoch 39/100\n",
            "3/3 [==============================] - 0s 27ms/step - loss: 0.7708 - accuracy: 0.5000 - val_loss: 0.6993 - val_accuracy: 0.5000\n",
            "Epoch 40/100\n",
            "3/3 [==============================] - 0s 20ms/step - loss: 0.7694 - accuracy: 0.5000 - val_loss: 0.6978 - val_accuracy: 0.5000\n",
            "Epoch 41/100\n",
            "3/3 [==============================] - 0s 18ms/step - loss: 0.7676 - accuracy: 0.5000 - val_loss: 0.6964 - val_accuracy: 0.5000\n",
            "Epoch 42/100\n",
            "3/3 [==============================] - 0s 17ms/step - loss: 0.7660 - accuracy: 0.5000 - val_loss: 0.6950 - val_accuracy: 0.5000\n",
            "Epoch 43/100\n",
            "3/3 [==============================] - 0s 19ms/step - loss: 0.7644 - accuracy: 0.5000 - val_loss: 0.6937 - val_accuracy: 0.5000\n",
            "Epoch 44/100\n",
            "3/3 [==============================] - 0s 18ms/step - loss: 0.7629 - accuracy: 0.5000 - val_loss: 0.6923 - val_accuracy: 0.5000\n",
            "Epoch 45/100\n",
            "3/3 [==============================] - 0s 18ms/step - loss: 0.7614 - accuracy: 0.5000 - val_loss: 0.6910 - val_accuracy: 0.5000\n",
            "Epoch 46/100\n",
            "3/3 [==============================] - 0s 27ms/step - loss: 0.7599 - accuracy: 0.5000 - val_loss: 0.6898 - val_accuracy: 0.5000\n",
            "Epoch 47/100\n",
            "3/3 [==============================] - 0s 21ms/step - loss: 0.7583 - accuracy: 0.5000 - val_loss: 0.6885 - val_accuracy: 0.5000\n",
            "Epoch 48/100\n",
            "3/3 [==============================] - 0s 19ms/step - loss: 0.7570 - accuracy: 0.5000 - val_loss: 0.6872 - val_accuracy: 0.5000\n",
            "Epoch 49/100\n",
            "3/3 [==============================] - 0s 22ms/step - loss: 0.7557 - accuracy: 0.5000 - val_loss: 0.6860 - val_accuracy: 0.5000\n",
            "Epoch 50/100\n",
            "3/3 [==============================] - 0s 24ms/step - loss: 0.7543 - accuracy: 0.5000 - val_loss: 0.6848 - val_accuracy: 0.5000\n",
            "Epoch 51/100\n",
            "3/3 [==============================] - 0s 19ms/step - loss: 0.7530 - accuracy: 0.5000 - val_loss: 0.6836 - val_accuracy: 0.5000\n",
            "Epoch 52/100\n",
            "3/3 [==============================] - 0s 18ms/step - loss: 0.7516 - accuracy: 0.5000 - val_loss: 0.6825 - val_accuracy: 0.5000\n",
            "Epoch 53/100\n",
            "3/3 [==============================] - 0s 19ms/step - loss: 0.7503 - accuracy: 0.5000 - val_loss: 0.6813 - val_accuracy: 0.5000\n",
            "Epoch 54/100\n",
            "3/3 [==============================] - 0s 21ms/step - loss: 0.7489 - accuracy: 0.5000 - val_loss: 0.6802 - val_accuracy: 0.5000\n",
            "Epoch 55/100\n",
            "3/3 [==============================] - 0s 20ms/step - loss: 0.7476 - accuracy: 0.5000 - val_loss: 0.6791 - val_accuracy: 0.5000\n",
            "Epoch 56/100\n",
            "3/3 [==============================] - 0s 28ms/step - loss: 0.7465 - accuracy: 0.5000 - val_loss: 0.6779 - val_accuracy: 0.5000\n",
            "Epoch 57/100\n",
            "3/3 [==============================] - 0s 18ms/step - loss: 0.7452 - accuracy: 0.5000 - val_loss: 0.6768 - val_accuracy: 0.5000\n",
            "Epoch 58/100\n",
            "3/3 [==============================] - 0s 20ms/step - loss: 0.7439 - accuracy: 0.5000 - val_loss: 0.6758 - val_accuracy: 0.5000\n",
            "Epoch 59/100\n",
            "3/3 [==============================] - 0s 20ms/step - loss: 0.7427 - accuracy: 0.5000 - val_loss: 0.6747 - val_accuracy: 0.5000\n",
            "Epoch 60/100\n",
            "3/3 [==============================] - 0s 23ms/step - loss: 0.7415 - accuracy: 0.5000 - val_loss: 0.6737 - val_accuracy: 0.5000\n",
            "Epoch 61/100\n",
            "3/3 [==============================] - 0s 19ms/step - loss: 0.7403 - accuracy: 0.5000 - val_loss: 0.6727 - val_accuracy: 0.5000\n",
            "Epoch 62/100\n",
            "3/3 [==============================] - 0s 20ms/step - loss: 0.7390 - accuracy: 0.5000 - val_loss: 0.6717 - val_accuracy: 0.5000\n",
            "Epoch 63/100\n",
            "3/3 [==============================] - 0s 18ms/step - loss: 0.7379 - accuracy: 0.5000 - val_loss: 0.6707 - val_accuracy: 0.5000\n",
            "Epoch 64/100\n",
            "3/3 [==============================] - 0s 18ms/step - loss: 0.7368 - accuracy: 0.5000 - val_loss: 0.6697 - val_accuracy: 0.5000\n",
            "Epoch 65/100\n",
            "3/3 [==============================] - 0s 19ms/step - loss: 0.7357 - accuracy: 0.5000 - val_loss: 0.6687 - val_accuracy: 0.5000\n",
            "Epoch 66/100\n",
            "3/3 [==============================] - 0s 20ms/step - loss: 0.7344 - accuracy: 0.5000 - val_loss: 0.6678 - val_accuracy: 0.5000\n",
            "Epoch 67/100\n",
            "3/3 [==============================] - 0s 17ms/step - loss: 0.7334 - accuracy: 0.5000 - val_loss: 0.6668 - val_accuracy: 0.5000\n",
            "Epoch 68/100\n",
            "3/3 [==============================] - 0s 28ms/step - loss: 0.7322 - accuracy: 0.5000 - val_loss: 0.6659 - val_accuracy: 0.5000\n",
            "Epoch 69/100\n",
            "3/3 [==============================] - 0s 24ms/step - loss: 0.7312 - accuracy: 0.5000 - val_loss: 0.6649 - val_accuracy: 0.5000\n",
            "Epoch 70/100\n",
            "3/3 [==============================] - 0s 19ms/step - loss: 0.7301 - accuracy: 0.5000 - val_loss: 0.6640 - val_accuracy: 0.5000\n",
            "Epoch 71/100\n",
            "3/3 [==============================] - 0s 21ms/step - loss: 0.7290 - accuracy: 0.5000 - val_loss: 0.6632 - val_accuracy: 0.5000\n",
            "Epoch 72/100\n",
            "3/3 [==============================] - 0s 20ms/step - loss: 0.7280 - accuracy: 0.5000 - val_loss: 0.6623 - val_accuracy: 0.5000\n",
            "Epoch 73/100\n",
            "3/3 [==============================] - 0s 19ms/step - loss: 0.7270 - accuracy: 0.5000 - val_loss: 0.6615 - val_accuracy: 0.5000\n",
            "Epoch 74/100\n",
            "3/3 [==============================] - 0s 19ms/step - loss: 0.7259 - accuracy: 0.5000 - val_loss: 0.6607 - val_accuracy: 0.5500\n",
            "Epoch 75/100\n",
            "3/3 [==============================] - 0s 27ms/step - loss: 0.7250 - accuracy: 0.5000 - val_loss: 0.6599 - val_accuracy: 0.5500\n",
            "Epoch 76/100\n",
            "3/3 [==============================] - 0s 21ms/step - loss: 0.7240 - accuracy: 0.5000 - val_loss: 0.6591 - val_accuracy: 0.5500\n",
            "Epoch 77/100\n",
            "3/3 [==============================] - 0s 18ms/step - loss: 0.7230 - accuracy: 0.5000 - val_loss: 0.6583 - val_accuracy: 0.5500\n",
            "Epoch 78/100\n",
            "3/3 [==============================] - 0s 20ms/step - loss: 0.7221 - accuracy: 0.5000 - val_loss: 0.6575 - val_accuracy: 0.5500\n",
            "Epoch 79/100\n",
            "3/3 [==============================] - 0s 18ms/step - loss: 0.7211 - accuracy: 0.5000 - val_loss: 0.6568 - val_accuracy: 0.5500\n",
            "Epoch 80/100\n",
            "3/3 [==============================] - 0s 17ms/step - loss: 0.7202 - accuracy: 0.5000 - val_loss: 0.6560 - val_accuracy: 0.5500\n",
            "Epoch 81/100\n",
            "3/3 [==============================] - 0s 18ms/step - loss: 0.7193 - accuracy: 0.5000 - val_loss: 0.6552 - val_accuracy: 0.6000\n",
            "Epoch 82/100\n",
            "3/3 [==============================] - 0s 18ms/step - loss: 0.7184 - accuracy: 0.5000 - val_loss: 0.6544 - val_accuracy: 0.6000\n",
            "Epoch 83/100\n",
            "3/3 [==============================] - 0s 20ms/step - loss: 0.7174 - accuracy: 0.5000 - val_loss: 0.6537 - val_accuracy: 0.6000\n",
            "Epoch 84/100\n",
            "3/3 [==============================] - 0s 18ms/step - loss: 0.7166 - accuracy: 0.5000 - val_loss: 0.6529 - val_accuracy: 0.6000\n",
            "Epoch 85/100\n",
            "3/3 [==============================] - 0s 19ms/step - loss: 0.7157 - accuracy: 0.5000 - val_loss: 0.6522 - val_accuracy: 0.6000\n",
            "Epoch 86/100\n",
            "3/3 [==============================] - 0s 18ms/step - loss: 0.7148 - accuracy: 0.5000 - val_loss: 0.6515 - val_accuracy: 0.6000\n",
            "Epoch 87/100\n",
            "3/3 [==============================] - 0s 18ms/step - loss: 0.7140 - accuracy: 0.5000 - val_loss: 0.6508 - val_accuracy: 0.6500\n",
            "Epoch 88/100\n",
            "3/3 [==============================] - 0s 18ms/step - loss: 0.7132 - accuracy: 0.5000 - val_loss: 0.6501 - val_accuracy: 0.6500\n",
            "Epoch 89/100\n",
            "3/3 [==============================] - 0s 27ms/step - loss: 0.7123 - accuracy: 0.5000 - val_loss: 0.6494 - val_accuracy: 0.6500\n",
            "Epoch 90/100\n",
            "3/3 [==============================] - 0s 19ms/step - loss: 0.7114 - accuracy: 0.5000 - val_loss: 0.6487 - val_accuracy: 0.6500\n",
            "Epoch 91/100\n",
            "3/3 [==============================] - 0s 19ms/step - loss: 0.7106 - accuracy: 0.5000 - val_loss: 0.6481 - val_accuracy: 0.6500\n",
            "Epoch 92/100\n",
            "3/3 [==============================] - 0s 28ms/step - loss: 0.7098 - accuracy: 0.5000 - val_loss: 0.6474 - val_accuracy: 0.6500\n",
            "Epoch 93/100\n",
            "3/3 [==============================] - 0s 20ms/step - loss: 0.7089 - accuracy: 0.5000 - val_loss: 0.6468 - val_accuracy: 0.6500\n",
            "Epoch 94/100\n",
            "3/3 [==============================] - 0s 28ms/step - loss: 0.7081 - accuracy: 0.5000 - val_loss: 0.6462 - val_accuracy: 0.6500\n",
            "Epoch 95/100\n",
            "3/3 [==============================] - 0s 31ms/step - loss: 0.7073 - accuracy: 0.5000 - val_loss: 0.6455 - val_accuracy: 0.6500\n",
            "Epoch 96/100\n",
            "3/3 [==============================] - 0s 20ms/step - loss: 0.7066 - accuracy: 0.5125 - val_loss: 0.6449 - val_accuracy: 0.6500\n",
            "Epoch 97/100\n",
            "3/3 [==============================] - 0s 18ms/step - loss: 0.7057 - accuracy: 0.5125 - val_loss: 0.6443 - val_accuracy: 0.6500\n",
            "Epoch 98/100\n",
            "3/3 [==============================] - 0s 20ms/step - loss: 0.7051 - accuracy: 0.5125 - val_loss: 0.6437 - val_accuracy: 0.6500\n",
            "Epoch 99/100\n",
            "3/3 [==============================] - 0s 19ms/step - loss: 0.7043 - accuracy: 0.5125 - val_loss: 0.6431 - val_accuracy: 0.6500\n",
            "Epoch 100/100\n",
            "3/3 [==============================] - 0s 20ms/step - loss: 0.7036 - accuracy: 0.5125 - val_loss: 0.6425 - val_accuracy: 0.6500\n"
          ]
        }
      ]
    },
    {
      "cell_type": "code",
      "source": [
        "model.get_weights()"
      ],
      "metadata": {
        "colab": {
          "base_uri": "https://localhost:8080/"
        },
        "id": "NS2dXICNAcDi",
        "outputId": "a21927ed-787b-4d24-e2aa-f2bc39e64787"
      },
      "execution_count": 25,
      "outputs": [
        {
          "output_type": "execute_result",
          "data": {
            "text/plain": [
              "[array([[0.7198183 , 0.7198183 ],\n",
              "        [0.22318238, 0.22318238]], dtype=float32),\n",
              " array([0.25622424, 0.25622424], dtype=float32),\n",
              " array([[0.30006537],\n",
              "        [0.30006537]], dtype=float32),\n",
              " array([0.25330284], dtype=float32)]"
            ]
          },
          "metadata": {},
          "execution_count": 25
        }
      ]
    },
    {
      "cell_type": "code",
      "source": [],
      "metadata": {
        "id": "ws2gCxxkAmcH"
      },
      "execution_count": 25,
      "outputs": []
    }
  ]
}