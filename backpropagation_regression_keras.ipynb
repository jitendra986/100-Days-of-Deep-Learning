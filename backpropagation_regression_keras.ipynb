{
  "nbformat": 4,
  "nbformat_minor": 0,
  "metadata": {
    "colab": {
      "provenance": [],
      "authorship_tag": "ABX9TyMs3h+75iN6qLk0yW7vGzJS",
      "include_colab_link": true
    },
    "kernelspec": {
      "name": "python3",
      "display_name": "Python 3"
    },
    "language_info": {
      "name": "python"
    }
  },
  "cells": [
    {
      "cell_type": "markdown",
      "metadata": {
        "id": "view-in-github",
        "colab_type": "text"
      },
      "source": [
        "<a href=\"https://colab.research.google.com/github/jitendra986/100-Days-of-Deep-Learning/blob/main/backpropagation_regression_keras.ipynb\" target=\"_parent\"><img src=\"https://colab.research.google.com/assets/colab-badge.svg\" alt=\"Open In Colab\"/></a>"
      ]
    },
    {
      "cell_type": "code",
      "execution_count": 1,
      "metadata": {
        "id": "2R3VAmy7AH1W"
      },
      "outputs": [],
      "source": [
        "import numpy as np\n",
        "import pandas as pd"
      ]
    },
    {
      "cell_type": "code",
      "source": [
        "df = pd.DataFrame([[8,8,4],[7,9,5],[6,10,6],[5,12,7]], columns=['cgpa','profile_score','lpa'])"
      ],
      "metadata": {
        "id": "psShD9HvBKfH"
      },
      "execution_count": 2,
      "outputs": []
    },
    {
      "cell_type": "code",
      "source": [
        "df\n",
        "\n"
      ],
      "metadata": {
        "colab": {
          "base_uri": "https://localhost:8080/",
          "height": 175
        },
        "id": "HcRVM5S_BLwT",
        "outputId": "28eb2544-a465-4806-bc95-a84fba4aa4d6"
      },
      "execution_count": 3,
      "outputs": [
        {
          "output_type": "execute_result",
          "data": {
            "text/plain": [
              "   cgpa  profile_score  lpa\n",
              "0     8              8    4\n",
              "1     7              9    5\n",
              "2     6             10    6\n",
              "3     5             12    7"
            ],
            "text/html": [
              "\n",
              "  <div id=\"df-921526b0-5a00-4afa-9036-54a0e1511599\">\n",
              "    <div class=\"colab-df-container\">\n",
              "      <div>\n",
              "<style scoped>\n",
              "    .dataframe tbody tr th:only-of-type {\n",
              "        vertical-align: middle;\n",
              "    }\n",
              "\n",
              "    .dataframe tbody tr th {\n",
              "        vertical-align: top;\n",
              "    }\n",
              "\n",
              "    .dataframe thead th {\n",
              "        text-align: right;\n",
              "    }\n",
              "</style>\n",
              "<table border=\"1\" class=\"dataframe\">\n",
              "  <thead>\n",
              "    <tr style=\"text-align: right;\">\n",
              "      <th></th>\n",
              "      <th>cgpa</th>\n",
              "      <th>profile_score</th>\n",
              "      <th>lpa</th>\n",
              "    </tr>\n",
              "  </thead>\n",
              "  <tbody>\n",
              "    <tr>\n",
              "      <th>0</th>\n",
              "      <td>8</td>\n",
              "      <td>8</td>\n",
              "      <td>4</td>\n",
              "    </tr>\n",
              "    <tr>\n",
              "      <th>1</th>\n",
              "      <td>7</td>\n",
              "      <td>9</td>\n",
              "      <td>5</td>\n",
              "    </tr>\n",
              "    <tr>\n",
              "      <th>2</th>\n",
              "      <td>6</td>\n",
              "      <td>10</td>\n",
              "      <td>6</td>\n",
              "    </tr>\n",
              "    <tr>\n",
              "      <th>3</th>\n",
              "      <td>5</td>\n",
              "      <td>12</td>\n",
              "      <td>7</td>\n",
              "    </tr>\n",
              "  </tbody>\n",
              "</table>\n",
              "</div>\n",
              "      <button class=\"colab-df-convert\" onclick=\"convertToInteractive('df-921526b0-5a00-4afa-9036-54a0e1511599')\"\n",
              "              title=\"Convert this dataframe to an interactive table.\"\n",
              "              style=\"display:none;\">\n",
              "        \n",
              "  <svg xmlns=\"http://www.w3.org/2000/svg\" height=\"24px\"viewBox=\"0 0 24 24\"\n",
              "       width=\"24px\">\n",
              "    <path d=\"M0 0h24v24H0V0z\" fill=\"none\"/>\n",
              "    <path d=\"M18.56 5.44l.94 2.06.94-2.06 2.06-.94-2.06-.94-.94-2.06-.94 2.06-2.06.94zm-11 1L8.5 8.5l.94-2.06 2.06-.94-2.06-.94L8.5 2.5l-.94 2.06-2.06.94zm10 10l.94 2.06.94-2.06 2.06-.94-2.06-.94-.94-2.06-.94 2.06-2.06.94z\"/><path d=\"M17.41 7.96l-1.37-1.37c-.4-.4-.92-.59-1.43-.59-.52 0-1.04.2-1.43.59L10.3 9.45l-7.72 7.72c-.78.78-.78 2.05 0 2.83L4 21.41c.39.39.9.59 1.41.59.51 0 1.02-.2 1.41-.59l7.78-7.78 2.81-2.81c.8-.78.8-2.07 0-2.86zM5.41 20L4 18.59l7.72-7.72 1.47 1.35L5.41 20z\"/>\n",
              "  </svg>\n",
              "      </button>\n",
              "      \n",
              "  <style>\n",
              "    .colab-df-container {\n",
              "      display:flex;\n",
              "      flex-wrap:wrap;\n",
              "      gap: 12px;\n",
              "    }\n",
              "\n",
              "    .colab-df-convert {\n",
              "      background-color: #E8F0FE;\n",
              "      border: none;\n",
              "      border-radius: 50%;\n",
              "      cursor: pointer;\n",
              "      display: none;\n",
              "      fill: #1967D2;\n",
              "      height: 32px;\n",
              "      padding: 0 0 0 0;\n",
              "      width: 32px;\n",
              "    }\n",
              "\n",
              "    .colab-df-convert:hover {\n",
              "      background-color: #E2EBFA;\n",
              "      box-shadow: 0px 1px 2px rgba(60, 64, 67, 0.3), 0px 1px 3px 1px rgba(60, 64, 67, 0.15);\n",
              "      fill: #174EA6;\n",
              "    }\n",
              "\n",
              "    [theme=dark] .colab-df-convert {\n",
              "      background-color: #3B4455;\n",
              "      fill: #D2E3FC;\n",
              "    }\n",
              "\n",
              "    [theme=dark] .colab-df-convert:hover {\n",
              "      background-color: #434B5C;\n",
              "      box-shadow: 0px 1px 3px 1px rgba(0, 0, 0, 0.15);\n",
              "      filter: drop-shadow(0px 1px 2px rgba(0, 0, 0, 0.3));\n",
              "      fill: #FFFFFF;\n",
              "    }\n",
              "  </style>\n",
              "\n",
              "      <script>\n",
              "        const buttonEl =\n",
              "          document.querySelector('#df-921526b0-5a00-4afa-9036-54a0e1511599 button.colab-df-convert');\n",
              "        buttonEl.style.display =\n",
              "          google.colab.kernel.accessAllowed ? 'block' : 'none';\n",
              "\n",
              "        async function convertToInteractive(key) {\n",
              "          const element = document.querySelector('#df-921526b0-5a00-4afa-9036-54a0e1511599');\n",
              "          const dataTable =\n",
              "            await google.colab.kernel.invokeFunction('convertToInteractive',\n",
              "                                                     [key], {});\n",
              "          if (!dataTable) return;\n",
              "\n",
              "          const docLinkHtml = 'Like what you see? Visit the ' +\n",
              "            '<a target=\"_blank\" href=https://colab.research.google.com/notebooks/data_table.ipynb>data table notebook</a>'\n",
              "            + ' to learn more about interactive tables.';\n",
              "          element.innerHTML = '';\n",
              "          dataTable['output_type'] = 'display_data';\n",
              "          await google.colab.output.renderOutput(dataTable, element);\n",
              "          const docLink = document.createElement('div');\n",
              "          docLink.innerHTML = docLinkHtml;\n",
              "          element.appendChild(docLink);\n",
              "        }\n",
              "      </script>\n",
              "    </div>\n",
              "  </div>\n",
              "  "
            ]
          },
          "metadata": {},
          "execution_count": 3
        }
      ]
    },
    {
      "cell_type": "code",
      "source": [
        "import tensorflow\n",
        "from tensorflow import keras\n",
        "from keras import Sequential\n",
        "from keras.layers import Dense"
      ],
      "metadata": {
        "id": "tQPDbqX9BRHK"
      },
      "execution_count": 4,
      "outputs": []
    },
    {
      "cell_type": "code",
      "source": [
        "model = Sequential()\n",
        "\n",
        "model.add(Dense(2,activation='linear', input_dim=2)) # hidden 2 units\n",
        "model.add(Dense(1,activation='linear')) # hidden 1 units"
      ],
      "metadata": {
        "id": "KpyY_eBPBovE"
      },
      "execution_count": 5,
      "outputs": []
    },
    {
      "cell_type": "code",
      "source": [
        "model.summary()"
      ],
      "metadata": {
        "colab": {
          "base_uri": "https://localhost:8080/"
        },
        "id": "izE7Wdc2CDMR",
        "outputId": "8274a773-1de9-416d-e675-4453079e1492"
      },
      "execution_count": 6,
      "outputs": [
        {
          "output_type": "stream",
          "name": "stdout",
          "text": [
            "Model: \"sequential\"\n",
            "_________________________________________________________________\n",
            " Layer (type)                Output Shape              Param #   \n",
            "=================================================================\n",
            " dense (Dense)               (None, 2)                 6         \n",
            "                                                                 \n",
            " dense_1 (Dense)             (None, 1)                 3         \n",
            "                                                                 \n",
            "=================================================================\n",
            "Total params: 9\n",
            "Trainable params: 9\n",
            "Non-trainable params: 0\n",
            "_________________________________________________________________\n"
          ]
        }
      ]
    },
    {
      "cell_type": "code",
      "source": [
        "model.get_weights()"
      ],
      "metadata": {
        "colab": {
          "base_uri": "https://localhost:8080/"
        },
        "id": "KvRYHL45CGJ3",
        "outputId": "828210e4-a1d7-41c7-f7a1-d5c7a8472064"
      },
      "execution_count": 7,
      "outputs": [
        {
          "output_type": "execute_result",
          "data": {
            "text/plain": [
              "[array([[-0.47345573,  0.65609396],\n",
              "        [-0.2835009 , -1.1603199 ]], dtype=float32),\n",
              " array([0., 0.], dtype=float32),\n",
              " array([[ 0.3165387 ],\n",
              "        [-0.29715824]], dtype=float32),\n",
              " array([0.], dtype=float32)]"
            ]
          },
          "metadata": {},
          "execution_count": 7
        }
      ]
    },
    {
      "cell_type": "code",
      "source": [
        "new_weights = [np.array([[0.1,0.1],[0.1,0.1]],dtype = np.float32),\n",
        "               np.array([0.,0.], dtype=np.float32),\n",
        "               np.array([[0.1],[0.1]], dtype=np.float32),\n",
        "               np.array([0.], dtype=np.float32)]"
      ],
      "metadata": {
        "id": "4zAGvwh2Cp-y"
      },
      "execution_count": 12,
      "outputs": []
    },
    {
      "cell_type": "code",
      "source": [
        "model.set_weights(new_weights)"
      ],
      "metadata": {
        "id": "kG-7GWMgT4tt"
      },
      "execution_count": 13,
      "outputs": []
    },
    {
      "cell_type": "code",
      "source": [
        "model.get_weights()"
      ],
      "metadata": {
        "colab": {
          "base_uri": "https://localhost:8080/"
        },
        "id": "kCHd45GxTsNI",
        "outputId": "045cefb6-77f6-471d-c51f-a989ec4e1fc5"
      },
      "execution_count": 14,
      "outputs": [
        {
          "output_type": "execute_result",
          "data": {
            "text/plain": [
              "[array([[0.1, 0.1],\n",
              "        [0.1, 0.1]], dtype=float32),\n",
              " array([0., 0.], dtype=float32),\n",
              " array([[0.1],\n",
              "        [0.1]], dtype=float32),\n",
              " array([0.], dtype=float32)]"
            ]
          },
          "metadata": {},
          "execution_count": 14
        }
      ]
    },
    {
      "cell_type": "code",
      "source": [
        "optimizer = keras.optimizers.Adam(learning_rate = 0.001)\n",
        "model.compile(loss='mean_squared_error', optimizer = optimizer)"
      ],
      "metadata": {
        "id": "3L1jdx4lT31S"
      },
      "execution_count": 16,
      "outputs": []
    },
    {
      "cell_type": "code",
      "source": [
        "model.fit(df.iloc[:,0:-1].values, df['lpa'].values, epochs=75,verbose=1,batch_size=1)"
      ],
      "metadata": {
        "colab": {
          "base_uri": "https://localhost:8080/"
        },
        "id": "TKOhUjjQTxCo",
        "outputId": "a98f7d5d-38ef-4e42-9c63-5dda082b271e"
      },
      "execution_count": 18,
      "outputs": [
        {
          "output_type": "stream",
          "name": "stdout",
          "text": [
            "Epoch 1/75\n",
            "4/4 [==============================] - 1s 150ms/step - loss: 27.8737\n",
            "Epoch 2/75\n",
            "4/4 [==============================] - 0s 5ms/step - loss: 27.5524\n",
            "Epoch 3/75\n",
            "4/4 [==============================] - 0s 3ms/step - loss: 27.2374\n",
            "Epoch 4/75\n",
            "4/4 [==============================] - 0s 4ms/step - loss: 26.8953\n",
            "Epoch 5/75\n",
            "4/4 [==============================] - 0s 4ms/step - loss: 26.5561\n",
            "Epoch 6/75\n",
            "4/4 [==============================] - 0s 6ms/step - loss: 26.1742\n",
            "Epoch 7/75\n",
            "4/4 [==============================] - 0s 5ms/step - loss: 25.8229\n",
            "Epoch 8/75\n",
            "4/4 [==============================] - 0s 4ms/step - loss: 25.4340\n",
            "Epoch 9/75\n",
            "4/4 [==============================] - 0s 4ms/step - loss: 25.0472\n",
            "Epoch 10/75\n",
            "4/4 [==============================] - 0s 4ms/step - loss: 24.6215\n",
            "Epoch 11/75\n",
            "4/4 [==============================] - 0s 5ms/step - loss: 24.2333\n",
            "Epoch 12/75\n",
            "4/4 [==============================] - 0s 4ms/step - loss: 23.8020\n",
            "Epoch 13/75\n",
            "4/4 [==============================] - 0s 4ms/step - loss: 23.3417\n",
            "Epoch 14/75\n",
            "4/4 [==============================] - 0s 4ms/step - loss: 22.9329\n",
            "Epoch 15/75\n",
            "4/4 [==============================] - 0s 4ms/step - loss: 22.4523\n",
            "Epoch 16/75\n",
            "4/4 [==============================] - 0s 4ms/step - loss: 22.0116\n",
            "Epoch 17/75\n",
            "4/4 [==============================] - 0s 4ms/step - loss: 21.5350\n",
            "Epoch 18/75\n",
            "4/4 [==============================] - 0s 4ms/step - loss: 21.0220\n",
            "Epoch 19/75\n",
            "4/4 [==============================] - 0s 4ms/step - loss: 20.5334\n",
            "Epoch 20/75\n",
            "4/4 [==============================] - 0s 4ms/step - loss: 20.0463\n",
            "Epoch 21/75\n",
            "4/4 [==============================] - 0s 4ms/step - loss: 19.5769\n",
            "Epoch 22/75\n",
            "4/4 [==============================] - 0s 4ms/step - loss: 19.0537\n",
            "Epoch 23/75\n",
            "4/4 [==============================] - 0s 4ms/step - loss: 18.5181\n",
            "Epoch 24/75\n",
            "4/4 [==============================] - 0s 5ms/step - loss: 18.0225\n",
            "Epoch 25/75\n",
            "4/4 [==============================] - 0s 4ms/step - loss: 17.4984\n",
            "Epoch 26/75\n",
            "4/4 [==============================] - 0s 4ms/step - loss: 16.9732\n",
            "Epoch 27/75\n",
            "4/4 [==============================] - 0s 4ms/step - loss: 16.4229\n",
            "Epoch 28/75\n",
            "4/4 [==============================] - 0s 8ms/step - loss: 15.9061\n",
            "Epoch 29/75\n",
            "4/4 [==============================] - 0s 4ms/step - loss: 15.4271\n",
            "Epoch 30/75\n",
            "4/4 [==============================] - 0s 4ms/step - loss: 14.8758\n",
            "Epoch 31/75\n",
            "4/4 [==============================] - 0s 4ms/step - loss: 14.3244\n",
            "Epoch 32/75\n",
            "4/4 [==============================] - 0s 4ms/step - loss: 13.8611\n",
            "Epoch 33/75\n",
            "4/4 [==============================] - 0s 5ms/step - loss: 13.3342\n",
            "Epoch 34/75\n",
            "4/4 [==============================] - 0s 4ms/step - loss: 12.7908\n",
            "Epoch 35/75\n",
            "4/4 [==============================] - 0s 4ms/step - loss: 12.2585\n",
            "Epoch 36/75\n",
            "4/4 [==============================] - 0s 7ms/step - loss: 11.7908\n",
            "Epoch 37/75\n",
            "4/4 [==============================] - 0s 4ms/step - loss: 11.2797\n",
            "Epoch 38/75\n",
            "4/4 [==============================] - 0s 4ms/step - loss: 10.8267\n",
            "Epoch 39/75\n",
            "4/4 [==============================] - 0s 4ms/step - loss: 10.3479\n",
            "Epoch 40/75\n",
            "4/4 [==============================] - 0s 5ms/step - loss: 9.8201\n",
            "Epoch 41/75\n",
            "4/4 [==============================] - 0s 4ms/step - loss: 9.3844\n",
            "Epoch 42/75\n",
            "4/4 [==============================] - 0s 4ms/step - loss: 8.9443\n",
            "Epoch 43/75\n",
            "4/4 [==============================] - 0s 4ms/step - loss: 8.5537\n",
            "Epoch 44/75\n",
            "4/4 [==============================] - 0s 4ms/step - loss: 8.0820\n",
            "Epoch 45/75\n",
            "4/4 [==============================] - 0s 6ms/step - loss: 7.7066\n",
            "Epoch 46/75\n",
            "4/4 [==============================] - 0s 4ms/step - loss: 7.2926\n",
            "Epoch 47/75\n",
            "4/4 [==============================] - 0s 4ms/step - loss: 6.9422\n",
            "Epoch 48/75\n",
            "4/4 [==============================] - 0s 4ms/step - loss: 6.5038\n",
            "Epoch 49/75\n",
            "4/4 [==============================] - 0s 6ms/step - loss: 6.1650\n",
            "Epoch 50/75\n",
            "4/4 [==============================] - 0s 4ms/step - loss: 5.8321\n",
            "Epoch 51/75\n",
            "4/4 [==============================] - 0s 4ms/step - loss: 5.5365\n",
            "Epoch 52/75\n",
            "4/4 [==============================] - 0s 4ms/step - loss: 5.1821\n",
            "Epoch 53/75\n",
            "4/4 [==============================] - 0s 5ms/step - loss: 4.9434\n",
            "Epoch 54/75\n",
            "4/4 [==============================] - 0s 4ms/step - loss: 4.5765\n",
            "Epoch 55/75\n",
            "4/4 [==============================] - 0s 5ms/step - loss: 4.3851\n",
            "Epoch 56/75\n",
            "4/4 [==============================] - 0s 4ms/step - loss: 4.0999\n",
            "Epoch 57/75\n",
            "4/4 [==============================] - 0s 5ms/step - loss: 3.8189\n",
            "Epoch 58/75\n",
            "4/4 [==============================] - 0s 4ms/step - loss: 3.6442\n",
            "Epoch 59/75\n",
            "4/4 [==============================] - 0s 6ms/step - loss: 3.3697\n",
            "Epoch 60/75\n",
            "4/4 [==============================] - 0s 4ms/step - loss: 3.1818\n",
            "Epoch 61/75\n",
            "4/4 [==============================] - 0s 4ms/step - loss: 3.0010\n",
            "Epoch 62/75\n",
            "4/4 [==============================] - 0s 4ms/step - loss: 2.8850\n",
            "Epoch 63/75\n",
            "4/4 [==============================] - 0s 4ms/step - loss: 2.6882\n",
            "Epoch 64/75\n",
            "4/4 [==============================] - 0s 4ms/step - loss: 2.5401\n",
            "Epoch 65/75\n",
            "4/4 [==============================] - 0s 5ms/step - loss: 2.3834\n",
            "Epoch 66/75\n",
            "4/4 [==============================] - 0s 5ms/step - loss: 2.2825\n",
            "Epoch 67/75\n",
            "4/4 [==============================] - 0s 4ms/step - loss: 2.1554\n",
            "Epoch 68/75\n",
            "4/4 [==============================] - 0s 4ms/step - loss: 2.0305\n",
            "Epoch 69/75\n",
            "4/4 [==============================] - 0s 4ms/step - loss: 1.9154\n",
            "Epoch 70/75\n",
            "4/4 [==============================] - 0s 4ms/step - loss: 1.8338\n",
            "Epoch 71/75\n",
            "4/4 [==============================] - 0s 4ms/step - loss: 1.7409\n",
            "Epoch 72/75\n",
            "4/4 [==============================] - 0s 5ms/step - loss: 1.6782\n",
            "Epoch 73/75\n",
            "4/4 [==============================] - 0s 4ms/step - loss: 1.6095\n",
            "Epoch 74/75\n",
            "4/4 [==============================] - 0s 4ms/step - loss: 1.5481\n",
            "Epoch 75/75\n",
            "4/4 [==============================] - 0s 5ms/step - loss: 1.4916\n"
          ]
        },
        {
          "output_type": "execute_result",
          "data": {
            "text/plain": [
              "<keras.callbacks.History at 0x7f63ec2ff250>"
            ]
          },
          "metadata": {},
          "execution_count": 18
        }
      ]
    },
    {
      "cell_type": "code",
      "source": [
        "model.get_weights()"
      ],
      "metadata": {
        "colab": {
          "base_uri": "https://localhost:8080/"
        },
        "id": "VHUOhXetU380",
        "outputId": "06ebf6c6-cbdc-48d0-e498-785592d9a6f5"
      },
      "execution_count": 19,
      "outputs": [
        {
          "output_type": "execute_result",
          "data": {
            "text/plain": [
              "[array([[0.37330976, 0.37330976],\n",
              "        [0.36550155, 0.36550155]], dtype=float32),\n",
              " array([0.27211905, 0.27211905], dtype=float32),\n",
              " array([[0.37271568],\n",
              "        [0.37271568]], dtype=float32),\n",
              " array([0.20480332], dtype=float32)]"
            ]
          },
          "metadata": {},
          "execution_count": 19
        }
      ]
    },
    {
      "cell_type": "code",
      "source": [],
      "metadata": {
        "id": "cqd8yxkkVGOu"
      },
      "execution_count": null,
      "outputs": []
    }
  ]
}