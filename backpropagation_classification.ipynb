{
  "nbformat": 4,
  "nbformat_minor": 0,
  "metadata": {
    "colab": {
      "provenance": [],
      "authorship_tag": "ABX9TyOrIYzFpD4eQRNerbxFsNpN",
      "include_colab_link": true
    },
    "kernelspec": {
      "name": "python3",
      "display_name": "Python 3"
    },
    "language_info": {
      "name": "python"
    }
  },
  "cells": [
    {
      "cell_type": "markdown",
      "metadata": {
        "id": "view-in-github",
        "colab_type": "text"
      },
      "source": [
        "<a href=\"https://colab.research.google.com/github/jitendra986/100-Days-of-Deep-Learning/blob/main/backpropagation_classification.ipynb\" target=\"_parent\"><img src=\"https://colab.research.google.com/assets/colab-badge.svg\" alt=\"Open In Colab\"/></a>"
      ]
    },
    {
      "cell_type": "code",
      "execution_count": 1,
      "metadata": {
        "id": "onLmPwJG0JPD"
      },
      "outputs": [],
      "source": [
        "import numpy as np\n",
        "import pandas as pd"
      ]
    },
    {
      "cell_type": "code",
      "source": [
        "df = pd.DataFrame([[8,8,1],[7,9,1],[6,10,0],[5,5,0]], columns=['cgpa','profile_score','placed'])"
      ],
      "metadata": {
        "id": "UI1Ojcrq0YkF"
      },
      "execution_count": 2,
      "outputs": []
    },
    {
      "cell_type": "code",
      "source": [
        "df"
      ],
      "metadata": {
        "colab": {
          "base_uri": "https://localhost:8080/",
          "height": 175
        },
        "id": "0eEgdCFJ0dO_",
        "outputId": "bab55494-3a50-4737-f5bb-1c82f19fa77b"
      },
      "execution_count": 3,
      "outputs": [
        {
          "output_type": "execute_result",
          "data": {
            "text/plain": [
              "   cgpa  profile_score  placed\n",
              "0     8              8       1\n",
              "1     7              9       1\n",
              "2     6             10       0\n",
              "3     5              5       0"
            ],
            "text/html": [
              "\n",
              "  <div id=\"df-c6ca8d22-6bab-4799-86e6-ae4f3aaf035f\">\n",
              "    <div class=\"colab-df-container\">\n",
              "      <div>\n",
              "<style scoped>\n",
              "    .dataframe tbody tr th:only-of-type {\n",
              "        vertical-align: middle;\n",
              "    }\n",
              "\n",
              "    .dataframe tbody tr th {\n",
              "        vertical-align: top;\n",
              "    }\n",
              "\n",
              "    .dataframe thead th {\n",
              "        text-align: right;\n",
              "    }\n",
              "</style>\n",
              "<table border=\"1\" class=\"dataframe\">\n",
              "  <thead>\n",
              "    <tr style=\"text-align: right;\">\n",
              "      <th></th>\n",
              "      <th>cgpa</th>\n",
              "      <th>profile_score</th>\n",
              "      <th>placed</th>\n",
              "    </tr>\n",
              "  </thead>\n",
              "  <tbody>\n",
              "    <tr>\n",
              "      <th>0</th>\n",
              "      <td>8</td>\n",
              "      <td>8</td>\n",
              "      <td>1</td>\n",
              "    </tr>\n",
              "    <tr>\n",
              "      <th>1</th>\n",
              "      <td>7</td>\n",
              "      <td>9</td>\n",
              "      <td>1</td>\n",
              "    </tr>\n",
              "    <tr>\n",
              "      <th>2</th>\n",
              "      <td>6</td>\n",
              "      <td>10</td>\n",
              "      <td>0</td>\n",
              "    </tr>\n",
              "    <tr>\n",
              "      <th>3</th>\n",
              "      <td>5</td>\n",
              "      <td>5</td>\n",
              "      <td>0</td>\n",
              "    </tr>\n",
              "  </tbody>\n",
              "</table>\n",
              "</div>\n",
              "      <button class=\"colab-df-convert\" onclick=\"convertToInteractive('df-c6ca8d22-6bab-4799-86e6-ae4f3aaf035f')\"\n",
              "              title=\"Convert this dataframe to an interactive table.\"\n",
              "              style=\"display:none;\">\n",
              "        \n",
              "  <svg xmlns=\"http://www.w3.org/2000/svg\" height=\"24px\"viewBox=\"0 0 24 24\"\n",
              "       width=\"24px\">\n",
              "    <path d=\"M0 0h24v24H0V0z\" fill=\"none\"/>\n",
              "    <path d=\"M18.56 5.44l.94 2.06.94-2.06 2.06-.94-2.06-.94-.94-2.06-.94 2.06-2.06.94zm-11 1L8.5 8.5l.94-2.06 2.06-.94-2.06-.94L8.5 2.5l-.94 2.06-2.06.94zm10 10l.94 2.06.94-2.06 2.06-.94-2.06-.94-.94-2.06-.94 2.06-2.06.94z\"/><path d=\"M17.41 7.96l-1.37-1.37c-.4-.4-.92-.59-1.43-.59-.52 0-1.04.2-1.43.59L10.3 9.45l-7.72 7.72c-.78.78-.78 2.05 0 2.83L4 21.41c.39.39.9.59 1.41.59.51 0 1.02-.2 1.41-.59l7.78-7.78 2.81-2.81c.8-.78.8-2.07 0-2.86zM5.41 20L4 18.59l7.72-7.72 1.47 1.35L5.41 20z\"/>\n",
              "  </svg>\n",
              "      </button>\n",
              "      \n",
              "  <style>\n",
              "    .colab-df-container {\n",
              "      display:flex;\n",
              "      flex-wrap:wrap;\n",
              "      gap: 12px;\n",
              "    }\n",
              "\n",
              "    .colab-df-convert {\n",
              "      background-color: #E8F0FE;\n",
              "      border: none;\n",
              "      border-radius: 50%;\n",
              "      cursor: pointer;\n",
              "      display: none;\n",
              "      fill: #1967D2;\n",
              "      height: 32px;\n",
              "      padding: 0 0 0 0;\n",
              "      width: 32px;\n",
              "    }\n",
              "\n",
              "    .colab-df-convert:hover {\n",
              "      background-color: #E2EBFA;\n",
              "      box-shadow: 0px 1px 2px rgba(60, 64, 67, 0.3), 0px 1px 3px 1px rgba(60, 64, 67, 0.15);\n",
              "      fill: #174EA6;\n",
              "    }\n",
              "\n",
              "    [theme=dark] .colab-df-convert {\n",
              "      background-color: #3B4455;\n",
              "      fill: #D2E3FC;\n",
              "    }\n",
              "\n",
              "    [theme=dark] .colab-df-convert:hover {\n",
              "      background-color: #434B5C;\n",
              "      box-shadow: 0px 1px 3px 1px rgba(0, 0, 0, 0.15);\n",
              "      filter: drop-shadow(0px 1px 2px rgba(0, 0, 0, 0.3));\n",
              "      fill: #FFFFFF;\n",
              "    }\n",
              "  </style>\n",
              "\n",
              "      <script>\n",
              "        const buttonEl =\n",
              "          document.querySelector('#df-c6ca8d22-6bab-4799-86e6-ae4f3aaf035f button.colab-df-convert');\n",
              "        buttonEl.style.display =\n",
              "          google.colab.kernel.accessAllowed ? 'block' : 'none';\n",
              "\n",
              "        async function convertToInteractive(key) {\n",
              "          const element = document.querySelector('#df-c6ca8d22-6bab-4799-86e6-ae4f3aaf035f');\n",
              "          const dataTable =\n",
              "            await google.colab.kernel.invokeFunction('convertToInteractive',\n",
              "                                                     [key], {});\n",
              "          if (!dataTable) return;\n",
              "\n",
              "          const docLinkHtml = 'Like what you see? Visit the ' +\n",
              "            '<a target=\"_blank\" href=https://colab.research.google.com/notebooks/data_table.ipynb>data table notebook</a>'\n",
              "            + ' to learn more about interactive tables.';\n",
              "          element.innerHTML = '';\n",
              "          dataTable['output_type'] = 'display_data';\n",
              "          await google.colab.output.renderOutput(dataTable, element);\n",
              "          const docLink = document.createElement('div');\n",
              "          docLink.innerHTML = docLinkHtml;\n",
              "          element.appendChild(docLink);\n",
              "        }\n",
              "      </script>\n",
              "    </div>\n",
              "  </div>\n",
              "  "
            ]
          },
          "metadata": {},
          "execution_count": 3
        }
      ]
    },
    {
      "cell_type": "code",
      "source": [
        "def initialize_parameters(layer_dims):\n",
        "  np.random.seed(3)\n",
        "  parameters = {}\n",
        "  L = len(layer_dims)\n",
        "\n",
        "  for i in range(1,L):\n",
        "    parameters['W'+str(i)] = np.ones((layer_dims[i-1], layer_dims[i]))*0.1\n",
        "    parameters['b'+str(i)] = np.zeros((layer_dims[i], 1))\n",
        "\n",
        "  return parameters"
      ],
      "metadata": {
        "id": "IMJAOtqp0emr"
      },
      "execution_count": 4,
      "outputs": []
    },
    {
      "cell_type": "code",
      "source": [
        "#Utility Functions\n",
        "def sigmoid(Z):\n",
        "  A = 1/(1+np.exp(-Z))\n",
        "\n",
        "  return A"
      ],
      "metadata": {
        "id": "0-2Tq-Yd0zEc"
      },
      "execution_count": 5,
      "outputs": []
    },
    {
      "cell_type": "code",
      "source": [
        "def linear_forward(A_prev,W,b):\n",
        "  Z = np.dot(W.T, A_prev) +b\n",
        "\n",
        "  A=sigmoid(Z)\n",
        "\n",
        "  return A"
      ],
      "metadata": {
        "id": "CdzIFIJq1ZG4"
      },
      "execution_count": 6,
      "outputs": []
    },
    {
      "cell_type": "code",
      "source": [
        "# L-layer feed forward\n",
        "\n",
        "\n",
        "def L_layer_forward(X, parameters):\n",
        "\n",
        "  A=X\n",
        "  L = len(parameters)//2\n",
        "\n",
        "  for i in range(1, L+1):\n",
        "    A_prev = A\n",
        "    Wi = parameters['W'+str(i)]\n",
        "    bi = parameters['b'+str(i)]\n",
        "\n",
        "    # print(\"A\"+str(i-1)+\": \", A_prev)\n",
        "    # print(\"W\"+str(i)+\": \", Wi)\n",
        "    # print(\"b\"+str(i)+\": \", bi)\n",
        "    # print(\"--\"*20)\n",
        "\n",
        "\n",
        "    A = linear_forward(A_prev,Wi, bi)\n",
        "    # print(\"A\"+str(i)+\": \", A)\n",
        "    # print(\"**\"*20)\n",
        "\n",
        "  return A, A_prev\n"
      ],
      "metadata": {
        "id": "rYWHJwUD1ns-"
      },
      "execution_count": 7,
      "outputs": []
    },
    {
      "cell_type": "code",
      "source": [
        "# 1st Student\n",
        "x = df[['cgpa', 'profile_score']].values[0].reshape(2,1) # Shape (no of features, no. of training example)\n",
        "y = df[['placed']].values[0][0]"
      ],
      "metadata": {
        "id": "wC7-RFGD2TRG"
      },
      "execution_count": 8,
      "outputs": []
    },
    {
      "cell_type": "code",
      "source": [
        "def update_parameters(parameters,y,y_hat,A1,x):\n",
        "  parameters['W2'][0][0]=parameters['W2'][0][0] + (0.0001*(y-y_hat)*A1[0][0])\n",
        "  parameters['W2'][1][0]=parameters['W2'][1][0] + (0.0001*(y-y_hat)*A1[1][0])\n",
        "  parameters['b2'][0][0]=parameters['b2'][0][0] + (0.0001*(y-y_hat))\n",
        "\n",
        "  parameters['W1'][0][0]=parameters['W1'][0][0] + (0.0001*(y-y_hat)*parameters['W2'][0][0]*A1[0][0]*(1-A1[0][0])*x[0][0])\n",
        "  parameters['W1'][0][1]=parameters['W1'][0][1] + (0.0001*(y-y_hat)*parameters['W2'][0][0]*A1[0][0]*(1-A1[0][0])*x[1][0])\n",
        "  parameters['b1'][0][0]=parameters['b1'][0][0] + (0.0001*(y-y_hat)*parameters['W2'][0][0]*A1[0][0]*(1-A1[0][0]))\n",
        "\n",
        "  parameters['W1'][1][0]=parameters['W1'][1][0] + (0.0001*(y-y_hat)*parameters['W2'][1][0]*A1[1][0]*(1-A1[1][0])*x[0][0])\n",
        "  parameters['W1'][1][1]=parameters['W1'][1][1] + (0.0001*(y-y_hat)*parameters['W2'][1][0]*A1[1][0]*(1-A1[1][0])*x[1][0])\n",
        "  parameters['b1'][1][0]=parameters['b1'][1][0] + (0.0001*(y-y_hat)*parameters['W2'][1][0]*A1[1][0]*(1-A1[1][0]))"
      ],
      "metadata": {
        "id": "AoUz-vYp2VY1"
      },
      "execution_count": 9,
      "outputs": []
    },
    {
      "cell_type": "code",
      "source": [
        "# Parameter initialization\n",
        "parameters = initialize_parameters([2,2,1])\n",
        "#x # gives first two values of first row\n",
        "#y # will give predicted value\n",
        "y_hat,A1=L_layer_forward(x, parameters)\n",
        "\n",
        "\n",
        "y_hat = y_hat[0][0]\n",
        "\n",
        "update_parameters(parameters,y,y_hat,A1,x)\n",
        "\n",
        "print('Loss for this student- ', -y*np.log(y_hat)-(1-y)*np.log(1-y_hat))\n",
        "parameters"
      ],
      "metadata": {
        "colab": {
          "base_uri": "https://localhost:8080/"
        },
        "id": "ChIr-3iM7mNF",
        "outputId": "51029f90-2f90-4aa6-8726-b1d748ccd3d0"
      },
      "execution_count": 10,
      "outputs": [
        {
          "output_type": "stream",
          "name": "stdout",
          "text": [
            "Loss for this student-  0.613402628898913\n"
          ]
        },
        {
          "output_type": "execute_result",
          "data": {
            "text/plain": [
              "{'W1': array([[0.10000513, 0.10000513],\n",
              "        [0.10000513, 0.10000513]]),\n",
              " 'b1': array([[6.41054186e-07],\n",
              "        [6.41054186e-07]]),\n",
              " 'W2': array([[0.10003815],\n",
              "        [0.10003815]]),\n",
              " 'b2': array([[4.5849481e-05]])}"
            ]
          },
          "metadata": {},
          "execution_count": 10
        }
      ]
    },
    {
      "cell_type": "code",
      "source": [
        "#2nd student\n",
        "x = df[['cgpa', 'profile_score']].values[1].reshape(2,1) # Shape (no of features, no. of training example)\n",
        "y = df[['placed']].values[1][0]\n",
        "\n",
        "#y # will give predicted value\n",
        "y_hat,A1=L_layer_forward(x, parameters)\n",
        "\n",
        "y_hat = y_hat[0][0]\n",
        "\n",
        "update_parameters(parameters,y,y_hat,A1,x)\n",
        "\n",
        "print('Loss for this student- ', -y*np.log(y_hat)-(1-y)*np.log(1-y_hat))\n",
        "parameters"
      ],
      "metadata": {
        "colab": {
          "base_uri": "https://localhost:8080/"
        },
        "id": "N7Ffr_2p8EKA",
        "outputId": "e6fe89fc-0283-4a9e-850e-0b36ca85b68b"
      },
      "execution_count": 11,
      "outputs": [
        {
          "output_type": "stream",
          "name": "stdout",
          "text": [
            "Loss for this student-  0.6133514436691428\n"
          ]
        },
        {
          "output_type": "execute_result",
          "data": {
            "text/plain": [
              "{'W1': array([[0.10000962, 0.1000109 ],\n",
              "        [0.10000962, 0.1000109 ]]),\n",
              " 'b1': array([[1.28227883e-06],\n",
              "        [1.28227883e-06]]),\n",
              " 'W2': array([[0.10007629],\n",
              "        [0.10007629]]),\n",
              " 'b2': array([[9.16961903e-05]])}"
            ]
          },
          "metadata": {},
          "execution_count": 11
        }
      ]
    },
    {
      "cell_type": "code",
      "source": [
        "#3rd student\n",
        "x = df[['cgpa', 'profile_score']].values[2].reshape(2,1) # Shape (no of features, no. of training example)\n",
        "y = df[['placed']].values[2][0]\n",
        "\n",
        "#y # will give predicted value\n",
        "y_hat,A1=L_layer_forward(x, parameters)\n",
        "\n",
        "y_hat = y_hat[0][0]\n",
        "\n",
        "update_parameters(parameters,y,y_hat,A1,x)\n",
        "\n",
        "print('Loss for this student- ', -y*np.log(y_hat)-(1-y)*np.log(1-y_hat))\n",
        "parameters"
      ],
      "metadata": {
        "colab": {
          "base_uri": "https://localhost:8080/"
        },
        "id": "7sQgxfLK9lvB",
        "outputId": "3b14fe93-0afc-439f-b11e-9fef15f0c02e"
      },
      "execution_count": 12,
      "outputs": [
        {
          "output_type": "stream",
          "name": "stdout",
          "text": [
            "Loss for this student-  0.7799272184937318\n"
          ]
        },
        {
          "output_type": "execute_result",
          "data": {
            "text/plain": [
              "{'W1': array([[0.10000507, 0.10000333],\n",
              "        [0.10000507, 0.10000333]]),\n",
              " 'b1': array([[5.25214767e-07],\n",
              "        [5.25225084e-07]]),\n",
              " 'W2': array([[0.10003123],\n",
              "        [0.10003123]]),\n",
              " 'b2': array([[3.75401279e-05]])}"
            ]
          },
          "metadata": {},
          "execution_count": 12
        }
      ]
    },
    {
      "cell_type": "code",
      "source": [
        "#4th student\n",
        "x = df[['cgpa', 'profile_score']].values[3].reshape(2,1) # Shape (no of features, no. of training example)\n",
        "y = df[['placed']].values[3][0]\n",
        "\n",
        "#y # will give predicted value\n",
        "y_hat,A1=L_layer_forward(x, parameters)\n",
        "\n",
        "y_hat = y_hat[0][0]\n",
        "\n",
        "update_parameters(parameters,y,y_hat,A1,x)\n",
        "\n",
        "print('Loss for this student- ', -y*np.log(y_hat)-(1-y)*np.log(1-y_hat))\n",
        "parameters"
      ],
      "metadata": {
        "colab": {
          "base_uri": "https://localhost:8080/"
        },
        "id": "hkBiJbZG-6eK",
        "outputId": "3c5b9eb7-9d53-4cee-ba17-35ad5f1ae862"
      },
      "execution_count": 13,
      "outputs": [
        {
          "output_type": "stream",
          "name": "stdout",
          "text": [
            "Loss for this student-  0.7689684329362058\n"
          ]
        },
        {
          "output_type": "execute_result",
          "data": {
            "text/plain": [
              "{'W1': array([[0.0999998 , 0.09999806],\n",
              "        [0.0999998 , 0.09999806]]),\n",
              " 'b1': array([[-5.29516797e-07],\n",
              "        [-5.29514990e-07]]),\n",
              " 'W2': array([[0.09999201],\n",
              "        [0.09999201]]),\n",
              " 'b2': array([[-1.61107777e-05]])}"
            ]
          },
          "metadata": {},
          "execution_count": 13
        }
      ]
    },
    {
      "cell_type": "code",
      "source": [
        "#epoch implementation\n",
        "\n",
        "parameters = initialize_parameters([2,2,1])\n",
        "\n",
        "epochs = 50\n",
        "\n",
        "for i in range(epochs):\n",
        "  Loss = []\n",
        "\n",
        "  for j in range(df.shape[0]):\n",
        "    x = df[['cgpa', 'profile_score']].values[j].reshape(2,1) # Shape (no of features, no. of training example)\n",
        "    y = df[['placed']].values[j][0]\n",
        "\n",
        "    # Parameter initialization\n",
        "\n",
        "    y_hat,A1=L_layer_forward(x, parameters)\n",
        "    y_hat = y_hat[0][0]\n",
        "\n",
        "    update_parameters(parameters,y,y_hat,A1,x)\n",
        "    Loss.append(-y*np.log(y_hat)-(1-y)*np.log(1-y_hat))\n",
        "\n",
        "  print('Epoch -', i+1, 'Loss -',np.array(Loss).mean())\n",
        "\n",
        "parameters"
      ],
      "metadata": {
        "colab": {
          "base_uri": "https://localhost:8080/"
        },
        "id": "t8S9dB2c_KBb",
        "outputId": "c42aff5a-4c62-417c-d8bb-ccc9dbcf6e67"
      },
      "execution_count": 14,
      "outputs": [
        {
          "output_type": "stream",
          "name": "stdout",
          "text": [
            "Epoch - 1 Loss - 0.6939124309994983\n",
            "Epoch - 2 Loss - 0.6939114509742006\n",
            "Epoch - 3 Loss - 0.6939104713855384\n",
            "Epoch - 4 Loss - 0.6939094922333021\n",
            "Epoch - 5 Loss - 0.6939085135172819\n",
            "Epoch - 6 Loss - 0.6939075352372682\n",
            "Epoch - 7 Loss - 0.6939065573930516\n",
            "Epoch - 8 Loss - 0.6939055799844227\n",
            "Epoch - 9 Loss - 0.6939046030111722\n",
            "Epoch - 10 Loss - 0.693903626473091\n",
            "Epoch - 11 Loss - 0.6939026503699699\n",
            "Epoch - 12 Loss - 0.6939016747016002\n",
            "Epoch - 13 Loss - 0.6939006994677729\n",
            "Epoch - 14 Loss - 0.6938997246682792\n",
            "Epoch - 15 Loss - 0.6938987503029107\n",
            "Epoch - 16 Loss - 0.6938977763714584\n",
            "Epoch - 17 Loss - 0.6938968028737142\n",
            "Epoch - 18 Loss - 0.6938958298094697\n",
            "Epoch - 19 Loss - 0.6938948571785166\n",
            "Epoch - 20 Loss - 0.6938938849806471\n",
            "Epoch - 21 Loss - 0.6938929132156526\n",
            "Epoch - 22 Loss - 0.6938919418833256\n",
            "Epoch - 23 Loss - 0.693890970983458\n",
            "Epoch - 24 Loss - 0.6938900005158424\n",
            "Epoch - 25 Loss - 0.6938890304802711\n",
            "Epoch - 26 Loss - 0.6938880608765363\n",
            "Epoch - 27 Loss - 0.6938870917044309\n",
            "Epoch - 28 Loss - 0.6938861229637474\n",
            "Epoch - 29 Loss - 0.6938851546542789\n",
            "Epoch - 30 Loss - 0.6938841867758179\n",
            "Epoch - 31 Loss - 0.6938832193281578\n",
            "Epoch - 32 Loss - 0.6938822523110912\n",
            "Epoch - 33 Loss - 0.6938812857244119\n",
            "Epoch - 34 Loss - 0.6938803195679129\n",
            "Epoch - 35 Loss - 0.6938793538413873\n",
            "Epoch - 36 Loss - 0.6938783885446289\n",
            "Epoch - 37 Loss - 0.6938774236774317\n",
            "Epoch - 38 Loss - 0.693876459239589\n",
            "Epoch - 39 Loss - 0.6938754952308946\n",
            "Epoch - 40 Loss - 0.6938745316511425\n",
            "Epoch - 41 Loss - 0.6938735685001267\n",
            "Epoch - 42 Loss - 0.6938726057776414\n",
            "Epoch - 43 Loss - 0.6938716434834808\n",
            "Epoch - 44 Loss - 0.6938706816174391\n",
            "Epoch - 45 Loss - 0.693869720179311\n",
            "Epoch - 46 Loss - 0.6938687591688908\n",
            "Epoch - 47 Loss - 0.6938677985859731\n",
            "Epoch - 48 Loss - 0.693866838430353\n",
            "Epoch - 49 Loss - 0.6938658787018248\n",
            "Epoch - 50 Loss - 0.6938649194001839\n"
          ]
        },
        {
          "output_type": "execute_result",
          "data": {
            "text/plain": [
              "{'W1': array([[0.09999042, 0.09990338],\n",
              "        [0.09999049, 0.0999034 ]]),\n",
              " 'b1': array([[-2.63694652e-05],\n",
              "        [-2.63678488e-05]]),\n",
              " 'W2': array([[0.09960344],\n",
              "        [0.09960349]]),\n",
              " 'b2': array([[-0.00080196]])}"
            ]
          },
          "metadata": {},
          "execution_count": 14
        }
      ]
    },
    {
      "cell_type": "code",
      "source": [],
      "metadata": {
        "id": "HvQfyV_fAHyy"
      },
      "execution_count": null,
      "outputs": []
    }
  ]
}